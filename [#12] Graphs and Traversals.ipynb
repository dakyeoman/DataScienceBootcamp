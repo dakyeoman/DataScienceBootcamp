{
 "cells": [
  {
   "cell_type": "markdown",
   "id": "f6d6b166",
   "metadata": {},
   "source": [
    "## Graphs\n",
    "- A set of nodes and a set of edges(including Zero edge), each of which connects two nodes\n",
    ": all tree is graphs\n",
    "\n",
    "\n",
    "### Simple Graphs\n",
    "- No Loop: an edge that connects a node to itself node, such as 튜플 (v, v)\n",
    "- No Parallele edge: two edges that connects the same nodes, such as el = (v, w) and e2= (v, w) >>> 두 노드를 연결하는 엣지는 유일하다."
   ]
  },
  {
   "cell_type": "markdown",
   "id": "2f45d1a7",
   "metadata": {},
   "source": [
    "#### Terms\n",
    "\n",
    "Vertex: a node \n",
    "\n",
    "Edge: a pair of vertices\n",
    "- (v,w) where v and w are vertices\n",
    "\n",
    "Two vertices which have an edge between are adjacent\n",
    "- if a graph has an edge(v,w), vertices v and w are adjacent(인접함)\n",
    "- edge로 연결된 두 vertex는 이웃 관계\n",
    "\n",
    "A path: a sequence of vertices connected by edges\n",
    "- if there are three edges in a graph, (v,w), (w,y), and (y,z), the graph has a path (v,w,y,z)\n",
    "- path가 있으면 connected\n",
    "\n",
    "Simple path: A path w/ unique(non-repeated) vertices\n",
    "- (v,w,y,v,z) = Path는 맞지만 simple path는 아님\n",
    "\n",
    "Cycle: 시작과 마지막 vertice가 같을 경우 (v,w,y,v)\n",
    "- Cyclic Graph: cycle을 포함하는 그래프\n",
    "- Acyclic Graph: cycle을 포함하지 않는 그래프 e.g. Tree\n",
    "\n",
    "Connected: Path로 연결되어 있는 경우 \n",
    "\n",
    "방향성의 유무: Directed(like an arrow) & undirected(like a line)\n",
    "- e.g. (v,w)\n",
    "    - 일방향 ndirected, v and w can reach each other\n",
    "    - 양방향 directed, v can go to w, not vice versa"
   ]
  },
  {
   "cell_type": "markdown",
   "id": "9f7fe6e2",
   "metadata": {},
   "source": [
    "Q. 지하철 노선도는 Tree or graph?\n",
    "- Graph(or tree)\n",
    "- Cyclic Graph(or Acyclic.): 사이클을 가진다. 유일한 Path가 아님. \n",
    "- Connected(or not)\n",
    "- Undirected(or directed)\n",
    "\n",
    "Graphs in Practice\n",
    "- 뇌과학, Mash in 3D그래픽, 항공 노선도, Social Network"
   ]
  },
  {
   "cell_type": "markdown",
   "id": "72ede7f7",
   "metadata": {},
   "source": [
    "# Graph Construction\n",
    "*undirected graph only\n",
    "\n",
    "Given vertices V and edges E, build relationship between the verices"
   ]
  },
  {
   "cell_type": "code",
   "execution_count": 4,
   "id": "1d26e4b6",
   "metadata": {},
   "outputs": [],
   "source": [
    "class undi_graph():\n",
    "    def __init__(self, V:list, E:list) -> None:\n",
    "        self.V = V[:]\n",
    "        self.neighber = {} #neighbor - dictionary\n",
    "        \n",
    "        for v in V:\n",
    "            self.neighbor[v] = [] #빈 리스트로 정의\n",
    "        \n",
    "        for (v, w) in E: #양방향\n",
    "            self.neighbor[v].append(w)\n",
    "            self.neighbor[w].append(v)\n",
    "            \n"
   ]
  },
  {
   "cell_type": "markdown",
   "id": "413072e1",
   "metadata": {},
   "source": [
    "## Graph Traversals (for EVERY Nodes)\n",
    "- Graphs have \"CYCLES\" and can be \"DISCONNECTED\""
   ]
  },
  {
   "cell_type": "markdown",
   "id": "32da0eb0",
   "metadata": {},
   "source": [
    "### Depth-first Traversal - Precorder\n",
    "\n",
    "***\n",
    "\n",
    "point1. Now we should \"mark the nodes\" we already visited to handle cycles \n",
    "- visited = {}\n",
    "Point2. Now one __ DFTHelp call is \"not enough\" to traversal a disconnected graph\n",
    "- 메인 함수에서 for loop이 돌아가야 한다"
   ]
  },
  {
   "cell_type": "code",
   "execution_count": 8,
   "id": "210f02b4",
   "metadata": {},
   "outputs": [],
   "source": [
    "class undi_graph():\n",
    "    def __DFTHelp(self, visited:list, v:int) -> None:\n",
    "        \n",
    "        #visited되지 않은 경우(아래)\n",
    "        if not visited[v]:#v가 visited되었으면 아무 일도 일어나지 않음. \n",
    "            visited[v] = True\n",
    "            print(v) #***모든 노드를 겹치지 않고 프린트했는지가 중요\n",
    "            \n",
    "            for w in self.neighbor[v]:\n",
    "                self.__DFTHelp(visited, w)\n",
    "    \n",
    "    def DFT(self) -> None:\n",
    "        if self.V:\n",
    "            #***visited 리스트를 선언 - 이를 관리하기 위한 initial 단계가 생김\n",
    "            #그래프는 사이클이 있기 때문에 방문한 기록을 남겨야\n",
    "            visited = {}\n",
    "            for v in self.V:\n",
    "                visited[v] = False \n",
    "                #Traversal하면서 점차 True가 늘어나게 된다\n",
    "                \n",
    "            for v in self.V:\n",
    "                self.__DFTHelp(visited, v)\n",
    "                #***연결되지 않은 노드가 있어서, 이것만으로는 모든 노드를 방문할 수 없다. \n",
    "                # >>> for loop을 사용 "
   ]
  },
  {
   "cell_type": "markdown",
   "id": "f90e0a4d",
   "metadata": {},
   "source": [
    "#### DFT\n",
    "1. node의 두 vertice가 connected 되어있는지 판별:\n",
    "- DFT 돌려서, dfthelp를 실행하는 도중에 visited 되면 connected 된 것\n",
    "\n",
    "2. 모든 vertice가 connected 되었는지 확인:\n",
    "- DFT 메인 함수에서 for loop을 없애고 dft만 실행했는데 모든 노드가 visit 되면 모든 vertice가 연결되어 있는 것.\n",
    "\n",
    "3. 그래프에 disjoint islands가 몇 개인지 확인:\n",
    "- DFT 코드 실행; 메인 함수에서 몇 번이나 유효한 동작이 카운트되는지 = 섬의 개수\n",
    "- DFTHelp; for loop의 False -> True 횟수 카운트 (?)\n",
    "\n",
    "4. Graph에 Cycle이 있는가? \n",
    "- DFTHelp를 실행했는데 visited가 True = cycle이 존재\n",
    "\n",
    "*dft 구현만 제대로 할 수 있으면 쉽게 풀 수 있다. "
   ]
  },
  {
   "cell_type": "markdown",
   "id": "0d04be9b",
   "metadata": {},
   "source": [
    "### Summary\n",
    "\n",
    "1. Graph is a more general concept than tree\n",
    "- Cycle and disconnection\n",
    "\n",
    "2. Graph traversals are a bit different from tree traversals; but their \"core ideas are the same\"\n",
    "- Depth first traversals\n",
    "- Breadth first traversals\n",
    "\n",
    "3. Graph traversal: Most common tools for soling graph problems"
   ]
  },
  {
   "cell_type": "code",
   "execution_count": null,
   "id": "6f8cb199",
   "metadata": {},
   "outputs": [],
   "source": []
  }
 ],
 "metadata": {
  "kernelspec": {
   "display_name": "Python 3 (ipykernel)",
   "language": "python",
   "name": "python3"
  },
  "language_info": {
   "codemirror_mode": {
    "name": "ipython",
    "version": 3
   },
   "file_extension": ".py",
   "mimetype": "text/x-python",
   "name": "python",
   "nbconvert_exporter": "python",
   "pygments_lexer": "ipython3",
   "version": "3.9.10"
  }
 },
 "nbformat": 4,
 "nbformat_minor": 5
}
