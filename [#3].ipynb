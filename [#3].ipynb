{
 "cells": [
  {
   "cell_type": "markdown",
   "id": "20f2cd01",
   "metadata": {},
   "source": [
    "# String type"
   ]
  },
  {
   "cell_type": "markdown",
   "id": "ce106e0f",
   "metadata": {},
   "source": [
    "### Built-in Operations on Strings"
   ]
  },
  {
   "cell_type": "code",
   "execution_count": 21,
   "id": "046d7f03",
   "metadata": {},
   "outputs": [
    {
     "data": {
      "text/plain": [
       "str"
      ]
     },
     "execution_count": 21,
     "metadata": {},
     "output_type": "execute_result"
    }
   ],
   "source": [
    "type(\"19.3\")"
   ]
  },
  {
   "cell_type": "code",
   "execution_count": 22,
   "id": "0790141d",
   "metadata": {},
   "outputs": [
    {
     "data": {
      "text/plain": [
       "int"
      ]
     },
     "execution_count": 22,
     "metadata": {},
     "output_type": "execute_result"
    }
   ],
   "source": [
    "type(int('13'))"
   ]
  },
  {
   "cell_type": "code",
   "execution_count": 9,
   "id": "e11f4198",
   "metadata": {},
   "outputs": [
    {
     "data": {
      "text/plain": [
       "9"
      ]
     },
     "execution_count": 9,
     "metadata": {},
     "output_type": "execute_result"
    }
   ],
   "source": [
    "len(\"Functions\") #문자열 세기"
   ]
  },
  {
   "cell_type": "code",
   "execution_count": 29,
   "id": "b069ddf6",
   "metadata": {},
   "outputs": [],
   "source": [
    "Greeting = \"Hello! \""
   ]
  },
  {
   "cell_type": "code",
   "execution_count": 30,
   "id": "fef13b6a",
   "metadata": {},
   "outputs": [],
   "source": [
    "my_name = \"Dakyeom Ahn\""
   ]
  },
  {
   "cell_type": "code",
   "execution_count": 31,
   "id": "03a78c1b",
   "metadata": {},
   "outputs": [
    {
     "data": {
      "text/plain": [
       "'Hello! Dakyeom Ahn'"
      ]
     },
     "execution_count": 31,
     "metadata": {},
     "output_type": "execute_result"
    }
   ],
   "source": [
    "Greeting + my_name"
   ]
  },
  {
   "cell_type": "markdown",
   "id": "346c53bc",
   "metadata": {},
   "source": [
    "### Special Characters in Strings"
   ]
  },
  {
   "cell_type": "code",
   "execution_count": 74,
   "id": "e40ca84b",
   "metadata": {},
   "outputs": [],
   "source": [
    "#\\': single quote  \\\\: backslash  \\n: Newline\n",
    "#\\\": double quote  \\t: tab        \\r: Carriage return"
   ]
  },
  {
   "cell_type": "code",
   "execution_count": 80,
   "id": "f7836ac1",
   "metadata": {},
   "outputs": [
    {
     "data": {
      "text/plain": [
       "'I said \"I am studying\"'"
      ]
     },
     "execution_count": 80,
     "metadata": {},
     "output_type": "execute_result"
    }
   ],
   "source": [
    "\"I said \\\"I am studying\\\"\""
   ]
  },
  {
   "cell_type": "markdown",
   "id": "100dae5a",
   "metadata": {},
   "source": [
    "### Print"
   ]
  },
  {
   "cell_type": "code",
   "execution_count": 88,
   "id": "2d711ce7",
   "metadata": {},
   "outputs": [
    {
     "name": "stdout",
     "output_type": "stream",
     "text": [
      "1 2 3 Dakyeom Ahn\n"
     ]
    }
   ],
   "source": [
    "print(1, 1+1, 3, my_name) #type (X)"
   ]
  },
  {
   "cell_type": "code",
   "execution_count": 91,
   "id": "d70f47a5",
   "metadata": {},
   "outputs": [
    {
     "name": "stdout",
     "output_type": "stream",
     "text": [
      "Name\tNatonality\n",
      "Korean\n",
      "Cullr\tAmerican\n"
     ]
    }
   ],
   "source": [
    "print(\"Name\\tNatonality\\nKorean\\nCullr\\tAmerican\")"
   ]
  },
  {
   "cell_type": "markdown",
   "id": "0b184f6b",
   "metadata": {},
   "source": [
    "### Getting Input from the Keyboard"
   ]
  },
  {
   "cell_type": "code",
   "execution_count": 96,
   "id": "ce8ce7f0",
   "metadata": {},
   "outputs": [
    {
     "name": "stdout",
     "output_type": "stream",
     "text": [
      "Hi\n"
     ]
    }
   ],
   "source": [
    "a = input() #String Value"
   ]
  },
  {
   "cell_type": "code",
   "execution_count": 103,
   "id": "f490d385",
   "metadata": {},
   "outputs": [
    {
     "name": "stdout",
     "output_type": "stream",
     "text": [
      "Please enter your name dakyeom\n"
     ]
    }
   ],
   "source": [
    "name = input(\"Please enter your name \")"
   ]
  },
  {
   "cell_type": "markdown",
   "id": "48820d83",
   "metadata": {},
   "source": [
    "# Control – Making Choices"
   ]
  },
  {
   "cell_type": "markdown",
   "id": "57b306de",
   "metadata": {},
   "source": [
    "### Boolean Type: True and False & Operaters: not, and, or"
   ]
  },
  {
   "cell_type": "code",
   "execution_count": 106,
   "id": "6c495721",
   "metadata": {},
   "outputs": [],
   "source": [
    "a, b = 3, 20"
   ]
  },
  {
   "cell_type": "code",
   "execution_count": 107,
   "id": "5564c6cf",
   "metadata": {},
   "outputs": [
    {
     "data": {
      "text/plain": [
       "False"
      ]
     },
     "execution_count": 107,
     "metadata": {},
     "output_type": "execute_result"
    }
   ],
   "source": [
    "a > b"
   ]
  },
  {
   "cell_type": "code",
   "execution_count": 113,
   "id": "fac174f1",
   "metadata": {},
   "outputs": [
    {
     "data": {
      "text/plain": [
       "False"
      ]
     },
     "execution_count": 113,
     "metadata": {},
     "output_type": "execute_result"
    }
   ],
   "source": [
    "True and (3 == 3) and (7 > 3+4) #arithmetic(+-*/) - relational(><) - Boolean(True, False) Operators"
   ]
  },
  {
   "cell_type": "code",
   "execution_count": 112,
   "id": "99fea87c",
   "metadata": {},
   "outputs": [],
   "source": [
    "def is_positive(x:float) -> bool:\n",
    "    return x > 0"
   ]
  },
  {
   "cell_type": "code",
   "execution_count": 117,
   "id": "a08739ee",
   "metadata": {},
   "outputs": [
    {
     "data": {
      "text/plain": [
       "True"
      ]
     },
     "execution_count": 117,
     "metadata": {},
     "output_type": "execute_result"
    }
   ],
   "source": [
    "is_positive(3)"
   ]
  },
  {
   "cell_type": "markdown",
   "id": "6444332e",
   "metadata": {},
   "source": [
    "### A String inside Another String: \"in\" operator"
   ]
  },
  {
   "cell_type": "code",
   "execution_count": 2,
   "id": "c84ac803",
   "metadata": {},
   "outputs": [
    {
     "name": "stdout",
     "output_type": "stream",
     "text": [
      "True True True\n"
     ]
    }
   ],
   "source": [
    "print(\"Sep\" in \"09 Sep 2020\", \"\" in \"abc\",  \"\" in \"\")"
   ]
  },
  {
   "cell_type": "code",
   "execution_count": 5,
   "id": "35bee7aa",
   "metadata": {},
   "outputs": [
    {
     "name": "stdout",
     "output_type": "stream",
     "text": [
      "Enter your birthday in the format DD MTH YYYY: 20 MAR 2000\n"
     ]
    }
   ],
   "source": [
    "birthday = input(\"Enter your birthday in the format DD MTH YYYY: \")"
   ]
  },
  {
   "cell_type": "code",
   "execution_count": 6,
   "id": "092e8eb1",
   "metadata": {},
   "outputs": [
    {
     "data": {
      "text/plain": [
       "True"
      ]
     },
     "execution_count": 6,
     "metadata": {},
     "output_type": "execute_result"
    }
   ],
   "source": [
    "\"MAR\" in birthday"
   ]
  },
  {
   "cell_type": "markdown",
   "id": "a3ebb3b4",
   "metadata": {},
   "source": [
    "### If Statement"
   ]
  },
  {
   "cell_type": "code",
   "execution_count": 7,
   "id": "73a8a101",
   "metadata": {},
   "outputs": [],
   "source": [
    "# if <<condition>>:\n",
    "#    <<block>>(mst be indented)"
   ]
  },
  {
   "cell_type": "code",
   "execution_count": 9,
   "id": "5f6f983a",
   "metadata": {},
   "outputs": [],
   "source": [
    "# if <<condition>>:\n",
    "#    <<block1>>(mst be indented)\n",
    "#elif <<condition>>:\n",
    "#    <<block2>>\n",
    "#else <<condition>>:\n",
    "#    <<block3>>"
   ]
  },
  {
   "cell_type": "code",
   "execution_count": 11,
   "id": "c0dbd83a",
   "metadata": {},
   "outputs": [],
   "source": [
    "# if 중첩 가능\n",
    "#if <<condition>>:\n",
    "#    <<block1>>\n",
    "#    if <<condition>>:\n",
    "#    <<block1>>(mst be indented)\n",
    "#        elif <<condition>>:\n",
    "#             <<block2>>\n",
    "#        else <<condition>>:\n",
    "#             <<block3>>\n",
    "#else <<condition>>:\n",
    "#             <<block3>>"
   ]
  },
  {
   "cell_type": "markdown",
   "id": "06f66f25",
   "metadata": {},
   "source": [
    "# Module"
   ]
  },
  {
   "cell_type": "code",
   "execution_count": 15,
   "id": "e59c5f0c",
   "metadata": {},
   "outputs": [],
   "source": [
    "import math "
   ]
  },
  {
   "cell_type": "code",
   "execution_count": 21,
   "id": "80106a37",
   "metadata": {},
   "outputs": [
    {
     "data": {
      "text/plain": [
       "(5.768320995793772, 3.141592653589793)"
      ]
     },
     "execution_count": 21,
     "metadata": {},
     "output_type": "execute_result"
    }
   ],
   "source": [
    "math.log(320), math.pi #이때 .은 Operator"
   ]
  },
  {
   "cell_type": "code",
   "execution_count": null,
   "id": "2466d811",
   "metadata": {},
   "outputs": [],
   "source": [
    "math "
   ]
  },
  {
   "cell_type": "code",
   "execution_count": null,
   "id": "4f91e78d",
   "metadata": {},
   "outputs": [],
   "source": []
  }
 ],
 "metadata": {
  "kernelspec": {
   "display_name": "Python 3 (ipykernel)",
   "language": "python",
   "name": "python3"
  },
  "language_info": {
   "codemirror_mode": {
    "name": "ipython",
    "version": 3
   },
   "file_extension": ".py",
   "mimetype": "text/x-python",
   "name": "python",
   "nbconvert_exporter": "python",
   "pygments_lexer": "ipython3",
   "version": "3.9.10"
  }
 },
 "nbformat": 4,
 "nbformat_minor": 5
}
