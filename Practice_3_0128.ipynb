{
 "cells": [
  {
   "cell_type": "markdown",
   "metadata": {
    "id": "l9fc2nividyV"
   },
   "source": [
    "# 실습 주의사항 필독"
   ]
  },
  {
   "cell_type": "markdown",
   "metadata": {
    "id": "RaQCRmDZbuin"
   },
   "source": [
    "* **`P1`, `P2`, `P3`, `P4`, `P5` 함수의 이름 및 함수의 입력으로 받는 parameter는 바꾸지 말아주세요**\n",
    "* **return 타입 지켜주세요**\n",
    "* **다른 함수나 클래스 등 만드셔도 됩니다. `P1`, `P2`, `P3`, `P4`, `P5` 함수가 제대로 `return`하기만 하면 됩니다.**\n",
    "* **제출할 output파일은 마지막 부분의 셀을 실행해서 만들게 됩니다**\n",
    "\n",
    "* **별도의 채점은 진행하지 않으니 편하게 진행하셔도 무방합니다**"
   ]
  },
  {
   "cell_type": "markdown",
   "metadata": {
    "id": "PoNNu8jQiwtG"
   },
   "source": [
    "# Problem 1. Flip and Reverse Image\n",
    "\n",
    "**Given an n x n binary matrix image, flip the image horizontally, then invert it, and return the resulting image.**\n",
    "\n",
    "To flip an image horizontally means that each row of the image is reversed.  \n",
    "For example, flipping [1,1,0] horizontally results in [0,1,1].\n",
    "To invert an image means that each 0 is replaced by 1, and each 1 is replaced by 0.  \n",
    "For example, inverting [0,1,1] results in [1,0,0].\n",
    "\n",
    "\n",
    "### Constraints:\n",
    "\n",
    "* n == image.length\n",
    "* n == image[i].length\n",
    "* 1 <= n <= 20\n",
    "* images[i][j] is either 0 or 1."
   ]
  },
  {
   "cell_type": "markdown",
   "metadata": {
    "id": "mYGgXNV4yKGr"
   },
   "source": [
    "## Example 1\n",
    "\n",
    "Input: image = [[1,1,0],[1,0,1],[0,0,0]]\n",
    "\n",
    "Output: [[1,0,0],[0,1,0],[1,1,1]]\n",
    "\n",
    "Explanation: First reverse each row: [[0,1,1],[1,0,1],[0,0,0]].\n",
    "\n",
    "Then, invert the image: [[1,0,0],[0,1,0],[1,1,1]]"
   ]
  },
  {
   "cell_type": "markdown",
   "metadata": {
    "id": "xCVIT7YnyKI4"
   },
   "source": [
    "## Example 2\n",
    "\n",
    "Input: image = [[1,1,0,0],[1,0,0,1],[0,1,1,1],[1,0,1,0]]\n",
    "\n",
    "Output: [[1,1,0,0],[0,1,1,0],[0,0,0,1],[1,0,1,0]]\n",
    "\n",
    "Explanation: First reverse each row: [[0,0,1,1],[1,0,0,1],[1,1,1,0],[0,1,0,1]].\n",
    "\n",
    "Then invert the image: [[1,1,0,0],[0,1,1,0],[0,0,0,1],[1,0,1,0]]"
   ]
  },
  {
   "cell_type": "code",
   "execution_count": 32,
   "metadata": {
    "id": "3i_iTKYNitiF"
   },
   "outputs": [],
   "source": [
    "from typing import List\n",
    "\n",
    "def P1(image: List[List[int]]) -> List[List[int]]:\n",
    "    ### your code here ###\n",
    "    return"
   ]
  },
  {
   "cell_type": "code",
   "execution_count": 39,
   "metadata": {
    "id": "AQzjDzodosKd"
   },
   "outputs": [],
   "source": [
    "# do not modify\n",
    "def check(func : object, inputs : list, answers : list, skip_true=False) -> None:\n",
    "    \"\"\"\n",
    "    func : 채점하고자 하는 함수\n",
    "    inp : 함수에 들어갈 인자, list형식\n",
    "    ans : 답안, list형식\n",
    "    \"\"\"\n",
    "    print(f\"\\n{func.__name__} 채점\")\n",
    "    n_correct = 0\n",
    "    for ith, (inp, ans) in enumerate(zip(inputs, answers)):\n",
    "        try:\n",
    "            std_ans = func(inp)\n",
    "        except BaseException as e:\n",
    "            print(f\"예제 {ith+1}번째 case 수행 중 예외가 발생했습니다: {str(e)}\")\n",
    "            continue\n",
    "        else:\n",
    "            if std_ans == ans:\n",
    "                n_correct += 1\n",
    "                if not skip_true:\n",
    "                    print(f\"예제 {ith+1}번\\t입력 : {inp}\\t나온 값 : {std_ans!s:<20}정답\")\n",
    "            else:\n",
    "                print(f\"예제 {ith+1}번\\t입력 : {inp}\\t나온 값 : {std_ans!s:<20}오답 (정답 : {ans})\")\n",
    "    if n_correct == len(answers):\n",
    "        print(\"모두 맞았습니다.\")"
   ]
  },
  {
   "cell_type": "code",
   "execution_count": 40,
   "metadata": {
    "id": "dmtagOAQwHAe"
   },
   "outputs": [],
   "source": [
    "### 이 셀을 실행은 시키더라도 input과 output 변수는 변경하지마세요!\n",
    "input_1 =  [[1,1,0],[1,0,1],[0,0,0]]\n",
    "output_1 = [[1, 0, 0], [0, 1, 0], [1, 1, 1]]\n",
    "input_2 =  [[1,1,0],[1,0,1],[0,0,0]]\n",
    "output_2 = [[1, 0, 0], [0, 1, 0], [1, 1, 1]]\n",
    "input_3 = [[1, 1, 0, 0, 1, 0, 1, 0, 1],\n",
    " [0, 1, 1, 0, 1, 0, 0, 1, 0],\n",
    " [1, 0, 0, 1, 0, 0, 0, 0, 1],\n",
    " [1, 1, 1, 0, 0, 1, 1, 0, 1],\n",
    " [0, 0, 0, 1, 1, 0, 1, 1, 0],\n",
    " [1, 1, 1, 1, 1, 1, 1, 0, 0],\n",
    " [1, 0, 1, 0, 0, 0, 0, 0, 0],\n",
    " [1, 1, 0, 0, 1, 0, 1, 1, 0],\n",
    " [0, 1, 1, 0, 1, 1, 1, 0, 0]]\n",
    "output_3 = [[0, 1, 0, 1, 0, 1, 1, 0, 0],\n",
    " [1, 0, 1, 1, 0, 1, 0, 0, 1],\n",
    " [0, 1, 1, 1, 1, 0, 1, 1, 0],\n",
    " [0, 1, 0, 0, 1, 1, 0, 0, 0],\n",
    " [1, 0, 0, 1, 0, 0, 1, 1, 1],\n",
    " [1, 1, 0, 0, 0, 0, 0, 0, 0],\n",
    " [1, 1, 1, 1, 1, 1, 0, 1, 0],\n",
    " [1, 0, 0, 1, 0, 1, 1, 0, 0],\n",
    " [1, 1, 0, 0, 0, 1, 0, 0, 1]]\n",
    "input_4 = [[1, 0, 1, 0, 0, 1, 0],\n",
    " [0, 0, 1, 1, 1, 0, 0],\n",
    " [0, 0, 0, 0, 0, 1, 0],\n",
    " [1, 1, 0, 0, 1, 1, 0],\n",
    " [0, 1, 0, 0, 0, 1, 1],\n",
    " [1, 1, 1, 0, 0, 0, 0],\n",
    " [0, 0, 1, 1, 1, 1, 1],\n",
    " [1, 0, 1, 0, 0, 1, 1]]\n",
    "output_4 = [[1, 0, 1, 1, 0, 1, 0],\n",
    " [1, 1, 0, 0, 0, 1, 1],\n",
    " [1, 0, 1, 1, 1, 1, 1],\n",
    " [1, 0, 0, 1, 1, 0, 0],\n",
    " [0, 0, 1, 1, 1, 0, 1],\n",
    " [1, 1, 1, 1, 0, 0, 0],\n",
    " [0, 0, 0, 0, 0, 1, 1],\n",
    " [0, 0, 1, 1, 0, 1, 0]]\n",
    "input_5 = [[1, 1, 1, 0, 1, 1, 1], [0, 1, 0, 1, 1, 1, 0], [0, 1, 0, 0, 1, 1, 0]]\n",
    "output_5 = [[0, 0, 0, 1, 0, 0, 0], [1, 0, 0, 0, 1, 0, 1], [1, 0, 0, 1, 1, 0, 1]]"
   ]
  },
  {
   "cell_type": "code",
   "execution_count": null,
   "metadata": {
    "colab": {
     "base_uri": "https://localhost:8080/"
    },
    "id": "ooQoGnn7oslc",
    "outputId": "d7a2b992-8834-481d-9c05-03f86412abb9",
    "pycharm": {
     "is_executing": true
    }
   },
   "outputs": [],
   "source": [
    "check(P1, [input_1, input_2, input_3, input_4, input_5], [output_1,output_2, output_3, output_4, output_5], skip_true=True)"
   ]
  },
  {
   "cell_type": "markdown",
   "metadata": {
    "id": "D9jBskW1qezR"
   },
   "source": [
    "# Problem 2. Movie ranking\n",
    "\n",
    "1) 2021년 12월 영화 예매 순위 기준 top3는 다음과 같습니다. 영화 제목을 movie_rank 이름의 리스트에 저장해보세요. (순위 정보는 저장하지 않습니다.)\n",
    "\n",
    "|제목|내용|\n",
    "|------|---|\n",
    "|1|스파이더맨 노웨이홈|\n",
    "|2|하우스오브구찌|\n",
    "|3|씽2게더|"
   ]
  },
  {
   "cell_type": "code",
   "execution_count": 42,
   "metadata": {
    "id": "ewELfX8Hbui8"
   },
   "outputs": [],
   "source": [
    "# your code\n",
    "\n",
    "movie_rank = [\"스파이더맨 노웨이홈\", \"하우스오브구찌\", \"씽2게더\"]"
   ]
  },
  {
   "cell_type": "markdown",
   "metadata": {
    "id": "E_CkQvAc6nJJ"
   },
   "source": [
    "2)  movie_rank 리스트에 \"매트릭스\"를 추가하고 '하우스오브구찌'를 삭제하세요(스파이더맨-매트릭스-씽2게더 순서와 스파이더맨-씽2게더-매트릭스 순서 모두 해보세요)."
   ]
  },
  {
   "cell_type": "code",
   "execution_count": 43,
   "metadata": {
    "id": "eQ6IP-FkRYuH"
   },
   "outputs": [],
   "source": [
    "# your code\n"
   ]
  },
  {
   "cell_type": "code",
   "execution_count": null,
   "metadata": {
    "pycharm": {
     "is_executing": true
    }
   },
   "outputs": [],
   "source": [
    "movie_rank"
   ]
  },
  {
   "cell_type": "markdown",
   "metadata": {
    "id": "JjSMiKR16nLr"
   },
   "source": [
    "3) movie_rank 리스트의 길이를 구하세요"
   ]
  },
  {
   "cell_type": "code",
   "execution_count": null,
   "metadata": {
    "id": "dRe8r9a-SLzM",
    "pycharm": {
     "is_executing": true
    }
   },
   "outputs": [],
   "source": [
    "# your code\n"
   ]
  },
  {
   "cell_type": "markdown",
   "metadata": {
    "id": "WiqhNj_u6nOe"
   },
   "source": [
    "4) 이제 movie_rank라는 리스트의 저장된 순서가 순위라고 가정해보고 movie_rank의 순위와 영화제목을 한번에 print해보세요(Hint: 여러가지 방법이 있겠지만 enumerate 함수라는 걸 검색해보고 사용해보세요)"
   ]
  },
  {
   "cell_type": "code",
   "execution_count": null,
   "metadata": {
    "id": "W3Wuf88pUYj4",
    "pycharm": {
     "is_executing": true
    }
   },
   "outputs": [],
   "source": [
    "# your code\n"
   ]
  },
  {
   "cell_type": "markdown",
   "metadata": {
    "id": "r9seeTV86nQq"
   },
   "source": [
    "5) num_audience라는 리스트를 생성하고 본인이 2번에서 정한 순서대로 영화관객이 600, 200, 100이라고 가정하고 새로운 리스트를 생성하세요(만 단위는 생략). 이후, movie_rank의 element를 key로 num_audience의 element를 value로 하는 dictionary를 생성하세요(Hint: 이 또한 여러가지 방법이 있겠지만 zip 함수를 검색해보고 사용해보세요)"
   ]
  },
  {
   "cell_type": "code",
   "execution_count": null,
   "metadata": {
    "id": "WdxHECEGZQek",
    "pycharm": {
     "is_executing": true
    }
   },
   "outputs": [],
   "source": [
    "# your code\n"
   ]
  },
  {
   "cell_type": "markdown",
   "metadata": {
    "id": "0WHCYr60bui9"
   },
   "source": [
    "# Problem 3. Unique Morse Representations\n",
    "\n",
    "International Morse Code defines a standard encoding where each letter is mapped to a series of dots and dashes, as follows:\n",
    "\n",
    "* 'a' maps to \".-\",\n",
    "* 'b' maps to \"-...\",\n",
    "* 'c' maps to \"-.-.\", and so on.\n",
    "\n",
    "For convenience, the full table for the 26 letters of the English alphabet is given below:\n",
    "\n",
    "[\".-\",\"-...\",\"-.-.\",\"-..\",\".\",\"..-.\",\"--.\",\"....\",\"..\",\".---\",\"-.-\",\".-..\",\"--\",\"-.\",\"---\",\".--.\",\"--.-\",\".-.\",\"...\",\"-\",\"..-\",\"...-\",\".--\",\"-..-\",\"-.--\",\"--..\"]\n",
    "\n",
    "['a','b','c','d','e','f','g','h','i','j','k','l','m','n','o','p','q','r','s','t','u','v','w','x','y','z']\n",
    "\n",
    "Given an array of strings words where each word can be written as a concatenation of the Morse code of each letter.\n",
    "\n",
    "For example, \"cab\" can be written as \"-.-..--...\", which is the concatenation of \"-.-.\", \".-\", and \"-...\". We will call such a concatenation the transformation of a word.\n",
    "Return the number of different transformations among all words we have."
   ]
  },
  {
   "cell_type": "markdown",
   "metadata": {
    "id": "YSwxZvqGXtij"
   },
   "source": [
    "\n",
    "<details>\n",
    "<summary>Hint(진짜 안풀릴 때 보세요~!)</summary>\n",
    "<div markdown=\"1\">\n",
    "\n",
    "위 문제에서 배운 함수를 사용해서 dictionary를 만들어보세요\n",
    "</div>\n",
    "</details>"
   ]
  },
  {
   "cell_type": "markdown",
   "metadata": {
    "id": "6hxPm3Uy0p0d"
   },
   "source": [
    "### Example 1\n",
    "    Input: words = [\"gin\",\"zen\",\"gig\",\"msg\"]\n",
    "    Output: 2\n",
    "    Explanation: The transformation of each word is:\n",
    "    \"gin\" -> \"--...-.\"\n",
    "    \"zen\" -> \"--...-.\"\n",
    "    \"gig\" -> \"--...--.\"\n",
    "    \"msg\" -> \"--...--.\"\n",
    "    There are 2 different transformations: \"--...-.\" and \"--...--.\"."
   ]
  },
  {
   "cell_type": "markdown",
   "metadata": {
    "id": "m38g3p6F0p3G"
   },
   "source": [
    "### Example 2:\n",
    "    Input: words = [\"a\"]\n",
    "    Output: 1"
   ]
  },
  {
   "cell_type": "code",
   "execution_count": 49,
   "metadata": {
    "id": "7teUSFaqbui-"
   },
   "outputs": [],
   "source": [
    "from typing import List\n",
    "\n",
    "def P3(words: List[str]) -> int:\n",
    "    ### your code here ###\n",
    "\n",
    "    return"
   ]
  },
  {
   "cell_type": "code",
   "execution_count": 51,
   "metadata": {
    "id": "KJqQnFPOEvtP"
   },
   "outputs": [],
   "source": [
    "### 이 셀을 실행은 시키더라도 input과 output 변수는 변경하지마세요!\n",
    "\n",
    "input_1 = [\"gin\",\"zen\",\"gig\",\"msg\"]\n",
    "output_1 = 2\n",
    "input_2= [\"a\"]\n",
    "output_2= 1\n",
    "input_3 = ['eobsvoaip',\n",
    " 'dyhklrvpv',\n",
    " 'cwbbodfbo',\n",
    " 'fhretoyhk',\n",
    " 'iqetytfrk',\n",
    " 'euxgtmzlk',\n",
    " 'nfwxwkfzo',\n",
    " 'awnvuzxtx']\n",
    "output_3 = 8\n",
    "input_4 = ['zcwxgame', 'xfvwsaij', 'fynadtkp']\n",
    "output_4 = 3\n",
    "input_5 = ['sztpxnn',\n",
    " 'cvpojzk',\n",
    " 'xunmkfg',\n",
    " 'nzyqeyc',\n",
    " 'aialzpx',\n",
    " 'csltgay',\n",
    " 'esgqqxb',\n",
    " 'xujfxwt',\n",
    " 'nxgaqvz',\n",
    " 'hjyhycc',\n",
    " 'kcxbdvj']\n",
    "output_5 = 11\n",
    "input_6 = ['pull', 'push', 'pulling', 'wisdom', 'teeth', 'many', 'much', 'hurt', 'heart', 'heat','hit','hat','height','high','data','date','made','make','hand','hen','gig','geek','msg','marry','merry','you','u','member','remember','december']\n",
    "output_6 = 28"
   ]
  },
  {
   "cell_type": "code",
   "execution_count": null,
   "metadata": {
    "colab": {
     "base_uri": "https://localhost:8080/"
    },
    "id": "QARTWGpVotoM",
    "outputId": "1de83b34-5938-497f-e921-c2037ec1afa3",
    "pycharm": {
     "is_executing": true
    }
   },
   "outputs": [],
   "source": [
    "check(P3, [input_1, input_2, input_3,input_4,input_5,input_6], [output_1,output_2,output_3,output_4,output_5,output_6], skip_true=True)"
   ]
  },
  {
   "cell_type": "markdown",
   "metadata": {
    "id": "Z0XhLFCX1lhZ"
   },
   "source": [
    "# Problem 4. Unique Email Addresses\n",
    "\n",
    "Every valid email consists of a local name and a domain name, separated by the '@' sign. Besides lowercase letters, the email may contain one or more '.' or '+'.\n",
    "\n",
    "For example, in \"kimjuhyeon@snu.ac.kr\", \"kimjuhyeon\" is the local name, and \"snu.ac.kr\" is the domain name.\n",
    "If you add periods '.' between some characters in the local name part of an email address, mail sent there will be forwarded to the same address without dots in the local name. Note that this rule does not apply to domain names.\n",
    "\n",
    "For example, \"kim.juhyeon@snu.ac.kr\" and \"kimjuhyeon@snu.ac.kr\" forward to the same email address.\n",
    "If you add a plus '+' in the local name, everything after the first plus sign will be ignored. This allows certain emails to be filtered. Note that this rule does not apply to domain names.\n",
    "\n",
    "For example, \"kim.juhyeon+ta@snu.ac.kr\" will be forwarded to \"kimjuhyeon@snu.ac.kr\".\n",
    "It is possible to use both of these rules at the same time.\n",
    "\n",
    "Given an array of strings emails where we send one email to each emails[i], return the number of different addresses that actually receive mail."
   ]
  },
  {
   "cell_type": "markdown",
   "metadata": {
    "id": "Xx3g0BhQ3F1G"
   },
   "source": [
    "## Constraints:\n",
    "emails[i] consist of lowercase English letters, '+', '.' and '@'.\n",
    "Each emails[i] contains exactly one '@' character.\n",
    "All local and domain names are non-empty.\n",
    "Local names do not start with a '+' character.\n",
    "Domain names end with the \"ac.kr\" suffix."
   ]
  },
  {
   "cell_type": "markdown",
   "metadata": {
    "id": "aLjiJTJK1llL"
   },
   "source": [
    "\n",
    "<details>\n",
    "<summary>Hint(진짜 안풀릴 때 보세요~!)</summary>\n",
    "<div markdown=\"1\">\n",
    "\n",
    "string method를 활용해서 unique한 이메일 주소 개수를 세주세요</div>\n",
    "</details>"
   ]
  },
  {
   "cell_type": "markdown",
   "metadata": {
    "id": "OfWUobMb1loW"
   },
   "source": [
    "### Example 1\n",
    "    Input: emails = [\"kim.juhyeon+ta@snu.ac.kr\",\"difficult.tomakeexample@snu.ac.kr\",\"difficulttomake.example@snu.ac.kr\"]\n",
    "    Output: 2\n",
    "    Explanation: \"kimjuhyeon@snu.ac.kr\" and \"difficulttomakeexample@snu.ac.kr\" actually receive mails."
   ]
  },
  {
   "cell_type": "markdown",
   "metadata": {
    "id": "qAwpLazd1lqx"
   },
   "source": [
    "### Example 2\n",
    "    Input: emails = [\"a@snu.ac.kr\",\"b@snu.ac.kr\",\"c@snu.ac.kr\"]\n",
    "    Output: 3"
   ]
  },
  {
   "cell_type": "code",
   "execution_count": 54,
   "metadata": {
    "id": "2gPv6Q1W4u0l"
   },
   "outputs": [],
   "source": [
    "from typing import List\n",
    "\n",
    "def P4(emails: List[str]) -> int:\n",
    "    ### your code here ###\n",
    "    return"
   ]
  },
  {
   "cell_type": "code",
   "execution_count": 55,
   "metadata": {
    "id": "Vaz1WiKF4eKj"
   },
   "outputs": [],
   "source": [
    "### 이 셀을 실행은 시키더라도 input과 output 변수는 변경하지마세요!\n",
    "\n",
    "input_1 = [\"kim.juhyeon+ta@snu.ac.kr\",\"difficult.tomakeexample@snu.ac.kr\",\"difficulttomake.example@snu.ac.kr\"]\n",
    "output_1 = 2\n",
    "input_2 = [\"a@snu.ac.kr\",\"b@snu.ac.kr\",\"c@snu.ac.kr\"]\n",
    "output_2 = 3\n",
    "input_3 = ['kwonyeahoon@snu.ac.kr','choeyesong@snu.ac.kr','kangjewon@snu.ac.kr','kimjuhyeon@snu.ac.kr','kimtaehan@snu.ac.kr','jeongchaeyoung@snu.ac.kr','chodonggyu@snu.ac.kr',\n",
    "      'kim.juhyeon@snu.ac.kr', 'kimju.hyeon@snu.ac.kr', 'kimjuhyeon.@gsds.ac.kr', 'kwon.yeahoon@snu.ac.kr', 'kwonyea.hoon@snu.ac.kr', 'kwonyeahoon.@gsds.ac.kr', 'choe.yesong@snu.ac.kr',\n",
    "'choeye.song@snu.ac.kr', 'choeyesong.@gsds.ac.kr', 'kang.jewon@snu.ac.kr', 'kangje.won@snu.ac.kr', 'kangjewon.@gsds.ac.kr', 'kim.taehan@snu.ac.kr', 'kimtae.han@snu.ac.kr', 'kimtaehan.@gsds.ac.kr',\n",
    "'jeong.chaeyoung@snu.ac.kr', 'jeongchae.young@snu.ac.kr', 'jeongchaeyoung.@gsds.ac.kr', 'cho.donggyu@snu.ac.kr', 'chodong.gyu@snu.ac.kr', 'chodonggyu.@gsds.ac.kr']\n",
    "output_3 = 14\n",
    "input_4 = ['xaoyjgbu.sysvoqkr+sysvoqkr@xaoyjgbu.ac.kr',\n",
    " 'xaoyjgbu.sysvoqkr+xaoyjgbu@xaoyjgbu.ac.kr',\n",
    " 'sysvoqkrxaoyjgbuemebtotq@emebtotq.ac.kr',\n",
    " 'xaoyjgbusysvoqkr+xaoyjgbu@xaoyjgbu.ac.kr',\n",
    " 'xaoyjgbu.sysvoqkr+emebtotq@emebtotq.ac.kr',\n",
    " 'xaoyjgbu.emebtotqsysvoqkr@xaoyjgbu.ac.kr',\n",
    " 'xaoyjgbu.emebtotq+emebtotq@xaoyjgbu.ac.kr',\n",
    " 'xaoyjgbu.sysvoqkr+xaoyjgbu@emebtotq.ac.kr',\n",
    " 'xaoyjgbu.sysvoqkremebtotq@xaoyjgbu.ac.kr',\n",
    " 'xaoyjgbuemebtotqsysvoqkr@emebtotq.ac.kr',\n",
    " 'emebtotqsysvoqkrxaoyjgbu@xaoyjgbu.ac.kr',\n",
    " 'sysvoqkrxaoyjgbu+xaoyjgbu@xaoyjgbu.ac.kr',\n",
    " 'sysvoqkremebtotqsysvoqkr@sysvoqkr.ac.kr',\n",
    " 'emebtotq.emebtotqemebtotq@xaoyjgbu.ac.kr',\n",
    " 'sysvoqkr.emebtotqxaoyjgbu@sysvoqkr.ac.kr',\n",
    " 'emebtotq.xaoyjgbu+emebtotq@emebtotq.ac.kr',\n",
    " 'emebtotq.emebtotqemebtotq@xaoyjgbu.ac.kr',\n",
    " 'emebtotq.xaoyjgbuxaoyjgbu@sysvoqkr.ac.kr',\n",
    " 'sysvoqkrxaoyjgbuxaoyjgbu@xaoyjgbu.ac.kr',\n",
    " 'sysvoqkr.sysvoqkr+sysvoqkr@sysvoqkr.ac.kr',\n",
    " 'sysvoqkr.xaoyjgbu+emebtotq@emebtotq.ac.kr',\n",
    " 'xaoyjgbuemebtotq+xaoyjgbu@xaoyjgbu.ac.kr',\n",
    " 'emebtotqsysvoqkrxaoyjgbu@sysvoqkr.ac.kr',\n",
    " 'sysvoqkrxaoyjgbu+xaoyjgbu@emebtotq.ac.kr',\n",
    " 'emebtotq.sysvoqkr+sysvoqkr@sysvoqkr.ac.kr',\n",
    " 'xaoyjgbuxaoyjgbusysvoqkr@emebtotq.ac.kr',\n",
    " 'sysvoqkr.xaoyjgbu+sysvoqkr@sysvoqkr.ac.kr',\n",
    " 'sysvoqkrxaoyjgbusysvoqkr@emebtotq.ac.kr',\n",
    " 'xaoyjgbuemebtotq+sysvoqkr@sysvoqkr.ac.kr',\n",
    " 'sysvoqkrxaoyjgbu+sysvoqkr@xaoyjgbu.ac.kr']\n",
    "output_4 = 23\n",
    "input_5 = ['ikllcwhhewm.vorcqvjdthdyvorcqvjdthdy@nyatpynqzbtx.ac.kr',\n",
    " 'vorcqvjdthdy.vorcqvjdthdyikllcwhhewm@ikllcwhhewm.ac.kr',\n",
    " 'ikllcwhhewmnyatpynqzbtx+vorcqvjdthdy@nyatpynqzbtx.ac.kr',\n",
    " 'vorcqvjdthdyikllcwhhewm+ikllcwhhewm@nyatpynqzbtx.ac.kr',\n",
    " 'eaulabddpgke.nyatpynqzbtxnyatpynqzbtx@eaulabddpgke.ac.kr',\n",
    " 'nyatpynqzbtxikllcwhhewm+vorcqvjdthdy@vorcqvjdthdy.ac.kr',\n",
    " 'vorcqvjdthdy.eaulabddpgke+ikllcwhhewm@nyatpynqzbtx.ac.kr',\n",
    " 'nyatpynqzbtxikllcwhhewmeaulabddpgke@vorcqvjdthdy.ac.kr',\n",
    " 'eaulabddpgke.nyatpynqzbtxnyatpynqzbtx@nyatpynqzbtx.ac.kr',\n",
    " 'vorcqvjdthdy.eaulabddpgke+ikllcwhhewm@nyatpynqzbtx.ac.kr',\n",
    " 'vorcqvjdthdyeaulabddpgkeeaulabddpgke@vorcqvjdthdy.ac.kr',\n",
    " 'ikllcwhhewmnyatpynqzbtx+nyatpynqzbtx@ikllcwhhewm.ac.kr',\n",
    " 'eaulabddpgke.eaulabddpgke+eaulabddpgke@nyatpynqzbtx.ac.kr',\n",
    " 'nyatpynqzbtxeaulabddpgkevorcqvjdthdy@eaulabddpgke.ac.kr',\n",
    " 'eaulabddpgke.eaulabddpgke+vorcqvjdthdy@vorcqvjdthdy.ac.kr',\n",
    " 'vorcqvjdthdyikllcwhhewmvorcqvjdthdy@ikllcwhhewm.ac.kr',\n",
    " 'eaulabddpgkevorcqvjdthdyvorcqvjdthdy@eaulabddpgke.ac.kr',\n",
    " 'nyatpynqzbtxikllcwhhewm+ikllcwhhewm@nyatpynqzbtx.ac.kr',\n",
    " 'vorcqvjdthdy.nyatpynqzbtxeaulabddpgke@eaulabddpgke.ac.kr',\n",
    " 'nyatpynqzbtxikllcwhhewmnyatpynqzbtx@nyatpynqzbtx.ac.kr',\n",
    " 'vorcqvjdthdy.eaulabddpgkevorcqvjdthdy@eaulabddpgke.ac.kr',\n",
    " 'vorcqvjdthdy.nyatpynqzbtxvorcqvjdthdy@nyatpynqzbtx.ac.kr',\n",
    " 'vorcqvjdthdy.vorcqvjdthdyeaulabddpgke@vorcqvjdthdy.ac.kr',\n",
    " 'vorcqvjdthdy.nyatpynqzbtxvorcqvjdthdy@nyatpynqzbtx.ac.kr',\n",
    " 'vorcqvjdthdy.nyatpynqzbtx+nyatpynqzbtx@vorcqvjdthdy.ac.kr',\n",
    " 'ikllcwhhewmeaulabddpgke+nyatpynqzbtx@nyatpynqzbtx.ac.kr',\n",
    " 'vorcqvjdthdy.eaulabddpgkenyatpynqzbtx@ikllcwhhewm.ac.kr',\n",
    " 'eaulabddpgke.vorcqvjdthdy+eaulabddpgke@vorcqvjdthdy.ac.kr',\n",
    " 'vorcqvjdthdyvorcqvjdthdy+ikllcwhhewm@eaulabddpgke.ac.kr',\n",
    " 'eaulabddpgke.eaulabddpgkeeaulabddpgke@eaulabddpgke.ac.kr',\n",
    " 'nyatpynqzbtx.ikllcwhhewm+eaulabddpgke@nyatpynqzbtx.ac.kr',\n",
    " 'nyatpynqzbtxikllcwhhewmnyatpynqzbtx@vorcqvjdthdy.ac.kr',\n",
    " 'eaulabddpgkevorcqvjdthdy+nyatpynqzbtx@vorcqvjdthdy.ac.kr',\n",
    " 'eaulabddpgke.vorcqvjdthdyeaulabddpgke@nyatpynqzbtx.ac.kr',\n",
    " 'nyatpynqzbtxikllcwhhewm+nyatpynqzbtx@eaulabddpgke.ac.kr',\n",
    " 'vorcqvjdthdy.nyatpynqzbtxikllcwhhewm@eaulabddpgke.ac.kr',\n",
    " 'vorcqvjdthdyikllcwhhewmnyatpynqzbtx@vorcqvjdthdy.ac.kr',\n",
    " 'nyatpynqzbtx.vorcqvjdthdy+ikllcwhhewm@eaulabddpgke.ac.kr',\n",
    " 'ikllcwhhewmvorcqvjdthdyvorcqvjdthdy@vorcqvjdthdy.ac.kr',\n",
    " 'eaulabddpgke.nyatpynqzbtx+eaulabddpgke@ikllcwhhewm.ac.kr']\n",
    "output_5 = 36"
   ]
  },
  {
   "cell_type": "code",
   "execution_count": null,
   "metadata": {
    "colab": {
     "base_uri": "https://localhost:8080/"
    },
    "id": "hwP1DqxM4sad",
    "outputId": "bdeffb27-eb55-4114-d88e-661f1aa62df6",
    "pycharm": {
     "name": "#%%\n",
     "is_executing": true
    }
   },
   "outputs": [],
   "source": [
    "check(P4, [input_1,input_2,input_3,input_4,input_5], [output_1,output_2,output_3,output_4,output_5], skip_true=True)"
   ]
  }
 ],
 "metadata": {
  "colab": {
   "collapsed_sections": [],
   "name": "Practice 2.ipynb",
   "provenance": []
  },
  "kernelspec": {
   "display_name": "Python 3",
   "language": "python",
   "name": "python3"
  },
  "language_info": {
   "codemirror_mode": {
    "name": "ipython",
    "version": 3
   },
   "file_extension": ".py",
   "mimetype": "text/x-python",
   "name": "python",
   "nbconvert_exporter": "python",
   "pygments_lexer": "ipython3",
   "version": "3.8.3"
  }
 },
 "nbformat": 4,
 "nbformat_minor": 1
}