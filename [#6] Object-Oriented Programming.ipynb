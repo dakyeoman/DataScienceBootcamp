{
 "cells": [
  {
   "cell_type": "markdown",
   "id": "cea9525d",
   "metadata": {},
   "source": [
    "### Testing Inheritance & Polymorphism"
   ]
  },
  {
   "cell_type": "code",
   "execution_count": 101,
   "id": "58fbbf35",
   "metadata": {},
   "outputs": [],
   "source": [
    "class Member:\n",
    "    def __init__(self, name: str, address: str, email: str, DoB: str, affiliation: str) -> None: #비공개 내부 함수\n",
    "        self.name = name\n",
    "        self.address = address\n",
    "        self.email = email\n",
    "        self.DoB = DoB\n",
    "        self.affiliation = affiliation\n",
    "        self.infoList = [self.name, self.address, self.email, self.DoB, self.affiliation]\n",
    "        \n",
    "    def printinfo(self):\n",
    "        print(self.infoList)\n",
    "    \n",
    "    def switch_affiliation(self, new_affiliation: str):\n",
    "        print(\"Member\", self.name, \"changes affiliation from\", self.affiliation, \"to\", new_affiliation)\n",
    "        self.affiliation = new_affiliation\n",
    "        self.infoList[4] = self.affiliation\n",
    "        \n",
    "        \n",
    "class Student(Member):\n",
    "    def __init__(self, name: str, address: str, email: str, DoB: str, affiliation: str, student_num: str) -> None:\n",
    "        \n",
    "        #REUSE Parent init function (Inheritance)\n",
    "        super().__init__(name, address, email, DoB, affiliation) \n",
    "        \n",
    "        #student-specific init\n",
    "        self.student_num = student_num\n",
    "        self.advisor = \"\"\n",
    "        self.courses_taken = []\n",
    "        self.courses_taking = []\n",
    "        self.GPA = 0 \n",
    "        self.infoList += [self.student_num, self.advisor, self.courses_taken, self.courses_taking, self.GPA]\n",
    "\n",
    "    #printinfo is inherited\n",
    "    #switch_affiliation is inherited but polymorphsm works here\n",
    "    \n",
    "    def switch_affiliation(self, new_affiliation: str):\n",
    "        print(\"Student\", self.name, \"changes affiliation from\", self.affiliation, \"to\", new_affiliation)\n",
    "        self.affiliation = new_affiliation\n",
    "        self.infoList[4] = self.affiliation\n",
    "\n",
    "class Faculty(Member):\n",
    "    def __init__(self, name: str, address: str, email: str, DoB: str, affiliation: str, faculty_num: str) -> None:\n",
    "        \n",
    "        #REUSE Parent init function (Inheritance)\n",
    "        super().__init__(name, address, email, DoB, affiliation)\n",
    "        \n",
    "        #faculty-specific init\n",
    "        self.faculty_num = faculty_num\n",
    "        self.advisees = []\n",
    "        self.courses_teaching = []\n",
    "        self.infoList += [self.faculty_num, self.advisees, self.courses_teaching]\n",
    "        \n",
    "    #printinfo is inherited\n",
    "    #switch_affiliation is inherited but polymorphsm works here\n",
    "    \n",
    "    def switch_affiliation(self, new_affiliation: str):\n",
    "        print(\"Faculty\", self.name, \"changes affiliation from\", self.affiliation, \"to\", new_affiliation)\n",
    "        self.affiliation = new_affiliation\n",
    "        self.infoList[4] = self.affiliation"
   ]
  },
  {
   "cell_type": "code",
   "execution_count": 102,
   "id": "96863539",
   "metadata": {},
   "outputs": [],
   "source": [
    "a = Member(\"A\", \"SNU-EDU\", \"adklys@snu.ac.kr\", \"0320\", \"SNUPE\")\n",
    "b = Student(\"B\", \"SNU-EDU\", \"adklys@snu.ac.kr\", \"0320\", \"SNUPE\", \"2019-17773\")\n",
    "c = Faculty(\"C\", \"SNU-EDU\", \"adklys@snu.ac.kr\", \"0320\", \"SNUPE\", \"A00000\")"
   ]
  },
  {
   "cell_type": "code",
   "execution_count": 103,
   "id": "35ee90cc",
   "metadata": {},
   "outputs": [
    {
     "name": "stdout",
     "output_type": "stream",
     "text": [
      "<class '__main__.Member'> <class '__main__.Student'> <class '__main__.Faculty'>\n"
     ]
    }
   ],
   "source": [
    "print(type(a), type(b), type(c))"
   ]
  },
  {
   "cell_type": "code",
   "execution_count": 104,
   "id": "2eeda09b",
   "metadata": {},
   "outputs": [
    {
     "name": "stdout",
     "output_type": "stream",
     "text": [
      "True True True\n"
     ]
    }
   ],
   "source": [
    "print(type(a) == Member, type(b) == Student, type(c) == Faculty)"
   ]
  },
  {
   "cell_type": "code",
   "execution_count": 105,
   "id": "26a4db30",
   "metadata": {},
   "outputs": [
    {
     "name": "stdout",
     "output_type": "stream",
     "text": [
      "['A', 'SNU-EDU', 'adklys@snu.ac.kr', '0320', 'SNUPE']\n",
      "['B', 'SNU-EDU', 'adklys@snu.ac.kr', '0320', 'SNUPE', '2019-17773', '', [], [], 0]\n",
      "['C', 'SNU-EDU', 'adklys@snu.ac.kr', '0320', 'SNUPE', 'A00000', [], []]\n"
     ]
    }
   ],
   "source": [
    "a.printinfo()\n",
    "b.printinfo()\n",
    "c.printinfo()"
   ]
  },
  {
   "cell_type": "code",
   "execution_count": 106,
   "id": "6b6170a5",
   "metadata": {},
   "outputs": [
    {
     "name": "stdout",
     "output_type": "stream",
     "text": [
      "Member A changes affiliation from SNUPE to Korean\n"
     ]
    }
   ],
   "source": [
    "#Member: parent class\n",
    "a.switch_affiliation(\"Korean\")\n",
    "a.printinfo()"
   ]
  },
  {
   "cell_type": "code",
   "execution_count": 111,
   "id": "6372ac91",
   "metadata": {},
   "outputs": [
    {
     "name": "stdout",
     "output_type": "stream",
     "text": [
      "Student B changes affiliation from English to English\n",
      "['B', 'SNU-EDU', 'adklys@snu.ac.kr', '0320', 'English', '2019-17773', '', [], [], 0]\n"
     ]
    }
   ],
   "source": [
    "#Childclass - Polymorphism works\n",
    "b.switch_affiliation(\"English\")\n",
    "b.printinfo()"
   ]
  },
  {
   "cell_type": "code",
   "execution_count": 112,
   "id": "1cd85202",
   "metadata": {},
   "outputs": [
    {
     "name": "stdout",
     "output_type": "stream",
     "text": [
      "Faculty C changes affiliation from Education to Education\n",
      "['C', 'SNU-EDU', 'adklys@snu.ac.kr', '0320', 'Education', 'A00000', [], []]\n"
     ]
    }
   ],
   "source": [
    "#Childclass - Polymorphism works\n",
    "c.switch_affiliation(\"Education\") \n",
    "c.printinfo()"
   ]
  }
 ],
 "metadata": {
  "kernelspec": {
   "display_name": "Python 3 (ipykernel)",
   "language": "python",
   "name": "python3"
  },
  "language_info": {
   "codemirror_mode": {
    "name": "ipython",
    "version": 3
   },
   "file_extension": ".py",
   "mimetype": "text/x-python",
   "name": "python",
   "nbconvert_exporter": "python",
   "pygments_lexer": "ipython3",
   "version": "3.9.10"
  }
 },
 "nbformat": 4,
 "nbformat_minor": 5
}
