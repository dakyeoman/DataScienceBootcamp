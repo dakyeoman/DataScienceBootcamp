{
 "cells": [
  {
   "cell_type": "markdown",
   "id": "eb373de9",
   "metadata": {},
   "source": [
    "# Sets\n",
    "\n",
    "Store UNORDERED and DISTINCT items, NO DUPLICATE item (X)\n",
    "\n",
    "Declare a set using {xxxx}"
   ]
  },
  {
   "cell_type": "code",
   "execution_count": 3,
   "id": "913f199b",
   "metadata": {},
   "outputs": [
    {
     "data": {
      "text/plain": [
       "{'a', 'b', 'e', 'i', 'o', 'u'}"
      ]
     },
     "execution_count": 3,
     "metadata": {},
     "output_type": "execute_result"
    }
   ],
   "source": [
    "vowels = {\"a\", \"e\", \"i\", \"o\", \"u\", \"u\", \"a\", \"b\"}\n",
    "vowels"
   ]
  },
  {
   "cell_type": "code",
   "execution_count": 5,
   "id": "0d4834b4",
   "metadata": {},
   "outputs": [
    {
     "data": {
      "text/plain": [
       "set()"
      ]
     },
     "execution_count": 5,
     "metadata": {},
     "output_type": "execute_result"
    }
   ],
   "source": [
    "#An empty set\n",
    "a = set() #Not {}\n",
    "a"
   ]
  },
  {
   "cell_type": "code",
   "execution_count": 6,
   "id": "be2ef427",
   "metadata": {},
   "outputs": [
    {
     "data": {
      "text/plain": [
       "{2, 3, 5}"
      ]
     },
     "execution_count": 6,
     "metadata": {},
     "output_type": "execute_result"
    }
   ],
   "source": [
    "set([2, 3, 2, 5, 5, 5, ])"
   ]
  },
  {
   "cell_type": "code",
   "execution_count": 15,
   "id": "9fdfd081",
   "metadata": {},
   "outputs": [],
   "source": [
    "students = set([\"inhoe, yesong\", \"jeahyuk\", \"yeha\", \"suun\", \"nayeon\"])"
   ]
  },
  {
   "cell_type": "code",
   "execution_count": 17,
   "id": "b00fe484",
   "metadata": {},
   "outputs": [
    {
     "name": "stdout",
     "output_type": "stream",
     "text": [
      "inhoe, yesong\n",
      "yeha\n",
      "nayeon\n",
      "jeahyuk\n",
      "suun\n"
     ]
    }
   ],
   "source": [
    "for student in students:\n",
    "    print(student)"
   ]
  },
  {
   "cell_type": "markdown",
   "id": "34a1d796",
   "metadata": {},
   "source": [
    "### Set-Methods"
   ]
  },
  {
   "cell_type": "code",
   "execution_count": 21,
   "id": "8b7ebf70",
   "metadata": {},
   "outputs": [
    {
     "data": {
      "text/plain": [
       "{0, 1, 2, 3, 4, 5, 6}"
      ]
     },
     "execution_count": 21,
     "metadata": {},
     "output_type": "execute_result"
    }
   ],
   "source": [
    "digits = set([0, 1, 2, 3, 4, 5])\n",
    "digits.add(6)\n",
    "digits"
   ]
  },
  {
   "cell_type": "code",
   "execution_count": 23,
   "id": "3c599657",
   "metadata": {},
   "outputs": [],
   "source": [
    "digits.remove(2)\n",
    "digits"
   ]
  },
  {
   "cell_type": "code",
   "execution_count": 27,
   "id": "e6f19e73",
   "metadata": {},
   "outputs": [],
   "source": [
    "odd = set([1, 3, 5, 7, 9])"
   ]
  },
  {
   "cell_type": "code",
   "execution_count": 31,
   "id": "e1c3050a",
   "metadata": {},
   "outputs": [
    {
     "data": {
      "text/plain": [
       "False"
      ]
     },
     "execution_count": 31,
     "metadata": {},
     "output_type": "execute_result"
    }
   ],
   "source": [
    "digits.issubset(odd) #digits가 odd의 부분집합인가? == digits <= odds"
   ]
  },
  {
   "cell_type": "code",
   "execution_count": 35,
   "id": "1b6c74de",
   "metadata": {},
   "outputs": [
    {
     "data": {
      "text/plain": [
       "False"
      ]
     },
     "execution_count": 35,
     "metadata": {},
     "output_type": "execute_result"
    }
   ],
   "source": [
    "digits.issuperset(odd) #odd가 digits의 부분집합인가? == digits >= odds"
   ]
  },
  {
   "cell_type": "markdown",
   "id": "b05fa27d",
   "metadata": {},
   "source": [
    "차집합\n",
    "> digits.difference(odds) == digits - odds\n",
    "\n",
    "교집합 \n",
    "> digits.intersection(odds) == digits & odds\n",
    "\n",
    "합집합-교집합\n",
    ">digits.symmetric_difference(odds) == digits ^ odds\n",
    "\n",
    "합집합\n",
    "> digits.union(odds) == digits | odds"
   ]
  },
  {
   "cell_type": "markdown",
   "id": "1b92cf1b",
   "metadata": {},
   "source": [
    "### Set - Immutable Content: 값 변경 불가능"
   ]
  },
  {
   "cell_type": "markdown",
   "id": "8827ebab",
   "metadata": {},
   "source": [
    "set supports \"in\" operator(value_A in set_A)\n",
    "\n",
    "> List: Flexible but slow \n",
    "/ Set: Immutable but FAST (Hashable)\n",
    "\n",
    "(수정 가능한) list가 (수정 불가능한) set의 element가 될 수 없음. "
   ]
  },
  {
   "cell_type": "markdown",
   "id": "d5fde836",
   "metadata": {},
   "source": [
    "# Tuples"
   ]
  },
  {
   "cell_type": "markdown",
   "id": "b8fc2d0d",
   "metadata": {},
   "source": [
    "OREDERD, But IMMUTABLE\n",
    "\n",
    "Declare a tuple using()"
   ]
  },
  {
   "cell_type": "code",
   "execution_count": 56,
   "id": "db43a8ad",
   "metadata": {},
   "outputs": [],
   "source": [
    "num = ()\n",
    "num = (8, ) # 원소가 1개이면 마지막에 , 추가\n",
    "num = (5+3, )\n",
    "nums = (8, 3, 4)"
   ]
  },
  {
   "cell_type": "code",
   "execution_count": 55,
   "id": "25dd836d",
   "metadata": {},
   "outputs": [],
   "source": [
    "#Tuples cannot be mutated\n",
    "family = (\"dad\", \"mom\", \"me\")\n",
    "#family[0] = \"grand father\" >>> ERROR\n",
    "#'tuple' object does not support item assignment"
   ]
  },
  {
   "cell_type": "code",
   "execution_count": 54,
   "id": "aa32e83c",
   "metadata": {},
   "outputs": [
    {
     "data": {
      "text/plain": [
       "(['dad', 61], ['mom', 58], ['me', 23])"
      ]
     },
     "execution_count": 54,
     "metadata": {},
     "output_type": "execute_result"
    }
   ],
   "source": [
    "#Objects inside tuples CAN be mutated\n",
    "family = ([\"dad\", 60], [\"mom\", 58], [\"me\", 23])\n",
    "family[0][1] = 61\n",
    "family"
   ]
  },
  {
   "cell_type": "markdown",
   "id": "ea754b88",
   "metadata": {},
   "source": [
    "# Dictionaries"
   ]
  },
  {
   "cell_type": "markdown",
   "id": "d9b0ddef",
   "metadata": {},
   "source": [
    "UNORDERED, MUTABLE, No Duplicates / Declare using {}\n",
    "\n",
    "Collection : Mutable\n",
    "\n",
    "Element: Key = Immutable & Value = Mutable\n",
    "\n",
    "Key/value pairs\n",
    "\n",
    "Key is like index in lists"
   ]
  },
  {
   "cell_type": "code",
   "execution_count": 80,
   "id": "16a27107",
   "metadata": {},
   "outputs": [],
   "source": [
    "dict_grades = {\"inhoe\":\"A\", \"yesong\":\"A+\", \"jeawook\":\"B\"}"
   ]
  },
  {
   "cell_type": "code",
   "execution_count": 81,
   "id": "fc56f9c6",
   "metadata": {},
   "outputs": [
    {
     "data": {
      "text/plain": [
       "'A+'"
      ]
     },
     "execution_count": 81,
     "metadata": {},
     "output_type": "execute_result"
    }
   ],
   "source": [
    "#Modify existing Key/Value Pair\n",
    "dict_grades[\"inhoe\"] = \"A+\"\n",
    "dict_grades[\"inhoe\"] "
   ]
  },
  {
   "cell_type": "code",
   "execution_count": 82,
   "id": "9e1aa11d",
   "metadata": {},
   "outputs": [
    {
     "data": {
      "text/plain": [
       "{'inhoe': 'A+', 'yesong': 'A+', 'jeawook': 'B', 'dakyeom': 'A'}"
      ]
     },
     "execution_count": 82,
     "metadata": {},
     "output_type": "execute_result"
    }
   ],
   "source": [
    "#ADD New Key/Value Pair\n",
    "dict_grades[\"dakyeom\"] = \"A\"\n",
    "dict_grades"
   ]
  },
  {
   "cell_type": "code",
   "execution_count": 83,
   "id": "ad4b6db1",
   "metadata": {},
   "outputs": [
    {
     "data": {
      "text/plain": [
       "True"
      ]
     },
     "execution_count": 83,
     "metadata": {},
     "output_type": "execute_result"
    }
   ],
   "source": [
    "#\"in\" operation by KEY, fast!\n",
    "\"inhoe\" in dict_grades"
   ]
  },
  {
   "cell_type": "markdown",
   "id": "a1b7b768",
   "metadata": {},
   "source": [
    "### Dictionaries - Looping"
   ]
  },
  {
   "cell_type": "code",
   "execution_count": 84,
   "id": "c15e33fb",
   "metadata": {},
   "outputs": [
    {
     "name": "stdout",
     "output_type": "stream",
     "text": [
      "inhoe got grade A+\n",
      "yesong got grade A+\n",
      "jeawook got grade B\n",
      "dakyeom got grade A\n"
     ]
    }
   ],
   "source": [
    "for student in dict_grades:\n",
    "    print(student, \"got grade\", dict_grades[student])"
   ]
  },
  {
   "cell_type": "markdown",
   "id": "b708af25",
   "metadata": {},
   "source": [
    "• dict_grades.clear()\n",
    "    • Remove all key/value pairs\n",
    "\n",
    "• dict_grades.keys()\n",
    "    • Returns all keys as a set-like object (unique entries)\n",
    "\n",
    "• dict_grades.items()\n",
    "    • Returns all key/value pairs as set-like objects (unique entries)\n",
    "\n",
    "• dict_grades.values()\n",
    "    • Returns all values as a list-like object (maybe not unique entries)\n",
    "\n",
    "• dict_grades.get(k)\n",
    "    • Returns the value associated with key k\n",
    "\n",
    "• dict_grades.get(k, v)\n",
    "    • Same + returns v if key k is not present\n",
    "    \n",
    "• dict_grades.pop(k)\n",
    "    • Removes key k and returns the value associated with the key\n",
    "    \n",
    "• dict_grades.pop(k,v)\n",
    "• Same + returns v if key k is not present\n",
    "\n",
    "• dict_grades.setdefault(k)\n",
    "• Returns the value associated with key k, if key k is not present, add it and set its associated value to None\n",
    "\n",
    "• dict_grades.setdefault(k,v)\n",
    "• Returns the value associated with key k, if key k is not present, add it and set its associated value to v\n",
    "\n",
    "• dict_grades.update(dict2)\n",
    "• Update dict_grades with the contents of dict2"
   ]
  },
  {
   "cell_type": "code",
   "execution_count": 89,
   "id": "aa056edb",
   "metadata": {},
   "outputs": [
    {
     "data": {
      "text/plain": [
       "dict_keys(['inhoe', 'yesong', 'jeawook', 'dakyeom'])"
      ]
     },
     "execution_count": 89,
     "metadata": {},
     "output_type": "execute_result"
    }
   ],
   "source": [
    "dict_grades.keys()"
   ]
  },
  {
   "cell_type": "code",
   "execution_count": 90,
   "id": "8867a0a5",
   "metadata": {},
   "outputs": [
    {
     "data": {
      "text/plain": [
       "dict_items([('inhoe', 'A+'), ('yesong', 'A+'), ('jeawook', 'B'), ('dakyeom', 'A')])"
      ]
     },
     "execution_count": 90,
     "metadata": {},
     "output_type": "execute_result"
    }
   ],
   "source": [
    "dict_grades.items()"
   ]
  },
  {
   "cell_type": "code",
   "execution_count": 99,
   "id": "e47604c0",
   "metadata": {},
   "outputs": [
    {
     "data": {
      "text/plain": [
       "0"
      ]
     },
     "execution_count": 99,
     "metadata": {},
     "output_type": "execute_result"
    }
   ],
   "source": [
    "dict_grades.get(\"hyung-sin\", 0)"
   ]
  },
  {
   "cell_type": "code",
   "execution_count": 100,
   "id": "ebd1e4b0",
   "metadata": {},
   "outputs": [
    {
     "data": {
      "text/plain": [
       "'A+'"
      ]
     },
     "execution_count": 100,
     "metadata": {},
     "output_type": "execute_result"
    }
   ],
   "source": [
    "dict_grades.setdefault(\"Juhee\", \"A+\")"
   ]
  },
  {
   "cell_type": "code",
   "execution_count": 102,
   "id": "bb7ccb40",
   "metadata": {},
   "outputs": [],
   "source": [
    "dict_grades.setdefault(\"Hyeongguen\")"
   ]
  },
  {
   "cell_type": "code",
   "execution_count": 111,
   "id": "c4890f96",
   "metadata": {},
   "outputs": [],
   "source": [
    "dict_grades.get(\"Hyeongguen\")"
   ]
  },
  {
   "cell_type": "code",
   "execution_count": 109,
   "id": "30221024",
   "metadata": {},
   "outputs": [
    {
     "data": {
      "text/plain": [
       "{'inhoe': 'A+',\n",
       " 'yesong': 'A+',\n",
       " 'jeawook': 'B',\n",
       " 'dakyeom': 'A',\n",
       " 'Juhee': 'A+',\n",
       " 'Hyeongguen': None}"
      ]
     },
     "execution_count": 109,
     "metadata": {},
     "output_type": "execute_result"
    }
   ],
   "source": [
    "dict_grades"
   ]
  }
 ],
 "metadata": {
  "kernelspec": {
   "display_name": "Python 3 (ipykernel)",
   "language": "python",
   "name": "python3"
  },
  "language_info": {
   "codemirror_mode": {
    "name": "ipython",
    "version": 3
   },
   "file_extension": ".py",
   "mimetype": "text/x-python",
   "name": "python",
   "nbconvert_exporter": "python",
   "pygments_lexer": "ipython3",
   "version": "3.9.10"
  }
 },
 "nbformat": 4,
 "nbformat_minor": 5
}
