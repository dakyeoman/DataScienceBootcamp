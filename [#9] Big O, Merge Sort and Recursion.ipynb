{
 "cells": [
  {
   "cell_type": "markdown",
   "id": "75020985",
   "metadata": {},
   "source": [
    "# Big O Notation\n",
    "\n",
    "### Formal Definition\n",
    "- if a function T(N) has its \"order of growth\" less than or equal to f(N)\n",
    "\n",
    "    ➡️ T(N)은 O(f(N))에 포함된다 = O의 N제곱\n",
    "    \n",
    "    T(N)이 k * f(N)보다 작거나 같아진다. (언젠가는) \n",
    "    \n",
    "    "
   ]
  },
  {
   "cell_type": "markdown",
   "id": "4c026d67",
   "metadata": {},
   "source": [
    "### Two Types of Program Cost\n",
    "- Execution Cost\n",
    "    - Time Complexity \n",
    "    - Memory Complexity\n",
    "    \n",
    "    \n",
    "- Programming cost (very important in practice)\n",
    "    - Developement time\n",
    "    - Readability, modifiability, and maintainability"
   ]
  },
  {
   "cell_type": "markdown",
   "id": "d9618df4",
   "metadata": {},
   "source": [
    "### Measuring Time Complexity\n",
    "- Using a client program\n",
    "    - Pros: 쉽고, 실제 시간 측정 가능 \n",
    "    - Cons: 영향을 미치는 변수가 많음\n",
    "  \n",
    "  \n",
    "  \n",
    "- Count possible operations in terms of input list size N (Input size N 을 통해 계산)\n",
    "    - Pros: Machine과 상관X, Gives algorithm's scalability\n",
    "    - Cons: 계산하기 힘들고 정확한 실제 시간 아님.\n",
    "    \n",
    " ➡️ Asymptotic behavior : N이 거의 무한대에 가까울 때만 고려하여 계산을 간소화시킬 수 있음. \n",
    " \n",
    " ➡️ Order of Growth >>> Specific Value (Specific value에는 관심 없음. Function의 모양새가 중요)\n",
    " \n",
    "### Simplification to Find “Order of Growth\n",
    "1. Consider only the worst case\n",
    "2. Focus on only one operation that has the highest order of growth : \n",
    "3. Remove lower order terms\n",
    "4. Remove constants\n"
   ]
  },
  {
   "cell_type": "markdown",
   "id": "2a812622",
   "metadata": {},
   "source": [
    "# Merge sort"
   ]
  },
  {
   "cell_type": "markdown",
   "id": "ab890a61",
   "metadata": {},
   "source": [
    "### Idea \n",
    "1. \"Divide\" the whole list into two sub-list\n",
    "2. \"Sort\" the left sublist and the right sublist separately \n",
    "       *by using merge sort*\n",
    "\n",
    "3. \"Merge\" the two sorted sublist in a sorted way\n",
    "    \n",
    "        ➡️ *compare the leftmost items* of the two sublists, given that the two lists are already sorted."
   ]
  },
  {
   "cell_type": "markdown",
   "id": "e4396f4c",
   "metadata": {},
   "source": [
    "# Recursion\n",
    "- Function that calss itself during execution\n",
    "- Mergesort calss mergesort that calls mergesort that calls mergesort....\n",
    "    - Short code!\n",
    "    \n",
    "    \n",
    "- 같은 구조를 가진 더 작은 문제를 해결하는 게 도움이 될 때 사용\n",
    "    - Easier to implement"
   ]
  },
  {
   "cell_type": "code",
   "execution_count": 7,
   "id": "3cc0a1de",
   "metadata": {},
   "outputs": [],
   "source": [
    "#e.g. Factorial function\n",
    "\n",
    "def facto(n:int) -> int:\n",
    "    \n",
    "    #Conditional statement check for base cases\n",
    "    #recursion 가능 여부\n",
    "    if n == 0:     \n",
    "        \n",
    "        #Base case: w/o recursive calls\n",
    "        return 1 \n",
    "    \n",
    "    else:\n",
    "        \n",
    "        #Recusive case :w/ recursive calls\n",
    "        return n*facto(n-1)"
   ]
  },
  {
   "cell_type": "markdown",
   "id": "05156245",
   "metadata": {},
   "source": [
    "## Merge sort - Recursive call\n",
    "condiitional statement / base case / recursive case"
   ]
  },
  {
   "cell_type": "code",
   "execution_count": 22,
   "id": "7a7cf019",
   "metadata": {},
   "outputs": [],
   "source": [
    "def mergeSort(L:list) -> None:\n",
    "    mergeSortHelp(L, 0, len(L) - 1) #whole list 0~last\n",
    "    "
   ]
  },
  {
   "cell_type": "code",
   "execution_count": 23,
   "id": "c3ad4910",
   "metadata": {},
   "outputs": [],
   "source": [
    "def mergeSortHelp(L:list, first: int, last: int) -> None:\n",
    "    \n",
    "    #conditional statements *element가 하나거나 아예 없는가?\n",
    "    if first == last: \n",
    "        #sorting이 되어있으므로 아무것도 안 함\n",
    "        return \n",
    "    \n",
    "    else:\n",
    "        #Find Middle point: 먼저 작게 해놓고 first와 합산\n",
    "        mid = first + (last - first) //2 \n",
    "        mergeSortHelp(L, first, mid) \n",
    "        #Recustive call for sublist1\n",
    "        mergeSortHelp(L, mid+1, last)\n",
    "        #Recustive call for sublist2\n",
    "        \n",
    "        ###Core:Merge the two (sorted) sublists###\n",
    "        merge(L, first, mid, last)\n",
    "        \n",
    "    \n",
    "        "
   ]
  },
  {
   "cell_type": "code",
   "execution_count": 24,
   "id": "444d6c59",
   "metadata": {},
   "outputs": [],
   "source": [
    "#Merge Code\n",
    "def merge(L, first, mid, last) -> None:\n",
    "    k = first\n",
    "    sub1 = L[first:mid+1] #sub1's index는 0부터 시작\n",
    "    sub2 = L[mid+1:last+1] \n",
    "    # ➡️ memory complexity가 O의 n이 됨\n",
    "    i = j = 0\n",
    "    \n",
    "    \n",
    "    while i < len(sub1) and j < len(sub2):\n",
    "        if sub[i] <= sub2[j]:\n",
    "            L[k] = sub1[i]\n",
    "            i = i+1\n",
    "        else: \n",
    "            L[k] = sub2[j]\n",
    "            j = j+1\n",
    "            \n",
    "        k = k+1 \n",
    "        #while Loop이 끝나면 sub1, 2중 적어도 하나는 끝난 것\n",
    "        \n",
    "        #남아있는 element가 있으면 그 리스트의 뒷부분을 통으로 갖다붙이면 됨\n",
    "        if i <len(sub1):\n",
    "            L[k:last+1] = sub1[i:]\n",
    "            \n",
    "        elif j < len(sub2):\n",
    "            L[k:last+1] = sub2[j:]"
   ]
  },
  {
   "cell_type": "markdown",
   "id": "ae883d26",
   "metadata": {},
   "source": [
    "- Time Complexity: O(N* log_2 * N) \n",
    "- Memory complexity: O(N)"
   ]
  },
  {
   "cell_type": "code",
   "execution_count": null,
   "id": "bdce9104",
   "metadata": {},
   "outputs": [],
   "source": []
  }
 ],
 "metadata": {
  "kernelspec": {
   "display_name": "Python 3 (ipykernel)",
   "language": "python",
   "name": "python3"
  },
  "language_info": {
   "codemirror_mode": {
    "name": "ipython",
    "version": 3
   },
   "file_extension": ".py",
   "mimetype": "text/x-python",
   "name": "python",
   "nbconvert_exporter": "python",
   "pygments_lexer": "ipython3",
   "version": "3.9.10"
  }
 },
 "nbformat": 4,
 "nbformat_minor": 5
}
