{
 "cells": [
  {
   "cell_type": "markdown",
   "metadata": {
    "id": "ofGg1kIJnU0E"
   },
   "source": [
    "\n",
    "# Instruction\n",
    "\n",
    "❗문제풀이 전, Helper Code를 먼저 실행시켜 주세요\n",
    "\n",
    "1. Q1~Q3 섹션 내 뼈대 코드를 완성 후\n",
    "2. Test 섹션을 실행시켜 결과를 확인하실 수 있습니다."
   ]
  },
  {
   "cell_type": "markdown",
   "metadata": {
    "id": "qjIYGyIOntDl"
   },
   "source": [
    "# Helper Code"
   ]
  },
  {
   "cell_type": "code",
   "execution_count": 1,
   "metadata": {
    "executionInfo": {
     "elapsed": 9,
     "status": "ok",
     "timestamp": 1643183290146,
     "user": {
      "displayName": "­유은이 / 학생 / 데이터사이언스학과",
      "photoUrl": "https://lh3.googleusercontent.com/a/default-user=s64",
      "userId": "13602239954273849034"
     },
     "user_tz": -540
    },
    "id": "Z8lxlE84ocSE"
   },
   "outputs": [],
   "source": [
    "\"\"\"\n",
    "Helper code for Q1~Q2\n",
    "\"\"\"\n",
    "\n",
    "# Definition for Node of singly linked list.\n",
    "class ListNode:\n",
    "    def __init__(self, val=0, next=None):\n",
    "        self.val = val\n",
    "        self.next = next\n",
    "\n",
    "def create_linked_list(l: list) -> ListNode:\n",
    "    if len(l) == 0:\n",
    "        return None\n",
    "    \n",
    "    start = ListNode(l[0])\n",
    "    node = start\n",
    "    \n",
    "    for i in range(1, len(l)):\n",
    "        node_new = ListNode(l[i])\n",
    "        node.next = node_new\n",
    "        node = node_new\n",
    "    \n",
    "    return start\n",
    "\n",
    "# Print all values in the linked list\n",
    "def print_linked_list(n: ListNode, l: list) -> None:\n",
    "    if n is not None:\n",
    "        l.append(n.val)\n",
    "        print_linked_list(n.next, l)\n",
    "    else:\n",
    "        print(l)"
   ]
  },
  {
   "cell_type": "code",
   "execution_count": 2,
   "metadata": {
    "executionInfo": {
     "elapsed": 870,
     "status": "ok",
     "timestamp": 1643183291011,
     "user": {
      "displayName": "­유은이 / 학생 / 데이터사이언스학과",
      "photoUrl": "https://lh3.googleusercontent.com/a/default-user=s64",
      "userId": "13602239954273849034"
     },
     "user_tz": -540
    },
    "id": "CrFbn4615vAu"
   },
   "outputs": [],
   "source": [
    "\"\"\"\n",
    "Helper code for Q3\n",
    "\"\"\"\n",
    "\n",
    "# Definition for TreeNode.\n",
    "class TreeNode:\n",
    "    def __init__(self, val=0, left=None, right=None):\n",
    "        self.val = val\n",
    "        self.left = left\n",
    "        self.right = right\n",
    "    def printTree(self) -> list:\n",
    "        result = list()\n",
    "        thislevel = [self]\n",
    "        while thislevel:\n",
    "            nextlevel = list()\n",
    "            none_list=1\n",
    "            for n in thislevel:\n",
    "                if n !=None:\n",
    "                    none_list=0\n",
    "                    break\n",
    "            if none_list==1:\n",
    "                return result\n",
    "                        \n",
    "            for n in thislevel:\n",
    "                if n != None: \n",
    "                    result.append(n.val)\n",
    "                    nextlevel.append(n.left)\n",
    "                    nextlevel.append(n.right)\n",
    "                else:\n",
    "                    result.append(None)\n",
    "                    nextlevel.append(None)\n",
    "                    nextlevel.append(None)\n",
    "                    \n",
    "            thislevel = nextlevel\n",
    "        return result\n",
    "\n",
    "#Create a BST from a list, then return root node\n",
    "from collections import deque\n",
    "\n",
    "def create_linked_bst(arr: list) -> TreeNode:\n",
    "    if len(arr) < 1: return None\n",
    "    n = iter(arr)\n",
    "    tree = TreeNode(next(n))\n",
    "    fringe = deque([tree])\n",
    "    while True:\n",
    "        head = fringe.popleft()\n",
    "        try:\n",
    "            l = next(n)\n",
    "            head.left = TreeNode(l) if l != None else None\n",
    "            fringe.append(head.left)\n",
    "            r = next(n)\n",
    "            head.right = TreeNode(r) if r != None else None\n",
    "            fringe.append(head.right)\n",
    "        except StopIteration:\n",
    "            break\n",
    "    return tree"
   ]
  },
  {
   "cell_type": "markdown",
   "metadata": {
    "id": "4a6EgVlvoGGx"
   },
   "source": [
    "# Q1 - Stack\n",
    "\n"
   ]
  },
  {
   "cell_type": "raw",
   "metadata": {
    "id": "uSpLiW02qWgZ"
   },
   "source": [
    "Input이 아래 규칙에 의해 유효한지를 판단하는 함수를 작성하여라.\n",
    "- Input: '(‘, ‘)’, ‘{‘, ‘}’, ‘[‘, ‘]’으로 구성된 String\n",
    "- Output: Input이 유효한지 판단하는 boolean 값 (True/False)\n",
    "\n",
    "✅ 괄호가 열렸다면 같은 타입의 괄호에 의해 닫혀야 한다.\n",
    "\n",
    "✅ 적절한 순서로 괄호가 배열되어야 한다. 안쪽에서 열린 괄호가 먼저 닫히고, 바깥쪽 괄호가 닫혀야 한다.\n",
    "\n",
    "\n",
    "---\n",
    "\n",
    "예시 1)\n",
    "```\n",
    ">>> Q1( ‘()’ )\n",
    "True\n",
    "```\n",
    "\n",
    "\n",
    "\n",
    "예시2)\n",
    "```\n",
    ">>> Q1( ‘()[]{}’ ) \n",
    "True\n",
    "```\n",
    "\n",
    "\n",
    "예시3) \n",
    "```\n",
    ">>> Q1( ‘([)]’ ) \n",
    "False\n",
    "```\n",
    "∵ 안쪽에서 열린 ‘[‘가 닫히기 전에 ‘(‘가 먼저 닫혔으므로 유효하지 않음\n",
    "\n",
    "\n"
   ]
  },
  {
   "cell_type": "code",
   "execution_count": 18,
   "metadata": {
    "id": "pOdsdiyPnTIf"
   },
   "outputs": [],
   "source": [
    "def Q1(parentheses: str) -> bool:  \n",
    "    ##### Write your Code Here #####   \n",
    "    stack = []\n",
    "    m = {'{':'}','(':')','[':']'}   \n",
    "    \n",
    "    for c in parentheses: \n",
    "        if c == '(' or '{' or '[':\n",
    "            stack.append(c)\n",
    "        else: \n",
    "            if len(stack) == 0:\n",
    "                return False\n",
    "            \n",
    "            else:\n",
    "                if stack.pop() != m[c]: \n",
    "                    return False\n",
    "                \n",
    "        return len(stack) == 0\n",
    "    \n",
    "    ##### End of your code #####"
   ]
  },
  {
   "cell_type": "markdown",
   "metadata": {
    "id": "yc2uqexaseQ4"
   },
   "source": [
    "# Q2 - Linked List"
   ]
  },
  {
   "cell_type": "markdown",
   "metadata": {
    "id": "4FnG_tXjuEnt"
   },
   "source": [
    "주어진 Singly linked list를 뒤집는 함수를 작성하여라. \n",
    "- Input: Singly linked list의 첫번째 Node\n",
    "- Return: 순서가 뒤집힌 Singly linked list의 첫번째 Node\n",
    "\n",
    "✅ 추가적인 메모리 할당없이 주어진 Linked list 형태를 유지하며 계산할 것.\n",
    "\n",
    "(create_linked_list 함수와 print_linked_list 함수를 활용하여 아래와 같이 함수의 동작을 확인할 수 있다.)\n",
    "\n",
    "\n",
    "\n",
    "---\n",
    "\n",
    "\n",
    "예시1)\n",
    "\n",
    "```\n",
    ">>> l1 = create_linked_list([4,2,1,3])\n",
    ">>> print_linked_list(Q2(l1),[])\n",
    "[3,1,2,4]\n",
    "```\n",
    "\n",
    "예시2)\n",
    "```\n",
    ">>> l2 = create_linked_list([-1,5,0,2,3])\n",
    ">>> print_linked_list(Q2(l2),[])\n",
    "[3,2,0,5,-1]\n",
    "```\n",
    "\n",
    "예시3)\n",
    "```\n",
    ">>> l3 = create_linked_list([])\n",
    ">>> print_linked_list(Q2(l3),[])\n",
    "[]\n",
    "```"
   ]
  },
  {
   "cell_type": "code",
   "execution_count": null,
   "metadata": {
    "id": "0DlvxPO3shAM"
   },
   "outputs": [],
   "source": [
    "def Q2(head: ListNode) -> ListNode: \n",
    "    ##### Write your Code Here #####\n",
    "\n",
    "    return None\n",
    "    ##### End of your code #####"
   ]
  },
  {
   "cell_type": "markdown",
   "metadata": {
    "id": "IlTYFOU2w5P9"
   },
   "source": [
    "# Q3 - Binary Search Tree"
   ]
  },
  {
   "cell_type": "markdown",
   "metadata": {
    "id": "WqZzentsw8Di"
   },
   "source": [
    "BST에서 range [low, high]에 해당하는 BST의 모든 노드 값을 합산하여 반환하는 함수를 작성하여라.\n",
    "\n",
    "- Input: root node, low, high\n",
    "- Output: [low, high]에 해당하는 노드 값의 합\n",
    "\n",
    "✅ BST 내 중복되는 값은 없다.\n",
    "\n",
    "(create_linked_bst 함수와 printTree()를 활용하여 아래와 같이 함수의 동작을 확인할 수 있다.)\n",
    "\n",
    "\n",
    "---\n",
    "\n",
    "예시1) - BST 구조 이미지는 doc 참고\n",
    "\n",
    "```\n",
    ">>> root = create_linked_bst([10,5,15,3,7,None,18])\n",
    ">>> root.printTree()\n",
    "[10, 5, 15, 3, 7, None, 18]\n",
    ">>> Q3(root, 7, 15)\n",
    "32\n",
    "```\n",
    "\n",
    "예시2) - BST 구조 이미지는 doc 참고\n",
    "\n",
    "```\n",
    ">>> root = create_linked_bst([10,5,15,3,7,13,18,1,None,6])\n",
    ">>> root.printTree()\n",
    "[10, 5, 15, 3, 7, 13, 18, 1, None, 6, None, None, None, None, None]\n",
    ">>> Q3(root, 6, 10)\n",
    "23\n",
    "```"
   ]
  },
  {
   "cell_type": "code",
   "execution_count": null,
   "metadata": {
    "id": "b93kZXxmtHdH"
   },
   "outputs": [],
   "source": [
    "def Q3(root: TreeNode, low: int, high: int) -> int:     \n",
    "    ##### Write your Code Here #####\n",
    "\n",
    "    return None\n",
    "    ##### End of your code #####"
   ]
  },
  {
   "cell_type": "code",
   "execution_count": null,
   "metadata": {
    "id": "HigaA7nm_u0A"
   },
   "outputs": [],
   "source": []
  },
  {
   "cell_type": "markdown",
   "metadata": {
    "id": "9_GHfHzsArY8"
   },
   "source": [
    "# Test"
   ]
  },
  {
   "cell_type": "code",
   "execution_count": null,
   "metadata": {
    "id": "iKGjG9TBAveX"
   },
   "outputs": [],
   "source": [
    "_inputs = [[\"(\", \"()[]{}\", \"([)]\"], # Q1 input\n",
    "           [create_linked_list([4,2,1,3]), create_linked_list([-1,5,0,2,3]), create_linked_list([])], # Q2 input\n",
    "           [(create_linked_bst([10,5,15,3,7,None,18]), 6, 10), (create_linked_bst([10,5,15,3,7,13,18,1,None,6]), 6, 10)] # Q3 input\n",
    "           ]"
   ]
  },
  {
   "cell_type": "code",
   "execution_count": null,
   "metadata": {
    "colab": {
     "base_uri": "https://localhost:8080/"
    },
    "executionInfo": {
     "elapsed": 4,
     "status": "ok",
     "timestamp": 1643011153617,
     "user": {
      "displayName": "­유은이 / 학생 / 데이터사이언스학과",
      "photoUrl": "https://lh3.googleusercontent.com/a/default-user=s64",
      "userId": "13602239954273849034"
     },
     "user_tz": -540
    },
    "id": "Jh-OKV4I_KW6",
    "outputId": "717aa92e-8c5b-48ef-96a2-28416f9ee63d"
   },
   "outputs": [
    {
     "name": "stdout",
     "output_type": "stream",
     "text": [
      "**** Check Q1 ****\n",
      "None\n",
      "None\n",
      "None\n",
      "**** Check Q2 ****\n",
      "[]\n",
      "[]\n",
      "[]\n",
      "**** Check Q3 ****\n",
      "None\n",
      "None\n"
     ]
    }
   ],
   "source": [
    "  \n",
    "print(\"**** Check Q1 ****\")\n",
    "for _input in _inputs[0]:\n",
    "    print(Q1(_input))\n",
    "\n",
    "print(\"**** Check Q2 ****\")\n",
    "for _input in _inputs[1]:\n",
    "    print_linked_list(Q2(_input),[])\n",
    "\n",
    "print(\"**** Check Q3 ****\")\n",
    "for _input in _inputs[2]:\n",
    "    print(Q3(_input[0], _input[1], _input[2]))\n"
   ]
  },
  {
   "cell_type": "code",
   "execution_count": null,
   "metadata": {
    "id": "BQVezEBzBVEs"
   },
   "outputs": [],
   "source": []
  }
 ],
 "metadata": {
  "colab": {
   "authorship_tag": "ABX9TyO+yI0w81C6vXUbgEFtYltF",
   "collapsed_sections": [
    "ofGg1kIJnU0E",
    "qjIYGyIOntDl",
    "4a6EgVlvoGGx"
   ],
   "name": "practice_5_2_10.ipynb",
   "provenance": [],
   "toc_visible": true
  },
  "kernelspec": {
   "display_name": "Python 3 (ipykernel)",
   "language": "python",
   "name": "python3"
  },
  "language_info": {
   "codemirror_mode": {
    "name": "ipython",
    "version": 3
   },
   "file_extension": ".py",
   "mimetype": "text/x-python",
   "name": "python",
   "nbconvert_exporter": "python",
   "pygments_lexer": "ipython3",
   "version": "3.9.10"
  }
 },
 "nbformat": 4,
 "nbformat_minor": 1
}
