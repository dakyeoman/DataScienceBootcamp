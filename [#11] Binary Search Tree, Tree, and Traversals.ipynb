{
 "cells": [
  {
   "cell_type": "markdown",
   "id": "1595d562",
   "metadata": {},
   "source": [
    "# Tree\n",
    "\n",
    "- 서로 연결된 모든 nodes \n",
    "- 두 nodes가 연결되는 길은 단 한 개 \n",
    "- 하나의 node도 tree 로 인정함\n",
    "\n"
   ]
  },
  {
   "cell_type": "markdown",
   "id": "cada0634",
   "metadata": {},
   "source": [
    "# Rooted Binary Trees\n",
    "- Rooted tree \n",
    "    - 맨 위 node를 Root로 지정\n",
    "    - 모든 node는 하나의 parent를 가짐: Root까지 가는 Path에서 가장 가까이 있는 node\n",
    "    - child가 없는 node는 leaf라고 함\n",
    "    - 이러한 관계는 상대적으로 사용\n",
    "    \n",
    "\n",
    "- Rooted binary tree: 최대 2개의 child nodes\n",
    "    \n",
    "# Binary Search trees\n",
    "\n",
    "'serach' following Two properties\n",
    "- 조건 1. 모든 node x에 대해, 그 값은 모두 unique해야 함(중복X)\n",
    "- 조건 2. 모든 node x에 대해, 왼쪽 Subtree에 있는 node의 값은 x의 값보다 작아야 한다. ( =오른쪽 Subtree에 있는 값들은 x보다 큰 값을 가져야 한다.)\n",
    "\n",
    "\n",
    "\n"
   ]
  },
  {
   "cell_type": "code",
   "execution_count": 3,
   "id": "0ecd5f3c",
   "metadata": {},
   "outputs": [],
   "source": [
    "class TreeNode():\n",
    "    def __init__(self, x:int):\n",
    "        self.val = x\n",
    "        self.left = None\n",
    "        self.right = None"
   ]
  },
  {
   "cell_type": "code",
   "execution_count": 4,
   "id": "d81debdc",
   "metadata": {},
   "outputs": [
    {
     "ename": "IndentationError",
     "evalue": "expected an indented block (57981980.py, line 7)",
     "output_type": "error",
     "traceback": [
      "\u001b[0;36m  Input \u001b[0;32mIn [4]\u001b[0;36m\u001b[0m\n\u001b[0;31m    def insert(self, x:int):\u001b[0m\n\u001b[0m    ^\u001b[0m\n\u001b[0;31mIndentationError\u001b[0m\u001b[0;31m:\u001b[0m expected an indented block\n"
     ]
    }
   ],
   "source": [
    "class BST(): \n",
    "    def __init__(self):\n",
    "        self.root = None\n",
    "        \n",
    "    def search(self, x:int):\n",
    "        \n",
    "    def insert(self, x:int):\n",
    "        \n",
    "    def insert(self, x:int):"
   ]
  },
  {
   "cell_type": "code",
   "execution_count": 5,
   "id": "2b5f713f",
   "metadata": {},
   "outputs": [],
   "source": [
    "#1. Search()\n",
    "#Recursion\n",
    "\n",
    "class BST():\n",
    "    def __searchHelp(curNode:TreeNode, x) -> TreeNode:\n",
    "    #(curNode, x): 현재 node와 그 node's child를 포함한 Tree 내부(하위구조)에서 x를 찾는다\n",
    "    \n",
    "        if not curNode:\n",
    "            return None\n",
    "        \n",
    "        if x == curNode.val:\n",
    "            return curNode\n",
    "        \n",
    "        # >>> tree ÷ 2 below\n",
    "        elif x < curNode.val:\n",
    "            return self.__searchHelp(curNode.left, x) \n",
    "        \n",
    "        else:\n",
    "            return self.__searchHelp(curNode.right, x)\n",
    "    \n",
    "    def search(self, x:int) -> TreeNode:\n",
    "        return self.__searchHelp(self.root, x) \n",
    "        #input으로 x, 그리고 search의 시작점(특정 node)이 들어감"
   ]
  },
  {
   "cell_type": "code",
   "execution_count": null,
   "id": "543944bb",
   "metadata": {},
   "outputs": [],
   "source": [
    "#2. insert()\n",
    "\n"
   ]
  }
 ],
 "metadata": {
  "kernelspec": {
   "display_name": "Python 3 (ipykernel)",
   "language": "python",
   "name": "python3"
  },
  "language_info": {
   "codemirror_mode": {
    "name": "ipython",
    "version": 3
   },
   "file_extension": ".py",
   "mimetype": "text/x-python",
   "name": "python",
   "nbconvert_exporter": "python",
   "pygments_lexer": "ipython3",
   "version": "3.9.10"
  }
 },
 "nbformat": 4,
 "nbformat_minor": 5
}
