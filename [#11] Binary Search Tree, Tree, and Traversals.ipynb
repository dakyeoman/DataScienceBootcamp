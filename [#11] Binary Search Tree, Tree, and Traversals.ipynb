{
 "cells": [
  {
   "cell_type": "markdown",
   "id": "867f1308",
   "metadata": {},
   "source": [
    "# Tree\n",
    "\n",
    "- 서로 연결된 모든 nodes \n",
    "- 두 nodes가 연결되는 길은 단 한 개 \n",
    "- 하나의 node도 tree 로 인정함\n",
    "\n"
   ]
  },
  {
   "cell_type": "markdown",
   "id": "53c41c57",
   "metadata": {},
   "source": [
    "# Rooted Binary Trees\n",
    "- Rooted tree \n",
    "    - 맨 위 node를 Root로 지정\n",
    "    - 모든 node는 하나의 parent를 가짐: Root까지 가는 Path에서 가장 가까이 있는 node\n",
    "    - child가 없는 node는 leaf라고 함\n",
    "    - 이러한 관계는 상대적으로 사용\n",
    "    \n",
    "\n",
    "- Rooted binary tree: 최대 2개의 child nodes\n",
    "    \n",
    "# Binary Search trees\n",
    "\n",
    "'serach' following Two properties\n",
    "- 조건 1. 모든 node x에 대해, 그 값은 모두 unique해야 함(중복X)\n",
    "- 조건 2. 모든 node x에 대해, 왼쪽 Subtree에 있는 node의 값은 x의 값보다 작아야 한다. ( =오른쪽 Subtree에 있는 값들은 x보다 큰 값을 가져야 한다.)\n",
    "\n",
    "\n",
    "\n"
   ]
  },
  {
   "cell_type": "code",
   "execution_count": 3,
   "id": "ed7fd1f0",
   "metadata": {},
   "outputs": [],
   "source": [
    "class TreeNode():\n",
    "    def __init__(self, x:int):\n",
    "        \n",
    "        self.val = x\n",
    "        self.left = None\n",
    "        self.right = None"
   ]
  },
  {
   "cell_type": "code",
   "execution_count": 12,
   "id": "ef2cd976",
   "metadata": {},
   "outputs": [
    {
     "ename": "IndentationError",
     "evalue": "expected an indented block (1614947840.py, line 6)",
     "output_type": "error",
     "traceback": [
      "\u001b[0;36m  Input \u001b[0;32mIn [12]\u001b[0;36m\u001b[0m\n\u001b[0;31m    def insert(self, x:int):\u001b[0m\n\u001b[0m    ^\u001b[0m\n\u001b[0;31mIndentationError\u001b[0m\u001b[0;31m:\u001b[0m expected an indented block\n"
     ]
    }
   ],
   "source": [
    "class BST(): \n",
    "    def __init__(self):\n",
    "        self.root = None\n",
    "        \n",
    "    def search(self, x:int):\n",
    "    def insert(self, x:int): \n",
    "    def delete(self, x:int):"
   ]
  },
  {
   "cell_type": "markdown",
   "id": "b190fa59",
   "metadata": {},
   "source": [
    "### 1. Search( )"
   ]
  },
  {
   "cell_type": "code",
   "execution_count": 6,
   "id": "85553100",
   "metadata": {},
   "outputs": [],
   "source": [
    "class BST():\n",
    "    def __searchHelp(self, curNode:TreeNode, x) -> TreeNode:\n",
    "    #(curNode, x): 현재 node와 그 node's child를 포함한 Tree 내부(하위구조)에서 x를 찾는다\n",
    "    \n",
    "        if not curNode:\n",
    "            return None\n",
    "        \n",
    "        if x == curNode.val:\n",
    "            return curNode\n",
    "        \n",
    "        # >>> tree ÷ 2 below\n",
    "        elif x < curNode.val:\n",
    "            return self.__searchHelp(curNode.left, x) \n",
    "        \n",
    "        else:\n",
    "            return self.__searchHelp(curNode.right, x)\n",
    "    \n",
    "    def search(self, x:int) -> TreeNode:\n",
    "        return self.__searchHelp(self.root, x) \n",
    "        #input으로 x, 그리고 search의 시작점(특정 node)이 들어감"
   ]
  },
  {
   "cell_type": "markdown",
   "id": "c8cfe3f9",
   "metadata": {},
   "source": [
    "### 2. Insert( )"
   ]
  },
  {
   "cell_type": "code",
   "execution_count": 11,
   "id": "3ea49d68",
   "metadata": {},
   "outputs": [],
   "source": [
    "class BST():\n",
    "    def __insertHelp(self, curNode: TreeNode, x:int) -> TreeNode:\n",
    "        if not curNode:\n",
    "            return TreeNode(x) \n",
    "            # x를 Value로 가진 TreeNode를 만들어서 return \n",
    "        \n",
    "        if x < curNode.val:\n",
    "            curNode.left = self.__insertHelp(curNode.left, x)\n",
    "            # 새로운 treeNode를 Parent Node와 연결 \n",
    "        \n",
    "        elif x > curNode.val:\n",
    "            curNode.right = self.__insertHelp(curNode.right, x)\n",
    "            # 새로운 treeNode를 Parent Node와 연결 \n",
    "            \n",
    "        return curNode\n",
    "        \n",
    "        \n",
    "        \n",
    "    def insert(self, x:int) -> None:\n",
    "        self.root = self.__insertHelp(self.root, x) #?\n",
    "        "
   ]
  },
  {
   "cell_type": "markdown",
   "id": "078f9bb2",
   "metadata": {},
   "source": [
    "### 3. Delete( )\n",
    "\n",
    "#### Case1: Delete a LEAF node (No child)\n",
    "        -\"Search\" the node using its key value\n",
    "        - Simply \"cut\" the parent's link: 링크를 끊음 \n",
    "        - Then the target node is gone\n",
    "        \n",
    "#### Case2: Delete a node with ONE CHILD\n",
    "        - *Parent를 없앴을 때 child를 누가 입양할 것인지\n",
    "        - *We should maintain \"BST property\" \n",
    "           aft removing the target node\n",
    "           \n",
    "        -\"Search\" the node using its key value\n",
    "        - \"Cut\" the parent's link to the target\n",
    "        - Move the child node to where the target node was\n",
    "          (Left or Right)\n",
    "        - Then the target node is gone\n",
    "\n",
    "#### Case3: Delete a node with TWO CHILD\n",
    "        - <ROOT를 삭제하면?>\n",
    "        -\"Search\" the node using its key value\n",
    "        \n",
    "        - *We should maintain \"BST property\" \n",
    "           aft removing the target node\n",
    "               \n",
    "               - Find a subtree node that can be located \n",
    "                 at the target node's location\n",
    "                 \n",
    "               #Case 1. 왼쪽 subtree 중 가장 오른쪽에 있는 node\n",
    "                    = 왼쪽의 모든 value 중 가장 큰 값\n",
    "               #Case 2. 오른쪽 subtree 중 가장 왼쪾에 있는 node\n",
    "                    = 오른쪽의 모든 value 중 가장 작은 값\n",
    "                    "
   ]
  },
  {
   "cell_type": "markdown",
   "id": "a193d5db",
   "metadata": {},
   "source": [
    "## BST Performance\n",
    "#### O(log N) = Tree's depth\n",
    "- *ONLY if the BST is BALANCED : B Tree, B+Tree\n",
    "\n",
    "- Maintainting a BST to be balanced is very important to maximize its performance *out of scope in this class"
   ]
  },
  {
   "cell_type": "markdown",
   "id": "682d678a",
   "metadata": {},
   "source": [
    "# K-ary Trees\n",
    "\n",
    "A Tree that allows each node to have up to \"k\" childeren nodes \n",
    "\n",
    "➡️  A general tree node DOESN'T HAVE TO have only two children nodes\n",
    "\n"
   ]
  },
  {
   "cell_type": "code",
   "execution_count": 13,
   "id": "cd8258e4",
   "metadata": {},
   "outputs": [],
   "source": [
    "class TreeNode():\n",
    "    def __init__(self, x:int, k:int) -> None:\n",
    "        self.val = x\n",
    "        self.arity = k #최대 자녀 개수 = k개\n",
    "        self.child = [None]*k"
   ]
  },
  {
   "cell_type": "markdown",
   "id": "1016b4b3",
   "metadata": {},
   "source": [
    "How to navigate the whole tree conveniently?\n",
    "\n",
    "# Breadth-First(Level-order) Traversal\n",
    "\n",
    "- Visit nodes from left to right -> \n",
    "> level 1 \n",
    " >>▶︎ 2 \n",
    " >>>▶︎ 3,... "
   ]
  },
  {
   "cell_type": "code",
   "execution_count": 19,
   "id": "2d324ff0",
   "metadata": {},
   "outputs": [],
   "source": [
    "#FIFO 구조로 동작 \n",
    "class Tree():\n",
    "    def visit(self, node:TreeNode):\n",
    "        print(node.val)\n",
    "    \n",
    "    def BFT(self):\n",
    "        if self.root == None:\n",
    "            return\n",
    "        q = [self.root] # e.g. >>> q = [T(4)]\n",
    "        \n",
    "        while q:\n",
    "            curNode = q.pop(0) #q에서 가장 왼쪽에 있는 값을 curNode에 assign하고 q에서 삭제\n",
    "            self.visit(curNode) #curNode를 방문\n",
    "            \n",
    "            for childNode in curNode.child:\n",
    "                if childNode:\n",
    "                    q.append(childNode)       "
   ]
  },
  {
   "cell_type": "markdown",
   "id": "fb26a9ae",
   "metadata": {},
   "source": [
    "# BFT - Deque\n",
    "- << Doubly-linked list >> that provides ; 양방향 구조\n",
    "    - append(x), appendleft(x)\n",
    "    - pop(), popleft()\n"
   ]
  },
  {
   "cell_type": "code",
   "execution_count": 25,
   "id": "2dac46fe",
   "metadata": {},
   "outputs": [],
   "source": [
    "from collections import deque\n",
    "\n",
    "class Tree():\n",
    "    def visit(self, node:TreeNode):\n",
    "        print(node.val)\n",
    "    \n",
    "    def BFT(self):\n",
    "        if self.root == None:\n",
    "            return\n",
    "        q = deque([self.root]) #deque구조로 실행\n",
    "        while q:\n",
    "            curNode = q.popleft() #q.pop(0)대신.\n",
    "            self.visit(curNode) #curNode를 방문\n",
    "            \n",
    "            for childNode in curNode.child:\n",
    "                if childNode:\n",
    "                    q.append(childNode)    "
   ]
  },
  {
   "cell_type": "markdown",
   "id": "8b5d5754",
   "metadata": {},
   "source": [
    "# Depth-First Traversal\n",
    "아래로 먼저 탐색\n",
    "\n",
    "visit함수를 언제 실행하느냐에 따라서 3가지로 나누어짐\n",
    "\n",
    "1. Preorder: 나 -> subtree\n",
    "2. inorder: 내 subtree 몇 개 - 나 - > 다른 subtree\n",
    "3. Postorder: 내 subtree - > 나"
   ]
  },
  {
   "cell_type": "code",
   "execution_count": 5,
   "id": "a7a4b978",
   "metadata": {},
   "outputs": [],
   "source": [
    "#Preorder DFT \n",
    "\n",
    "class Tree():\n",
    "    def visit(self, node):\n",
    "        print(node.val)\n",
    "    \n",
    "    def __DFT_preorderHelp(self, curNode):\n",
    "        if curNode == None:\n",
    "            return\n",
    "        #recursion\n",
    "        self.visit(curNode)\n",
    "        for childNode in curNode.child:\n",
    "            self.__DFT_preorderHelp(childNode)\n",
    "        \n",
    "    \n",
    "    def DFT_preorder(self):\n",
    "        self__DFT_preorderHelp(self.root)\n",
    "        \n",
    "\n",
    "#Application: Directory Listing(Type \"tree\")"
   ]
  },
  {
   "cell_type": "code",
   "execution_count": 7,
   "id": "ec6cc508",
   "metadata": {},
   "outputs": [],
   "source": [
    "#Inorder DFT \n",
    "#flattening a BST: Convert a binary search tree to a sorted list\n",
    "class Tree():\n",
    "    def visit(self, node):\n",
    "        print(node.val)\n",
    "    \n",
    "    def __DFT_inorderHelp(self, curNode):\n",
    "        if curNode == None:\n",
    "            return\n",
    "        \n",
    "        for i in range(len(curNode.child)):\n",
    "            if i == 1:\n",
    "                self.visit(curNode)\n",
    "            self.__DFT_inorderHelp(curNode.child[i])\n",
    "    \n",
    "    def DFT_inorder(self):\n",
    "        self.__DFT_inorderHelp(self.root)"
   ]
  },
  {
   "cell_type": "code",
   "execution_count": 10,
   "id": "e7a51682",
   "metadata": {},
   "outputs": [],
   "source": [
    "#Postorder DFT \n",
    "class Tree():\n",
    "    def visit(self, node):\n",
    "        print(node.val)\n",
    "    \n",
    "    def __DFT_postorderHelp(self, curNode):\n",
    "        if curNode == None:\n",
    "            return\n",
    "        \n",
    "        for i in range(len(curNode.child[i])):\n",
    "            self.__DFT_postorderHelp(curNode.child[i])\n",
    "        self.visit(curNode)\n",
    "    \n",
    "    def DFT_postorder(self):\n",
    "        self.__DFT_postorderHelp(self.root)          "
   ]
  },
  {
   "cell_type": "code",
   "execution_count": 9,
   "id": "2f35b40c",
   "metadata": {},
   "outputs": [],
   "source": [
    "#size of Postorder DFT \n",
    "class Tree():\n",
    "    def visit(self, node, size: float) -> None:\n",
    "        node.val += size\n",
    "    \n",
    "    def __DFT_postorderHelp(self, curNode):\n",
    "        if not curNode:\n",
    "            return 0 \n",
    "        subSize = 0 \n",
    "        \n",
    "        for i in range(len(curNode.child)):\n",
    "            sebSize += self.__DFT_postorderHelp(curNode.child[i])\n",
    "        self.visit(curNode, subSize)\n",
    "        return curNode.val\n",
    "    \n",
    "    def DFT_postorder(self):\n",
    "        self.__DFT_postorderHelp(self.root)"
   ]
  },
  {
   "cell_type": "code",
   "execution_count": null,
   "id": "1ea9407b",
   "metadata": {},
   "outputs": [],
   "source": []
  }
 ],
 "metadata": {
  "kernelspec": {
   "display_name": "Python 3 (ipykernel)",
   "language": "python",
   "name": "python3"
  },
  "language_info": {
   "codemirror_mode": {
    "name": "ipython",
    "version": 3
   },
   "file_extension": ".py",
   "mimetype": "text/x-python",
   "name": "python",
   "nbconvert_exporter": "python",
   "pygments_lexer": "ipython3",
   "version": "3.9.10"
  }
 },
 "nbformat": 4,
 "nbformat_minor": 5
}
