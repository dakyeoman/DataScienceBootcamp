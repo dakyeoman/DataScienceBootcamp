{
 "cells": [
  {
   "cell_type": "markdown",
   "id": "dd205ae5",
   "metadata": {},
   "source": [
    "### Operators preccedence: *** ➡️ - ➡️*, /, //.%\n",
    "\n"
   ]
  },
  {
   "cell_type": "markdown",
   "id": "9041de65",
   "metadata": {},
   "source": [
    "int(integer) ➡️ float(floating point)"
   ]
  },
  {
   "cell_type": "markdown",
   "id": "95544ea5",
   "metadata": {},
   "source": [
    "Operators: function name / Operand: values that an operator takes"
   ]
  },
  {
   "cell_type": "code",
   "execution_count": 18,
   "id": "bc5d9508",
   "metadata": {},
   "outputs": [
    {
     "data": {
      "text/plain": [
       "3"
      ]
     },
     "execution_count": 18,
     "metadata": {},
     "output_type": "execute_result"
    }
   ],
   "source": [
    "max(2,3)"
   ]
  },
  {
   "cell_type": "code",
   "execution_count": 21,
   "id": "0c5fc524",
   "metadata": {},
   "outputs": [
    {
     "data": {
      "text/plain": [
       "9"
      ]
     },
     "execution_count": 21,
     "metadata": {},
     "output_type": "execute_result"
    }
   ],
   "source": [
    "max(min(2,3), min(9,10))"
   ]
  },
  {
   "cell_type": "markdown",
   "id": "bf27c502",
   "metadata": {},
   "source": [
    "\n",
    "Value에 이름을 붙이면 Variable"
   ]
  },
  {
   "cell_type": "markdown",
   "id": "65b5b559",
   "metadata": {},
   "source": [
    "이름짓기: Letter, digits, '_' can include. No space / digit으로 시작하면 안됨 / True, False, if, for... (X)"
   ]
  },
  {
   "cell_type": "markdown",
   "id": "ff194879",
   "metadata": {},
   "source": [
    "Assignment: 이름과 Value를 엮어주는 것(bind) "
   ]
  },
  {
   "cell_type": "code",
   "execution_count": 23,
   "id": "951b2374",
   "metadata": {},
   "outputs": [],
   "source": [
    "temp_celsius = 31.0"
   ]
  },
  {
   "cell_type": "code",
   "execution_count": 25,
   "id": "48388849",
   "metadata": {},
   "outputs": [
    {
     "data": {
      "text/plain": [
       "31.0"
      ]
     },
     "execution_count": 25,
     "metadata": {},
     "output_type": "execute_result"
    }
   ],
   "source": [
    "temp_celsius"
   ]
  },
  {
   "cell_type": "code",
   "execution_count": 27,
   "id": "7ffbc34b",
   "metadata": {},
   "outputs": [],
   "source": [
    "x, y = 1, 2"
   ]
  },
  {
   "cell_type": "code",
   "execution_count": 36,
   "id": "c24c75c7",
   "metadata": {},
   "outputs": [],
   "source": [
    "y, x = x, y ##Swapping"
   ]
  },
  {
   "cell_type": "code",
   "execution_count": 30,
   "id": "2fa2a0f0",
   "metadata": {},
   "outputs": [
    {
     "data": {
      "text/plain": [
       "(2, 1)"
      ]
     },
     "execution_count": 30,
     "metadata": {},
     "output_type": "execute_result"
    }
   ],
   "source": [
    "x, y"
   ]
  },
  {
   "cell_type": "code",
   "execution_count": 40,
   "id": "1e574076",
   "metadata": {},
   "outputs": [],
   "source": [
    "temp_celsius = -13.2 ##Reassingment"
   ]
  },
  {
   "cell_type": "code",
   "execution_count": 41,
   "id": "7b8a7982",
   "metadata": {},
   "outputs": [
    {
     "data": {
      "text/plain": [
       "-13.2"
      ]
     },
     "execution_count": 41,
     "metadata": {},
     "output_type": "execute_result"
    }
   ],
   "source": [
    "temp_celsius"
   ]
  },
  {
   "cell_type": "markdown",
   "id": "d700a194",
   "metadata": {},
   "source": [
    "### Memory Model _ a Memory object : Address, Value"
   ]
  },
  {
   "cell_type": "code",
   "execution_count": null,
   "id": "9f74c4d7",
   "metadata": {},
   "outputs": [],
   "source": [
    "# <<variable>> = <<expression>>: 변수=값 아님. "
   ]
  },
  {
   "cell_type": "markdown",
   "id": "b92e662a",
   "metadata": {},
   "source": [
    "#\n",
    "FUCNTION"
   ]
  },
  {
   "cell_type": "code",
   "execution_count": 104,
   "id": "157cad5d",
   "metadata": {},
   "outputs": [],
   "source": [
    "def convert_to_fahrenheit(celsius):\n",
    "    return celsius * 5/9 + 32"
   ]
  },
  {
   "cell_type": "code",
   "execution_count": 106,
   "id": "ff7d5b4f",
   "metadata": {},
   "outputs": [
    {
     "data": {
      "text/plain": [
       "37.0"
      ]
     },
     "execution_count": 106,
     "metadata": {},
     "output_type": "execute_result"
    }
   ],
   "source": [
    "convert_to_fahrenheit(9)"
   ]
  },
  {
   "cell_type": "code",
   "execution_count": 74,
   "id": "24f73b76",
   "metadata": {},
   "outputs": [],
   "source": [
    "# def <<function_name>>(<<parameters>>):\n",
    "#  return <<expression>> (=function body)"
   ]
  },
  {
   "cell_type": "markdown",
   "id": "40c16abe",
   "metadata": {},
   "source": [
    "#Local Variables"
   ]
  },
  {
   "cell_type": "code",
   "execution_count": 100,
   "id": "941f0dab",
   "metadata": {},
   "outputs": [],
   "source": [
    "def convert_to_fahrenheit(celsius):\n",
    "    a = 5/9 \n",
    "    b = 32\n",
    "    return celsius * a + b\n",
    "    #a, b = local variable(함수 안에서 정의된 변수)는 함수가 실행될때 잠깐 생겼다가 사라진다. "
   ]
  },
  {
   "cell_type": "code",
   "execution_count": 101,
   "id": "0fc89d66",
   "metadata": {},
   "outputs": [
    {
     "data": {
      "text/plain": [
       "48.66666666666667"
      ]
     },
     "execution_count": 101,
     "metadata": {},
     "output_type": "execute_result"
    }
   ],
   "source": [
    "convert_to_fahrenheit(30)"
   ]
  },
  {
   "cell_type": "code",
   "execution_count": 102,
   "id": "97df1b60",
   "metadata": {},
   "outputs": [],
   "source": [
    "def convert_to_celsius(fahrenheit):\n",
    "    return (fahrenheit - 32) * 5/9"
   ]
  },
  {
   "cell_type": "code",
   "execution_count": 103,
   "id": "0121de58",
   "metadata": {},
   "outputs": [
    {
     "data": {
      "text/plain": [
       "9.222222222222221"
      ]
     },
     "execution_count": 103,
     "metadata": {},
     "output_type": "execute_result"
    }
   ],
   "source": [
    "convert_to_celsius(48.6)"
   ]
  },
  {
   "cell_type": "markdown",
   "id": "1650a278",
   "metadata": {},
   "source": [
    "### Example of Function Design"
   ]
  },
  {
   "cell_type": "code",
   "execution_count": 116,
   "id": "a69e58bf",
   "metadata": {},
   "outputs": [],
   "source": [
    "#Return the number of days between day1 and day2, which are both in the range 1-365\n",
    "def days_difference(day1:int, day2:int): #type을 같이 쓰도록 합시다\n",
    "    return day2 - day1"
   ]
  },
  {
   "cell_type": "code",
   "execution_count": 114,
   "id": "73de3c87",
   "metadata": {},
   "outputs": [
    {
     "data": {
      "text/plain": [
       "102"
      ]
     },
     "execution_count": 114,
     "metadata": {},
     "output_type": "execute_result"
    }
   ],
   "source": [
    "days_difference(200, 302)"
   ]
  }
 ],
 "metadata": {
  "kernelspec": {
   "display_name": "Python 3 (ipykernel)",
   "language": "python",
   "name": "python3"
  },
  "language_info": {
   "codemirror_mode": {
    "name": "ipython",
    "version": 3
   },
   "file_extension": ".py",
   "mimetype": "text/x-python",
   "name": "python",
   "nbconvert_exporter": "python",
   "pygments_lexer": "ipython3",
   "version": "3.9.10"
  }
 },
 "nbformat": 4,
 "nbformat_minor": 5
}
