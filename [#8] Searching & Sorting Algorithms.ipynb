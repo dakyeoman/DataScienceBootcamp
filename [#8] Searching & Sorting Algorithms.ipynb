{
 "cells": [
  {
   "cell_type": "markdown",
   "id": "0b7b862e",
   "metadata": {},
   "source": [
    "## Linear Search Algorithms\n",
    "\n",
    "*찾고자 하는 값이 뒤에 있으면 걸리는 시간이 직선으로 늘어남"
   ]
  },
  {
   "cell_type": "code",
   "execution_count": 2,
   "id": "011842d2",
   "metadata": {},
   "outputs": [],
   "source": [
    "def linear_search_while(L:list, value)-> int:\n",
    "    i = 0\n",
    "    while i < len(L) and L[i] != value:\n",
    "        i = i + 1\n",
    "    if i == len(L):\n",
    "        return -1\n",
    "    else: \n",
    "        return i"
   ]
  },
  {
   "cell_type": "code",
   "execution_count": 9,
   "id": "bf607699",
   "metadata": {},
   "outputs": [],
   "source": [
    "#While Loop with Sentinel\n",
    "\n",
    "def Linear_search_sentinel(L:list, value) -> int:\n",
    "    \n",
    "    L.append(value) #Add the sentinel(감시자 역할)\n",
    "    \n",
    "    i = 0\n",
    "    while L[i] != value:\n",
    "        i = i + 1\n",
    "        \n",
    "    L.pop() # Remove the sentinel\n",
    "    \n",
    "    if i == len(L):\n",
    "        return -1\n",
    "    else: \n",
    "        return i \n",
    "    "
   ]
  },
  {
   "cell_type": "code",
   "execution_count": 10,
   "id": "2ffa0bb7",
   "metadata": {},
   "outputs": [],
   "source": [
    "#For Loop: Simple code, no complex conditions\n",
    "#But some people dislike returning in the middle of a loop\n",
    "\n",
    "def Linear_search_for(L:list, value) -> int:\n",
    "    for i in range(len(L)):\n",
    "        if L[i] == value:\n",
    "            return i\n",
    "        \n",
    "    return -1 #값을 못 찾을 경우"
   ]
  },
  {
   "cell_type": "code",
   "execution_count": 15,
   "id": "7da77499",
   "metadata": {},
   "outputs": [],
   "source": [
    "# Time Complexity_ 알고리즘 성능 측정\n",
    "\n",
    "import time\n",
    "t_start = time.perf_counter() #현재 시간 출력\n",
    "\n",
    "##Your code----------------------------------------\n",
    "\n",
    "def Linear_search_for(L:list, value) -> int:\n",
    "    for i in range(len(L)):\n",
    "        if L[i] == value:\n",
    "            return i\n",
    "        \n",
    "    return -1 #값을 못 찾을 경우\n",
    "\n",
    "##-------------------------------------------------\n",
    "    t_end = time.perf_counter()\n",
    "    \n",
    "    return (t_end - t_start) * 1000.0 \n",
    "    #unit becomes milliseconds"
   ]
  },
  {
   "cell_type": "markdown",
   "id": "e0e9a5b4",
   "metadata": {},
   "source": [
    "## Binary Search\n",
    "\n",
    "데이터가 Sorting 되어있는 경우\n",
    "\n",
    "(정 중앙을 먼저 테스트하고 둘 중 하나를 테스트)를 반복\n",
    "\n",
    "➡️ 찾아야 하는 데이터가 1/2 * 1/2 * 1/2 , ...(중요)\n",
    "\n",
    "Linear가 아닌 Log Scale"
   ]
  },
  {
   "cell_type": "code",
   "execution_count": 17,
   "id": "2a598c2e",
   "metadata": {},
   "outputs": [],
   "source": [
    "def binary_search(L, v) -> int: \n",
    "    start, end = 0, len(L) -1\n",
    "    \n",
    "    while start != end + 1:\n",
    "        mid = (start + end) // 2\n",
    "        \n",
    "        if L[mid] < v:\n",
    "            start = mid = 1\n",
    "        else: \n",
    "            end = mid - 1\n",
    "            \n",
    "    if start < len(L) and L[start] == v: \n",
    "        return start\n",
    "    \n",
    "    else: \n",
    "        return -1"
   ]
  },
  {
   "cell_type": "markdown",
   "id": "b347d05b",
   "metadata": {},
   "source": [
    "## Selection Sort Algorithms\n",
    "*in unsorted list: min value -> most left value"
   ]
  },
  {
   "cell_type": "code",
   "execution_count": 8,
   "id": "c16ab8e6",
   "metadata": {},
   "outputs": [],
   "source": [
    "def selection_sort(L:list) -> None:\n",
    "    \n",
    "    #unsorted or sorted index - i를 update하는 for loop\n",
    "    for i in range(len(L)):\n",
    "        smallest = i \n",
    "        \n",
    "        #smallest item 을 찾기 위해 unsorted list를 navigation하는 for loop\n",
    "        for j in range(i+1, len(L)):\n",
    "            if L[j] < L[smallest]:\n",
    "                #Find the index of the smallest item in L[i]  \n",
    "                smallest = j\n",
    "        L[i], L[smallest] = L[smalliest], L[i] #swap\n",
    "        \n",
    "        "
   ]
  },
  {
   "cell_type": "code",
   "execution_count": 9,
   "id": "7eabf6cf",
   "metadata": {},
   "outputs": [],
   "source": [
    "def find_min(L:list, start_idx:int) -> int:\n",
    "    \n",
    "    #1. initialize smallest\n",
    "    smallest = start_idx \n",
    "    \n",
    "    #2. Update smallest\n",
    "    for i in range(start_idx + 1, lent(L)): \n",
    "        if L[i] < L[smallest]:\n",
    "            smallest = i \n",
    "    \n",
    "    #3. Return the final value\n",
    "    return smallest "
   ]
  },
  {
   "cell_type": "markdown",
   "id": "e7a175de",
   "metadata": {},
   "source": [
    "## Insertion Sort\n",
    "\n",
    "- iteration 마다 sorted list에서 적절한 위치를 찾아 삽입 \n",
    "\n",
    "\n",
    "\n",
    "- sorted list의 대략 절반만 찾으면 적절한 위치를 찾을 수 있지만, look up Operation 하는 만큼 swap operation이 추가되기 때문에 Selection sort보다 더 빠르진 않다. \n",
    "\n",
    "\n",
    "- But, \"거의 Sorting이 되어있는 경우\"에는 Selection sort보다 훨씬 빠르다. Swap 할 필요 없기 때문에.\n",
    "\n",
    "\n"
   ]
  },
  {
   "cell_type": "code",
   "execution_count": 12,
   "id": "b1754d06",
   "metadata": {},
   "outputs": [],
   "source": [
    "def insertion_sort(L:list)-> None:\n",
    "    for i in range(1, len(L)):\n",
    "        #insert L[i] to the proper location of L[:i]\n",
    "        \n",
    "        insert(L, i) #i는 unsorted list가 시작하는 점"
   ]
  },
  {
   "cell_type": "code",
   "execution_count": 17,
   "id": "bb19a579",
   "metadata": {},
   "outputs": [],
   "source": [
    "def insert(L:list, last_idx:int) -> None:\n",
    "    \n",
    "    #1. Go backwards: Last_idx부터 1까지 -1씩 감소\n",
    "    for i in range(last_idx, 0, -1):\n",
    "        \n",
    "        #2. Check stopping condition\n",
    "        if L[i-1] > L[i]:\n",
    "            #3. Swap\n",
    "            L[i-1], L[i] = L[i], L[i-1] \n",
    "            \n",
    "            #or Stop\n",
    "        else: \n",
    "            break"
   ]
  },
  {
   "cell_type": "code",
   "execution_count": 19,
   "id": "4524fe86",
   "metadata": {},
   "outputs": [],
   "source": [
    "#in one code: \n",
    "\n",
    "def insertion_sort(L:list) -> None:\n",
    "    for i in range(1, len(L)):\n",
    "        for j in range(i, 0, -1):\n",
    "            if L[j-1] > L[j]:\n",
    "                L[j-1], L[j] = L[j], L[j-1]\n",
    "            else: \n",
    "                break"
   ]
  },
  {
   "cell_type": "markdown",
   "id": "0bf9f8ab",
   "metadata": {},
   "source": [
    "### Insertion sort is a bit slower than Selection sort\n",
    "\n",
    "- find_min() needs to look up the whole list\n",
    "\n",
    "- Insert() needs to look up only half on average but also need to swap!\n",
    "\n",
    "- *더 빠르게 만드는 것의 core idea는 1/2 시키는 것. e.g. merge sort, ... \n",
    "\n"
   ]
  }
 ],
 "metadata": {
  "kernelspec": {
   "display_name": "Python 3 (ipykernel)",
   "language": "python",
   "name": "python3"
  },
  "language_info": {
   "codemirror_mode": {
    "name": "ipython",
    "version": 3
   },
   "file_extension": ".py",
   "mimetype": "text/x-python",
   "name": "python",
   "nbconvert_exporter": "python",
   "pygments_lexer": "ipython3",
   "version": "3.9.10"
  }
 },
 "nbformat": 4,
 "nbformat_minor": 5
}
