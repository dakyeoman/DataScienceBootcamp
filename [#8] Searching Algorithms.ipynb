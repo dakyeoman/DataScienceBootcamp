{
 "cells": [
  {
   "cell_type": "markdown",
   "id": "0b7b862e",
   "metadata": {},
   "source": [
    "## Linear Search Algorithms\n",
    "\n",
    "*찾고자 하는 값이 뒤에 있으면 걸리는 시간이 직선으로 늘어남"
   ]
  },
  {
   "cell_type": "code",
   "execution_count": 2,
   "id": "011842d2",
   "metadata": {},
   "outputs": [],
   "source": [
    "def linear_search_while(L:list, value)-> int:\n",
    "    i = 0\n",
    "    while i < len(L) and L[i] != value:\n",
    "        i = i + 1\n",
    "    if i == len(L):\n",
    "        return -1\n",
    "    else: \n",
    "        return i"
   ]
  },
  {
   "cell_type": "code",
   "execution_count": 9,
   "id": "bf607699",
   "metadata": {},
   "outputs": [],
   "source": [
    "#While Loop with Sentinel\n",
    "\n",
    "def Linear_search_sentinel(L:list, value) -> int:\n",
    "    \n",
    "    L.append(value) #Add the sentinel(감시자 역할)\n",
    "    \n",
    "    i = 0\n",
    "    while L[i] != value:\n",
    "        i = i + 1\n",
    "        \n",
    "    L.pop() # Remove the sentinel\n",
    "    \n",
    "    if i == len(L):\n",
    "        return -1\n",
    "    else: \n",
    "        return i \n",
    "    "
   ]
  },
  {
   "cell_type": "code",
   "execution_count": 10,
   "id": "2ffa0bb7",
   "metadata": {},
   "outputs": [],
   "source": [
    "#For Loop: Simple code, no complex conditions\n",
    "#But some people dislike returning in the middle of a loop\n",
    "\n",
    "def Linear_search_for(L:list, value) -> int:\n",
    "    for i in range(len(L)):\n",
    "        if L[i] == value:\n",
    "            return i\n",
    "        \n",
    "    return -1 #값을 못 찾을 경우"
   ]
  },
  {
   "cell_type": "code",
   "execution_count": 15,
   "id": "7da77499",
   "metadata": {},
   "outputs": [],
   "source": [
    "# Time Complexity_ 알고리즘 성능 측정\n",
    "\n",
    "import time\n",
    "t_start = time.perf_counter() #현재 시간 출력\n",
    "\n",
    "##Your code----------------------------------------\n",
    "\n",
    "def Linear_search_for(L:list, value) -> int:\n",
    "    for i in range(len(L)):\n",
    "        if L[i] == value:\n",
    "            return i\n",
    "        \n",
    "    return -1 #값을 못 찾을 경우\n",
    "\n",
    "##-------------------------------------------------\n",
    "    t_end = time.perf_counter()\n",
    "    \n",
    "    return (t_end - t_start) * 1000.0 \n",
    "    #unit becomes milliseconds"
   ]
  },
  {
   "cell_type": "markdown",
   "id": "e0e9a5b4",
   "metadata": {},
   "source": [
    "## Binary Search\n",
    "\n",
    "데이터가 정렬(sorting)이 되어있는 경우\n",
    "\n",
    "(정 중앙을 먼저 테스트하고 둘 중 하나를 테스트)를 반복\n",
    "\n",
    "➡️ 찾아야 하는 데이터가 1/2 * 1/2 * 1/2 , ...\n",
    "\n",
    "Linear가 아닌 Log Scale"
   ]
  },
  {
   "cell_type": "code",
   "execution_count": 17,
   "id": "2a598c2e",
   "metadata": {},
   "outputs": [],
   "source": [
    "def binary_search(L, v) -> int: \n",
    "    start, end = 0, len(L) -1\n",
    "    \n",
    "    while start != end + 1:\n",
    "        mid = (start + end) // 2\n",
    "        \n",
    "        if L[mid] < v:\n",
    "            start = mid = 1\n",
    "        else: \n",
    "            end = mid - 1\n",
    "            \n",
    "    if start < len(L) and L[start] == v: \n",
    "        return start\n",
    "    \n",
    "    else: \n",
    "        return -1"
   ]
  },
  {
   "cell_type": "code",
   "execution_count": null,
   "id": "77d8dc6f",
   "metadata": {},
   "outputs": [],
   "source": []
  }
 ],
 "metadata": {
  "kernelspec": {
   "display_name": "Python 3 (ipykernel)",
   "language": "python",
   "name": "python3"
  },
  "language_info": {
   "codemirror_mode": {
    "name": "ipython",
    "version": 3
   },
   "file_extension": ".py",
   "mimetype": "text/x-python",
   "name": "python",
   "nbconvert_exporter": "python",
   "pygments_lexer": "ipython3",
   "version": "3.9.10"
  }
 },
 "nbformat": 4,
 "nbformat_minor": 5
}
