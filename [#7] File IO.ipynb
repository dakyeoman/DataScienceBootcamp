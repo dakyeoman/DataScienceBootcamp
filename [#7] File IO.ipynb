{
 "cells": [
  {
   "cell_type": "markdown",
   "id": "5ae6a87a",
   "metadata": {},
   "source": [
    "### file = open(<<file_name>>, mode)\n",
    "\n",
    "• Open a file and return an object that knows how to get information from the file\n",
    "\n",
    "• This object also keeps track of current location: how much you’ve read and which part of the file you are about to read next\n",
    "\n",
    "• File cursor: The marker that keeps track of the current location in the file (initially at the beginning of the file and moving to the end as you read or write data)\n",
    "\n",
    "• Mode: ‘r’ is for reading (➡️ input), ‘w’ is for writing (➡️ output), and ‘a’ for appending(➡️ "
   ]
  },
  {
   "cell_type": "code",
   "execution_count": 11,
   "id": "90b230b8",
   "metadata": {},
   "outputs": [
    {
     "name": "stdout",
     "output_type": "stream",
     "text": [
      "first line of text\n",
      "second line of text \n",
      "Third line of text\n"
     ]
    }
   ],
   "source": [
    "file = open('file_example.txt', 'r') \n",
    "contents = file.read()\n",
    "file.close()\n",
    "print(contents)"
   ]
  },
  {
   "cell_type": "markdown",
   "id": "1d1fe1f1",
   "metadata": {},
   "source": [
    "Better way"
   ]
  },
  {
   "cell_type": "code",
   "execution_count": 14,
   "id": "abaad59b",
   "metadata": {},
   "outputs": [
    {
     "name": "stdout",
     "output_type": "stream",
     "text": [
      "first line of text\n",
      "second line of text \n",
      "Third line of text\n"
     ]
    }
   ],
   "source": [
    "with open('file_example.txt', 'r') as file:\n",
    "    contents = file.read()\n",
    "    print(contents)"
   ]
  },
  {
   "cell_type": "markdown",
   "id": "66f75cba",
   "metadata": {},
   "source": [
    "### File Path"
   ]
  },
  {
   "cell_type": "code",
   "execution_count": 37,
   "id": "7488e784",
   "metadata": {
    "scrolled": true
   },
   "outputs": [
    {
     "data": {
      "text/plain": [
       "'/Users/adrua/Data Science Bootcamp'"
      ]
     },
     "execution_count": 37,
     "metadata": {},
     "output_type": "execute_result"
    }
   ],
   "source": [
    "import os\n",
    "os.getcwd()"
   ]
  },
  {
   "cell_type": "code",
   "execution_count": 38,
   "id": "89f77925",
   "metadata": {},
   "outputs": [
    {
     "data": {
      "text/plain": [
       "'/Users/adrua/Data Science Bootcamp'"
      ]
     },
     "execution_count": 38,
     "metadata": {},
     "output_type": "execute_result"
    }
   ],
   "source": [
    "#change absolute path\n",
    "os.chdir('/Users/adrua/Data Science Bootcamp/')\n",
    "os.getcwd()"
   ]
  },
  {
   "cell_type": "code",
   "execution_count": 41,
   "id": "9e89e8f2",
   "metadata": {},
   "outputs": [
    {
     "data": {
      "text/plain": [
       "'/Users/adrua/Data Science Bootcamp/File IO Prc.'"
      ]
     },
     "execution_count": 41,
     "metadata": {},
     "output_type": "execute_result"
    }
   ],
   "source": [
    "#현 위치에서 한 칸(폴더) 아래로 이동\n",
    "os.chdir(\"./File IO Prc.\") \n",
    "os.getcwd()"
   ]
  },
  {
   "cell_type": "code",
   "execution_count": 40,
   "id": "440ac0ee",
   "metadata": {},
   "outputs": [
    {
     "data": {
      "text/plain": [
       "'/Users/adrua/Data Science Bootcamp'"
      ]
     },
     "execution_count": 40,
     "metadata": {},
     "output_type": "execute_result"
    }
   ],
   "source": [
    "#현 위치에서 한 칸 위로 이동\n",
    "os.chdir(\"../\")\n",
    "os.getcwd()"
   ]
  },
  {
   "cell_type": "markdown",
   "id": "093df852",
   "metadata": {},
   "source": [
    "## Reading Contents in Files"
   ]
  },
  {
   "cell_type": "code",
   "execution_count": 49,
   "id": "21a524d6",
   "metadata": {},
   "outputs": [
    {
     "name": "stdout",
     "output_type": "stream",
     "text": [
      "first line of t\n"
     ]
    }
   ],
   "source": [
    "with open('file_example.txt', 'r') as file:\n",
    "    contents15 = file.read(15)\n",
    "    print(contents15)"
   ]
  },
  {
   "cell_type": "code",
   "execution_count": 50,
   "id": "ddedbb4a",
   "metadata": {},
   "outputs": [
    {
     "name": "stdout",
     "output_type": "stream",
     "text": [
      "['first line of text\\n', 'second line of text \\n', 'Third line of text']\n"
     ]
    },
    {
     "data": {
      "text/plain": [
       "['first line of text\\n', 'second line of text \\n', 'Third line of text']"
      ]
     },
     "execution_count": 50,
     "metadata": {},
     "output_type": "execute_result"
    }
   ],
   "source": [
    "with open('file_example.txt', 'r') as file:\n",
    "    lines = file.readlines()\n",
    "    print(lines)\n",
    "lines"
   ]
  },
  {
   "cell_type": "code",
   "execution_count": 56,
   "id": "37c54b96",
   "metadata": {},
   "outputs": [
    {
     "name": "stdout",
     "output_type": "stream",
     "text": [
      "['Third line of text', 'first line of text\\n', 'second line of text \\n']\n"
     ]
    }
   ],
   "source": [
    "reverseLines = sorted(lines)\n",
    "print(reverseLines)"
   ]
  },
  {
   "cell_type": "code",
   "execution_count": 59,
   "id": "01b63b57",
   "metadata": {},
   "outputs": [
    {
     "name": "stdout",
     "output_type": "stream",
     "text": [
      "first line of text\n",
      "second line of text \n",
      "\n",
      "Third line of text\n"
     ]
    }
   ],
   "source": [
    "with open(\"file_example.txt\", \"r\") as file:\n",
    "    \n",
    "    #strip(): 빈칸 삭제\n",
    "    line1 = file.readline().strip() \n",
    "    line2 = file.readline()\n",
    "    line3 = file.readline()\n",
    "print(line1)\n",
    "print(line2)\n",
    "print(line3)"
   ]
  },
  {
   "cell_type": "code",
   "execution_count": 69,
   "id": "d27e2b0e",
   "metadata": {},
   "outputs": [
    {
     "name": "stdout",
     "output_type": "stream",
     "text": [
      "<!doctype html>\n",
      "<html class=\"no-js\" lang=\"en-US\">\n",
      "<head>\n",
      "<meta name=\"generator\" content=\"Hugo 0.80.0\" />\n",
      "<meta charset=\"utf-8\">\n",
      "<title>Rob J Hyndman</title>\n",
      "<meta http-equiv=\"x-ua-compatible\" content=\"ie=edge\">\n",
      "<meta name=\"viewport\" content=\"width=device-width, initial-scale=1.0\">\n",
      "<link rel=\"preload\" href=\"https://robjhyndman.com/fonts/academicons.ttf?v=1.7.0\" as=\"font\">\n",
      "<link rel=\"preload\" href=\"https://robjhyndman.com/fonts/fontawesome-webfont.woff2?v=4.6.34Cas\" as=\"font\">\n",
      "<link href=\"https://fonts.googleapis.com/css?family=Fira+Sans|Merriweather\" rel=\"stylesheet\">\n",
      "<link rel=\"stylesheet\" href=\"//cdn.jsdelivr.net/npm/hack-font@3/build/web/hack-subset.css\">\n",
      "<link rel=\"stylesheet\" href=\"https://robjhyndman.com/css/foundation.min.css\">\n",
      "<link rel=\"stylesheet\" href=\"https://robjhyndman.com/css/stackoverflow-light.min.css\">\n",
      "<link rel=\"stylesheet\" href=\"https://robjhyndman.com/css/font-awesome.min.css\">\n",
      "<link rel=\"stylesheet\" href=\"https://robjhyndman.com/css/academicons.min.css\">\n",
      "<link rel=\"stylesheet\" href=\"https://robjhyndman.com/css/finite.min.css\">\n",
      "<link rel=\"stylesheet\" href=\"https://robjhyndman.com/css/kube.min.css\">\n",
      "<link rel=\"stylesheet\" href=\"https://robjhyndman.com/css/robjhyndman.min.css\">\n",
      "\n",
      "<script>\n",
      "(function(m,a,i,l,e,r){ m['MailerLiteObject']=e;function f(){\n",
      "var c={ a:arguments,q:[]};var r=this.push(c);return \"number\"!=typeof r?r:f.bind(c.q);}\n",
      "f.q=f.q||[];m[e]=m[e]||f.bind(f.q);m[e].q=m[e].q||f.q;r=a.createElement(i);\n",
      "var _=a.getElementsByTagName(i)[0];r.async=1;r.src=l+'?v'+(~~(new Date().getTime()/1000000));\n",
      "_.parentNode.insertBefore(r,_);})(window, document, 'script', 'https://static.mailerlite.com/js/universal.js', 'ml');\n",
      "\n",
      "var ml_account = ml('accounts', '3217732', 'q9y4a1d8i3', 'load');\n",
      "</script>\n",
      "\n",
      "</head>\n",
      "<body>\n",
      "<header>\n",
      "<nav class=\"nav-bar\">\n",
      "\n",
      "<div class=\"title-bar\" data-responsive-toggle=\"site-menu\" data-hide-for=\"medium\">\n",
      "<button class=\"site-hamburger\" type=\"button\" data-toggle>\n",
      "<i class=\"fa fa-bars fa-lg\" aria-hidden=\"true\"></i>\n",
      "</button>\n",
      "<div class=\"title-bar-title site-title\">\n",
      "<a href=\"https://robjhyndman.com/\"  style=\"color: #b3cde0\">Rob J Hyndman</a>\n",
      "</div>\n",
      "<div class=\"title-bar-right pull-right\">\n",
      "\n",
      "\n",
      "</div>\n",
      "</div>\n",
      "\n",
      "\n",
      "<div class=\"top-bar\" id=\"site-menu\" >\n",
      "<div class=\"top-bar-title show-for-medium site-title\">\n",
      "<a href=\"https://robjhyndman.com/\"  style=\"color: #b3cde0;\">Rob J Hyndman</a>\n",
      "</div>\n",
      "<div class=\"top-bar-left\">\n",
      "<ul class=\"menu vertical medium-horizontal\">\n",
      "\n",
      "\n",
      "<li><a href=\"https://robjhyndman.com/hyndsight/\">Hyndsight blog</a></li>\n",
      "\n",
      "<li><a href=\"https://robjhyndman.com/publications/\">Publications</a></li>\n",
      "\n",
      "<li><a href=\"https://robjhyndman.com/software/\">Software</a></li>\n",
      "\n",
      "<li><a href=\"https://robjhyndman.com/seminars/\">Seminars</a></li>\n",
      "\n",
      "<li><a href=\"https://robjhyndman.com/teaching/\">Teaching</a></li>\n",
      "\n",
      "<li><a href=\"https://robjhyndman.com/research-team/\">Research team</a></li>\n",
      "\n",
      "<li><a href=\"https://robjhyndman.com/about/\">About</a></li>\n",
      "\n",
      "</ul>\n",
      "</div>\n",
      "<div class=\"top-bar-right show-for-medium\">\n",
      "\n",
      "\n",
      "</div>\n",
      "</div>\n",
      "\n",
      "</nav>\n",
      "</header>\n",
      "<main>\n",
      "\n",
      "\n",
      "\n",
      "\n",
      "\n",
      "\n",
      "\n",
      "<div class=\"row\">\n",
      "<div class=\"column small-12 medium-7 large-6\">\n",
      "\n",
      "<h2><a href=\"https://robjhyndman.com/hyndsight/job-advertisements/\">Job advertisements</a></h2>\n",
      "<div class=\"post-metadata\">\n",
      "<span class=\"post-date\">\n",
      "<time datetime=\"2022-01-05 00:00:00 &#43;0000 UTC\" itemprop=\"datePublished\">5 January 2022</time>\n",
      "</span>\n",
      "\n",
      "\n",
      "\n",
      "<span class=\"post-tags\">\n",
      "<p><i class=\"fa fa-tags\"></i>\n",
      "\n",
      "<a class=\"post-tag\" href=\"https://robjhyndman.com/categories/jobs\">jobs</a>\n",
      "\n",
      "</span>\n",
      "\n",
      "\n",
      "</div>\n",
      "\n",
      "\n",
      "Employers often contact me asking how to find a good statistician, econometrician or forecaster for their organization. Students also ask me how to go about finding a job when they finish their degree. This post is for both groups, hopefully making it easier for them to pair up appropriately.\n",
      "General online job sites such as seek or careerjet are ok, but job-seekers can find it hard to find the relevant openings because job titles are so varied.\n",
      "<p class=\"text-right\"><a href=\"https://robjhyndman.com/hyndsight/job-advertisements/\" class=\"badge badge-small\">Read More…</a></p>\n",
      "\n",
      "<div style=\"padding-bottom: 2ex;\"></div>\n",
      "\n",
      "\n",
      "<h2><a href=\"https://robjhyndman.com/hyndsight/tsoutliers/\">Detecting time series outliers</a></h2>\n",
      "<div class=\"post-metadata\">\n",
      "<span class=\"post-date\">\n",
      "<time datetime=\"2021-08-28 00:00:00 &#43;0000 UTC\" itemprop=\"datePublished\">28 August 2021</time>\n",
      "</span>\n",
      "\n",
      "\n",
      "\n",
      "<span class=\"post-tags\">\n",
      "<p><i class=\"fa fa-tags\"></i>\n",
      "\n",
      "<a class=\"post-tag\" href=\"https://robjhyndman.com/categories/time-series\">time series</a>,\n",
      "\n",
      "\n",
      "\n",
      "<a class=\"post-tag\" href=\"https://robjhyndman.com/categories/r\">R</a>,\n",
      "\n",
      "\n",
      "<a class=\"post-tag\" href=\"https://robjhyndman.com/categories/data-science\">data science</a>,\n",
      "\n",
      "\n",
      "<a class=\"post-tag\" href=\"https://robjhyndman.com/categories/anomalies\">anomalies</a>\n",
      "\n",
      "</span>\n",
      "\n",
      "\n",
      "</div>\n",
      "\n",
      "\n",
      "The tsoutliers() function in the forecast package for R is useful for identifying anomalies in a time series. However, it is not properly documented anywhere. This post is intended to fill that gap.\n",
      "The function began as an answer on CrossValidated and was later added to the forecast package because I thought it might be useful to other people. It has since been updated and made more reliable.\n",
      "<p class=\"text-right\"><a href=\"https://robjhyndman.com/hyndsight/tsoutliers/\" class=\"badge badge-small\">Read More…</a></p>\n",
      "\n",
      "<div style=\"padding-bottom: 2ex;\"></div>\n",
      "\n",
      "\n",
      "</div>\n",
      "<div class=\"column small-12 medium-5 large-offset-1\">\n",
      "<h2><a href=\"https://robjhyndman.com/publications/\">Recent papers</a></h2>\n",
      "<ul class=\"compact fa-ul\">\n",
      "\n",
      "<li style=\"margin-bottom: 9px;\">\n",
      "<i class=\"fa-li fa  fa-file  fa-fw\" style=\"color:#03396c;font-size:80%;padding-top:6px;\"></i>\n",
      "\n",
      "George Athanasopoulos, Rob&nbsp;J&nbsp;Hyndman, Nikolaos&nbsp;Kourentzes, Mitchell&nbsp;O'Hara&#8209;Wild\n",
      "\n",
      "\n",
      "(2022)\n",
      "Probabilistic forecasts using expert judgment: the road to recovery from COVID-19.\n",
      "\n",
      "<em>Journal of Travel Research</em>, to appear.\n",
      "\n",
      "<a href=\"https://robjhyndman.com/publications/covidtourism/\" class=\"badge badge-small\">Abstract</a>\n",
      "\n",
      "<a href=\"http://doi.org/10.1177/00472875211059240\" class=\"badge badge-small badge-blue\">DOI</a>\n",
      "\n",
      "\n",
      "\n",
      "<a href=https://www.monash.edu/business/ebs/research/publications/ebs/wp01-2021.pdf class=\"badge badge-small badge-red\"><i class=\"fa fa-file-pdf-o\"></i>&nbsp;pdf</a>\n",
      "\n",
      "\n",
      "\n",
      "\n",
      "\n",
      "\n",
      "\n",
      "</li>\n",
      "\n",
      "<li style=\"margin-bottom: 9px;\">\n",
      "<i class=\"fa-li fa  fa-file  fa-fw\" style=\"color:#03396c;font-size:80%;padding-top:6px;\"></i>\n",
      "\n",
      "Mahdi&nbsp;Abolghasemi, Rob&nbsp;J&nbsp;Hyndman, Evangelos&nbsp;Spiliotis, Christoph&nbsp;Bergmeir\n",
      "\n",
      "\n",
      "(2022)\n",
      "Model selection in reconciling hierarchical time series.\n",
      "\n",
      "<em>Machine Learning</em>, to appear.\n",
      "\n",
      "<a href=\"https://robjhyndman.com/publications/chfr/\" class=\"badge badge-small\">Abstract</a>\n",
      "\n",
      "<a href=\"http://doi.org/10.1007/s10994-021-06126-z\" class=\"badge badge-small badge-blue\">DOI</a>\n",
      "\n",
      "<a href=\"https://arxiv.org/abs/2010.10742\" class=\"badge badge-small badge-red\">arXiv</a>\n",
      "\n",
      "\n",
      "\n",
      "\n",
      "\n",
      "\n",
      "\n",
      "</li>\n",
      "\n",
      "<li style=\"margin-bottom: 9px;\">\n",
      "<i class=\"fa-li fa  fa-file  fa-fw\" style=\"color:#03396c;font-size:80%;padding-top:6px;\"></i>\n",
      "\n",
      "Claire&nbsp;Kermorvant, Benoit&nbsp;Liquet, Guy&nbsp;Litt, Jeremy&nbsp;B&nbsp;Jones, Kerrie&nbsp;Mengersen, Erin&nbsp;E&nbsp;Peterson, Rob&nbsp;J&nbsp;Hyndman, Catherine&nbsp;Leigh\n",
      "\n",
      "\n",
      "(2021)\n",
      "Reconstructing missing and anomalous data collected from high-frequency in-situ sensors in fresh waters.\n",
      "\n",
      "<em>International Journal of Environmental Research and Public Health</em>, <b>18</b>(23), 12803.\n",
      "\n",
      "<a href=\"https://robjhyndman.com/publications/reconstructing-water/\" class=\"badge badge-small\">Abstract</a>\n",
      "\n",
      "<a href=\"http://doi.org/10.3390/ijerph182312803\" class=\"badge badge-small badge-blue\">DOI</a>\n",
      "\n",
      "\n",
      "\n",
      "\n",
      "\n",
      "\n",
      "\n",
      "\n",
      "\n",
      "</li>\n",
      "\n",
      "<li style=\"margin-bottom: 9px;\">\n",
      "<i class=\"fa-li fa  fa-file-o   fa-fw\" style=\"color:#03396c;font-size:80%;padding-top:6px;\"></i>\n",
      "\n",
      "Sayani Gupta, Rob&nbsp;J&nbsp;Hyndman, Dianne&nbsp;Cook\n",
      "\n",
      "\n",
      "(2021)\n",
      "Detecting distributional differences between temporal granularities for exploratory time series analysis.\n",
      "\n",
      "<a href=\"https://robjhyndman.com/publications/hakear/\" class=\"badge badge-small\">Abstract</a>\n",
      "\n",
      "\n",
      "\n",
      "\n",
      "\n",
      "<a href=https://www.monash.edu/business/ebs/research/publications/ebs/wp20-2021.pdf class=\"badge badge-small badge-red\"><i class=\"fa fa-file-pdf-o\"></i>&nbsp;pdf</a>\n",
      "\n",
      "\n",
      "\n",
      "\n",
      "\n",
      "\n",
      "\n",
      "</li>\n",
      "\n",
      "<li style=\"margin-bottom: 9px;\">\n",
      "<i class=\"fa-li fa  fa-file-o   fa-fw\" style=\"color:#03396c;font-size:80%;padding-top:6px;\"></i>\n",
      "\n",
      "Dilini&nbsp;Rajapaksha, Christoph&nbsp;Bergmeir, Rob&nbsp;J&nbsp;Hyndman\n",
      "\n",
      "\n",
      "(2021)\n",
      "LoMEF: A Framework to Produce Local Explanations for Global Model Time Series Forecasts.\n",
      "\n",
      "<a href=\"https://robjhyndman.com/publications/lomef/\" class=\"badge badge-small\">Abstract</a>\n",
      "\n",
      "\n",
      "\n",
      "<a href=\"https://arxiv.org/abs/2111.07001\" class=\"badge badge-small badge-red\">arXiv</a>\n",
      "\n",
      "\n",
      "\n",
      "\n",
      "\n",
      "\n",
      "\n",
      "</li>\n",
      "\n",
      "</ul>\n",
      "<div style=\"padding-top: 5ex;\"></div>\n",
      "<h2><a href=\"https://robjhyndman.com/seminars/\">Recent and upcoming seminars</a></h2>\n",
      "<ul class=\"compact fa-ul\">\n",
      "\n",
      "<li style=\"margin-bottom: 9px;\">\n",
      "<i class=\"fa-li fa  fa-line-chart fa fw\"  style=\"color:#03396c;font-size:80%;padding-top:6px;\"></i>\n",
      "Feature-based time series analysis.\n",
      "\n",
      "(2&nbsp;February&nbsp;2022)\n",
      "\n",
      "<a href=\"https://robjhyndman.com/seminars/fbtsa-ssc/\" class=\"badge badge-small\">More info...</a>\n",
      "</li>\n",
      "\n",
      "<li style=\"margin-bottom: 9px;\">\n",
      "<i class=\"fa-li fa  fa-line-chart fa fw\"  style=\"color:#03396c;font-size:80%;padding-top:6px;\"></i>\n",
      "Forecasting the future and the future of forecasting.\n",
      "\n",
      "(17&nbsp;January&nbsp;2022)\n",
      "\n",
      "<a href=\"https://robjhyndman.com/seminars/blakers2022/\" class=\"badge badge-small\">More info...</a>\n",
      "</li>\n",
      "\n",
      "<li style=\"margin-bottom: 9px;\">\n",
      "<i class=\"fa-li fa  fa-line-chart fa fw\"  style=\"color:#03396c;font-size:80%;padding-top:6px;\"></i>\n",
      "Feasts & fables: modern tools for time series analysis.\n",
      "\n",
      "(17&nbsp;November&nbsp;2021)\n",
      "\n",
      "<a href=\"https://youtu.be/v2QIuB-TjZo\" class=\"badge badge-small badge-red\">YouTube</a>\n",
      "<a href=\"https://robjhyndman.com/seminars/cornish2021/\" class=\"badge badge-small\">More info...</a>\n",
      "</li>\n",
      "\n",
      "<li style=\"margin-bottom: 9px;\">\n",
      "<i class=\"fa-li fa  fa-line-chart fa fw\"  style=\"color:#03396c;font-size:80%;padding-top:6px;\"></i>\n",
      "Uncertain futures: AAS2021.\n",
      "\n",
      "(3&nbsp;November&nbsp;2021)\n",
      "\n",
      "<a href=\"https://youtu.be/HNJYRf0mvxg\" class=\"badge badge-small badge-red\">YouTube</a>\n",
      "<a href=\"https://robjhyndman.com/seminars/aas2021/\" class=\"badge badge-small\">More info...</a>\n",
      "</li>\n",
      "\n",
      "<li style=\"margin-bottom: 9px;\">\n",
      "<i class=\"fa-li fa  fa-line-chart fa fw\"  style=\"color:#03396c;font-size:80%;padding-top:6px;\"></i>\n",
      "Feasts & fables: Time series analysis using R.\n",
      "\n",
      "(28&nbsp;September&nbsp;2021)\n",
      "\n",
      "<a href=\"https://robjhyndman.com/seminars/tidyverts2021/\" class=\"badge badge-small\">More info...</a>\n",
      "</li>\n",
      "\n",
      "</ul>\n",
      "</div>\n",
      "\n",
      "</div>\n",
      "</div>\n",
      "\n",
      "<script type=\"text/x-mathjax-config\">\n",
      "MathJax.Hub.Config({\n",
      "tex2jax: {inlineMath: [['$','$'], ['\\\\(','\\\\)']]}\n",
      "});\n",
      "</script>\n",
      "<script type=\"text/javascript\" async src=\"https://cdnjs.cloudflare.com/ajax/libs/mathjax/2.7.0/MathJax.js?config=TeX-AMS_CHTML\">\n",
      "</script>\n",
      "\n",
      "\n",
      "</main>\n",
      "<footer class=\"whatisthis\">\n",
      "<hr class='separator'/>\n",
      "<span style=\"font-family: Carlito, sans; font-size: 0.9em; line-height: 1.05em;\">\n",
      "<div class=\"row\">\n",
      "<div class=\"column small-12 medium-4\">\n",
      "<figure class='image-left'>\n",
      "<a href=\"https://robjhyndman.com/\" style=\"border-bottom: none;\">\n",
      "<img src=\"https://robjhyndman.com/img/rjh.png\" alt=\"Portrait of the author\" class='avatar' style=\"max-width: 100%;\">\n",
      "</a>\n",
      "</figure>\n",
      "<p>Rob&nbsp;J&nbsp;Hyndman <span style=\"font-size: 85%;\">FAA FASSA</span> is Professor of Statistics and Head of the <a href=\"https://monash.edu/business/ebs\">Department of Econometrics & Business Statistics</a> at <a href=https://monash.edu>Monash University</a>, Australia.</p>\n",
      "</div>\n",
      "<div class=\"column small-12 medium-4\">\n",
      "\n",
      "<h4 id=\"contact\">Contact</h4>\n",
      "<ul class=\"fa-ul\">\n",
      "\n",
      "<li><i class=\"fa-li fa fa-university\" style=\"color:#03396c;font-size:80%;padding-top:6px;\"></i><a href=\"https://monash.edu/business/ebs\">Department of Econometrics &amp; Business Statistics, Monash University, Clayton VIC 3800, Australia.</a></li>\n",
      "\n",
      "<li><i class=\"fa-li fa fa-envelope\" style=\"color:#03396c;font-size:80%;padding-top:6px;\"></i><a href=\"mailto:Rob.Hyndman@monash.edu\">Rob.Hyndman@monash.edu</a></li>\n",
      "\n",
      "<li><i class=\"fa-li fa fa-twitter\" style=\"color:#03396c;font-size:80%;padding-top:6px;\"></i><a href=\"https://twitter.com/robjhyndman\">@robjhyndman</a> on Twitter</li>\n",
      "\n",
      "<li><i class=\"fa-li fa fa-github-alt\" style=\"color:#03396c;font-size:80%;padding-top:6px;\"></i><a href=\"https://github.com/robjhyndman/\">robjhyndman</a> on GitHub</li>\n",
      "\n",
      "<li><i class=\"fa-li ai ai-google-scholar\" style=\"color:#03396c;font-size:80%;padding-top:6px;\"></i><a href=\"https://scholar.google.com/citations?user=vamErfkAAAAJ\">Google Scholar</a></li>\n",
      "\n",
      "</ul>\n",
      "</div>\n",
      "\n",
      "<div class=\"column small-12 medium-4\">\n",
      "<h4>Search</h4>\n",
      "<a id=\"searchsite\">\n",
      "<form method=\"get\" action=\"https://duckduckgo.com/\">\n",
      "<label for=\"search-field\" class=\"show-for-sr\">Search the site</label>\n",
      "<input type=\"search\" name=\"q\" maxlength=\"255\" placeholder=\"Search the site\" id=\"search-field\">\n",
      "<input type=\"hidden\" name=\"sites\" value=\"https://robjhyndman.com\"/>\n",
      "<input type=\"hidden\" name=\"k7\" value=\"#faf8f8\"/>\n",
      "<input type=\"hidden\" name=\"kj\" value=\"#b33\"/>\n",
      "<input type=\"hidden\" name=\"ky\" value=\"#fafafa\"/>\n",
      "<input type=\"hidden\" name=\"kx\" value=\"b\"/>\n",
      "<input type=\"hidden\" name=\"ko\" value=\"-1\"/>\n",
      "<input type=\"hidden\" name=\"k1\" value=\"-1\"/>\n",
      "</form>\n",
      "</a>\n",
      "\n",
      "<h4>Get new posts by email</h4>\n",
      "<div class=\"ml-form-embed\"\n",
      "data-account=\"3217732:q9y4a1d8i3\"\n",
      "data-form=\"4240669:y9j1r8\">\n",
      "</div>\n",
      "</div>\n",
      "</div>\n",
      "</span>\n",
      "</footer>\n",
      "\n",
      "<div class=\"endofpage\">\n",
      "<footer id=\"footer\">\n",
      "<section class=\"wrapper small\">Powered by <a href=\"http://gohugo.io\">Hugo</a>\n",
      "and <a href=\"https://github.com/rstudio/blogdown\">Blogdown</a>.\n",
      "&copy; <a href=\"https://robjhyndman.com\">Rob&nbsp;J&nbsp;Hyndman</a> 1993&ndash;2022.\n",
      "&nbsp;&nbsp;&nbsp;&nbsp;&nbsp;&nbsp;&nbsp;<a href=\"https://robjhyndman.com/index.xml\"><img src=\"https://robjhyndman.com/img/rss2.png\" width=12 align=\"bottom\" alt=\"RSS icon\"  style=\"padding-top: 0.7ex\"></a>\n",
      "</section>\n",
      "</footer>\n",
      "</div>\n",
      "\n",
      "<script src=\"https://robjhyndman.com/js/jquery.js\"></script>\n",
      "<script src=\"https://robjhyndman.com/js/what-input.js\"></script>\n",
      "<script src=\"https://robjhyndman.com/js/foundation.min.js\"></script>\n",
      "<script src=\"https://robjhyndman.com/js/finite.js\"></script>\n",
      "\n",
      "\n",
      "<script src=\"//cdn.bootcss.com/highlight.js/11.3.1/highlight.min.js\"></script>\n",
      "<script src=\"//cdn.bootcss.com/highlight.js/11.3.1/languages/r.min.js\"></script>\n",
      "\n",
      "<script>\n",
      "hljs.configure({languages: []});\n",
      "hljs.initHighlightingOnLoad();\n",
      "</script>\n",
      "\n",
      "\n",
      "\n",
      "<script type='text/javascript' src='https://d1bxh8uas1mnw7.cloudfront.net/assets/embed.js'></script>\n",
      "\n",
      "\n",
      "<script type=\"application/javascript\">\n",
      "var doNotTrack = false;\n",
      "if (!doNotTrack) {\n",
      "(function(i,s,o,g,r,a,m){i['GoogleAnalyticsObject']=r;i[r]=i[r]||function(){\n",
      "(i[r].q=i[r].q||[]).push(arguments)},i[r].l=1*new Date();a=s.createElement(o),\n",
      "m=s.getElementsByTagName(o)[0];a.async=1;a.src=g;m.parentNode.insertBefore(a,m)\n",
      "})(window,document,'script','https://www.google-analytics.com/analytics.js','ga');\n",
      "ga('create', 'UA-5004894-1', 'auto');\n",
      "\n",
      "ga('send', 'pageview');\n",
      "}\n",
      "</script>\n",
      "\n",
      "</body>\n",
      "</html>\n"
     ]
    }
   ],
   "source": [
    "import urllib.request\n",
    "url = \"https://robjhyndman.com/\"\n",
    "\n",
    "with urllib.request.urlopen(url) as file:\n",
    "    for line in file:\n",
    "        line = line.strip()\n",
    "        \n",
    "        #임의의 파일을 읽을 때 byte로 가져옴\n",
    "        line = line.decode(\"utf-8\")\n",
    "        print(line)"
   ]
  },
  {
   "cell_type": "code",
   "execution_count": 44,
   "id": "74acefa0",
   "metadata": {},
   "outputs": [
    {
     "ename": "IndexError",
     "evalue": "list index out of range",
     "output_type": "error",
     "traceback": [
      "\u001b[0;31m---------------------------------------------------------------------------\u001b[0m",
      "\u001b[0;31mIndexError\u001b[0m                                Traceback (most recent call last)",
      "Input \u001b[0;32mIn [44]\u001b[0m, in \u001b[0;36m<module>\u001b[0;34m\u001b[0m\n\u001b[1;32m     25\u001b[0m     \u001b[38;5;28mprint\u001b[39m(grades)\n\u001b[1;32m     27\u001b[0m \u001b[38;5;28;01mwith\u001b[39;00m \u001b[38;5;28mopen\u001b[39m(\u001b[38;5;124m\"\u001b[39m\u001b[38;5;124mfile_example.txt\u001b[39m\u001b[38;5;124m\"\u001b[39m, \u001b[38;5;124m\"\u001b[39m\u001b[38;5;124mr\u001b[39m\u001b[38;5;124m\"\u001b[39m) \u001b[38;5;28;01mas\u001b[39;00m students:\n\u001b[0;32m---> 28\u001b[0m     \u001b[43mprocess_file\u001b[49m\u001b[43m(\u001b[49m\u001b[43mstudents\u001b[49m\u001b[43m)\u001b[49m\n",
      "Input \u001b[0;32mIn [44]\u001b[0m, in \u001b[0;36mprocess_file\u001b[0;34m(input_file)\u001b[0m\n\u001b[1;32m     16\u001b[0m \u001b[38;5;28;01mif\u001b[39;00m line \u001b[38;5;241m!=\u001b[39m \u001b[38;5;124m\"\u001b[39m\u001b[38;5;124m-\u001b[39m\u001b[38;5;124m\"\u001b[39m:\n\u001b[1;32m     18\u001b[0m     value \u001b[38;5;241m=\u001b[39m line\u001b[38;5;241m.\u001b[39msplit() \n\u001b[0;32m---> 19\u001b[0m     names\u001b[38;5;241m.\u001b[39mappend(\u001b[43mvalue\u001b[49m\u001b[43m[\u001b[49m\u001b[38;5;241;43m0\u001b[39;49m\u001b[43m]\u001b[49m)\n\u001b[1;32m     20\u001b[0m     numbers\u001b[38;5;241m.\u001b[39mappend(value[\u001b[38;5;241m1\u001b[39m])\n\u001b[1;32m     21\u001b[0m     grades\u001b[38;5;241m.\u001b[39mappend(value[\u001b[38;5;241m2\u001b[39m]) \n",
      "\u001b[0;31mIndexError\u001b[0m: list index out of range"
     ]
    }
   ],
   "source": [
    "def skip_header(input_file) -> str:\n",
    "    line = input_file.readline()\n",
    "    while line.startswith('#'):\n",
    "        line = input_file.readline()\n",
    "    return line\n",
    "\n",
    "\n",
    "def process_file(input_file) -> None:\n",
    "    line = skip_header(input_file)\n",
    "    names = []\n",
    "    numbers = []\n",
    "    grades = []\n",
    "    #Do somethin meaningful\n",
    "    while line:\n",
    "        line = line.strip()\n",
    "        if line != \"-\":\n",
    "            \n",
    "            value = line.split() \n",
    "            names.append(value[0])\n",
    "            numbers.append(value[1])\n",
    "            grades.append(value[2]) \n",
    "        line = input_file.readline()\n",
    "    print(names)\n",
    "    print(numbers)\n",
    "    print(grades)\n",
    "\n",
    "with open(\"file_example.txt\", \"r\") as students:\n",
    "    process_file(students) \n",
    "\n"
   ]
  },
  {
   "cell_type": "code",
   "execution_count": 42,
   "id": "0629a353",
   "metadata": {},
   "outputs": [],
   "source": [
    "with open(\"file_example2.txt\", \"w\") as output_file:\n",
    "    output_file.write(\"Computing Foundations for Data Science\")\n",
    "    "
   ]
  },
  {
   "cell_type": "code",
   "execution_count": 43,
   "id": "f4d64d18",
   "metadata": {},
   "outputs": [],
   "source": [
    "with open(\"file_example2.txt\", \"a\") as output_file:\n",
    "    output_file.write(\"\\n is fun?\")\n",
    "    "
   ]
  },
  {
   "cell_type": "code",
   "execution_count": null,
   "id": "6b5740cd",
   "metadata": {},
   "outputs": [],
   "source": []
  }
 ],
 "metadata": {
  "kernelspec": {
   "display_name": "Python 3 (ipykernel)",
   "language": "python",
   "name": "python3"
  },
  "language_info": {
   "codemirror_mode": {
    "name": "ipython",
    "version": 3
   },
   "file_extension": ".py",
   "mimetype": "text/x-python",
   "name": "python",
   "nbconvert_exporter": "python",
   "pygments_lexer": "ipython3",
   "version": "3.9.10"
  }
 },
 "nbformat": 4,
 "nbformat_minor": 5
}
