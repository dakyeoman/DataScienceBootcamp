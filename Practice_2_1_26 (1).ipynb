{
 "cells": [
  {
   "cell_type": "markdown",
   "id": "4d4b52d2",
   "metadata": {
    "id": "4d4b52d2"
   },
   "source": [
    "# 과제 주의사항 필독"
   ]
  },
  {
   "cell_type": "markdown",
   "id": "b0aa9f42",
   "metadata": {
    "id": "b0aa9f42"
   },
   "source": [
    "* **`P2`, `P3`, `P4`, `P5`, `P6`, `P7` 함수의 이름 및 함수의 입력으로 받는 parameter는 바꾸지 말아주세요**\n",
    "* **return 타입 지켜주세요**\n",
    "* **다른 함수나 클래스 등 만드셔도 됩니다. `P2`, `P3`, `P4`, `P5`, `P6`, `P7`함수가 제대로 `return`하기만 하면 됩니다.**\n",
    "* **맨 마지막 셀을 실행시키시면, 채점 결과를 확인하실 수 있습니다**"
   ]
  },
  {
   "cell_type": "markdown",
   "id": "e85266e8",
   "metadata": {
    "id": "e85266e8"
   },
   "source": [
    "# Problem 1.  Memory model\n",
    "\n",
    "* **python에는 메모리 모델과 관련한 여러 내장함수들이 있다.**\n",
    "    1. id(x) : x 변수에 지정된 memory object의 고유한 값(id)를 반환하는 함수이다.  서로 다른 memory object는 동시에 같은 id값을 가질 수 없다.\n",
    "    \n",
    "    2. is : 양 변수가 가리키는 memory object가 같은 것인지를 반환하는 함수이다.\n",
    "    \n",
    "    3.  == : 양 변수가 가리키는 memory object의 값이 같은 것인지를 반환하는 함수이다.\n",
    "           \n",
    "    \n",
    "    참조 : https://docs.python.org/ko/3/library/functions.html#id   https://www.geeksforgeeks.org/difference-operator-python/\n",
    "    \n",
    "    \n",
    "* **아래 셀의 func1함수를 실행하고, 출력 결과를 참조하여 변수 x가 가리키는 memory object와 x에 저장되는 값이 어떻게 변화하는지를 관찰하라.**"
   ]
  },
  {
   "cell_type": "code",
   "execution_count": 1,
   "id": "3073e4d6",
   "metadata": {
    "colab": {
     "base_uri": "https://localhost:8080/"
    },
    "executionInfo": {
     "elapsed": 502,
     "status": "ok",
     "timestamp": 1643014144738,
     "user": {
      "displayName": "­조동규 / 학생 / 데이터사이언스학과",
      "photoUrl": "https://lh3.googleusercontent.com/a/default-user=s64",
      "userId": "05890131432532098216"
     },
     "user_tz": -540
    },
    "id": "3073e4d6",
    "outputId": "ce961e8e-23c5-440a-a4f7-8e17c0c033bb"
   },
   "outputs": [
    {
     "name": "stdout",
     "output_type": "stream",
     "text": [
      "------------ before function call ------------\n",
      "\n",
      "id(x) : 4383086832\n",
      "id(y) : 4383087056\n",
      "id(z) : 4383087632\n",
      "\n",
      "###################### p2 call ######################\n",
      "\n",
      "\n",
      "  id(param1) : 4383087632 \n",
      "  id(x) : 4383087632\n",
      "  param1 == x : True\n",
      "  param1 is x : True\n",
      " \n",
      "  id(param2) : 4383087056 \n",
      "  id(y) : 4383087056\n",
      "  param2 == y : True\n",
      "  param1 is x : True\n",
      " \n",
      "  id(param3) : 4383086832 \n",
      "  id(z) : 4383086832\n",
      "  param3 == z : True\n",
      "  param1 is x : True\n",
      " \n",
      "#####################################################\n",
      "\n",
      "\n",
      "------------ after function call ------------\n",
      "\n",
      "id(x) : 4383086832\n",
      "id(y) : 4383087056\n",
      "id(z) : 4383087632\n",
      "id(w) : 4383087344\n",
      "\n",
      "y : 2640\n",
      "w : 2640\n",
      "y == w : True\n",
      "y is w : False\n"
     ]
    }
   ],
   "source": [
    "## Run this cell. Do not modify \n",
    "\n",
    "def P1(param1 : int, param2 : int, param3 : int) -> int:\n",
    "    x = param1\n",
    "    y = param2\n",
    "    z = param3\n",
    "    ##########  ignore code here  ###########\n",
    "    print(\"###################### p2 call ######################\\n\\n\")\n",
    "    print(f\"  id(param1) : {id(param1)} \\n  id(x) : {id(x)}\\n  param1 == x : {param1 == x}\\n  param1 is x : {param1 is x}\\n \")\n",
    "    print(f\"  id(param2) : {id(param2)} \\n  id(y) : {id(y)}\\n  param2 == y : {param2 == y}\\n  param1 is x : {param2 is y}\\n \")\n",
    "    print(f\"  id(param3) : {id(param3)} \\n  id(z) : {id(z)}\\n  param3 == z : {param3 == z}\\n  param1 is x : {param3 is z}\\n \")\n",
    "    print(f\"#####################################################\\n\\n\")\n",
    "    ########################################\n",
    "    return int((param1 + param2 + param3) / 3)\n",
    "    \n",
    "\n",
    "x = 1250\n",
    "y = 2640\n",
    "z = 4030\n",
    "\n",
    "##########  ignore code here  ###########\n",
    "print(\"------------ before function call ------------\\n\")\n",
    "print(f\"id(x) : {id(x)}\\nid(y) : {id(y)}\\nid(z) : {id(z)}\\n\")\n",
    "########################################\n",
    "\n",
    "\n",
    "w = P1(z, y, x)\n",
    "\n",
    "##########  ignore code here  ###########\n",
    "print(\"------------ after function call ------------\\n\")\n",
    "print(f\"id(x) : {id(x)}\\nid(y) : {id(y)}\\nid(z) : {id(z)}\\nid(w) : {id(w)}\\n\")\n",
    "print(f\"y : {y}\\nw : {w}\\ny == w : {y == w}\\ny is w : {y is w}\")\n",
    "########################################"
   ]
  },
  {
   "cell_type": "markdown",
   "id": "9d3f235e",
   "metadata": {
    "id": "9d3f235e"
   },
   "source": [
    "# Problem 2. Grading function\n",
    "\n",
    "**Given input score between 0.0 to 1.0, return grade according to score table below**\n",
    "\n",
    "| Score | Grade |\n",
    "| --- | --- |\n",
    "| >= 0.9 | A |    \n",
    "| >= 0.8 | B |\n",
    "| >= 0.7 | C |\n",
    "| >= 0.6 | D |\n",
    "| < 0.6 | F |\n",
    "\n",
    "### Condition\n",
    "- If input is not a floating point number or int number between 0.0 to 1.0, return \"Error!\"\n",
    "\n",
    "(reference : python for everybody p.40 exercise 3)"
   ]
  },
  {
   "cell_type": "code",
   "execution_count": 240,
   "id": "74c915ed",
   "metadata": {
    "id": "74c915ed"
   },
   "outputs": [],
   "source": [
    "def P2(x : float) -> str:\n",
    "    \"\"\"     \n",
    "    example\n",
    "    \n",
    "    >>> P2(0.9)\n",
    "    \"A\"\n",
    "    >>> P2(0.65)\n",
    "    \"D\"\n",
    "    >> P2(\"abcde\")\n",
    "    \"Error!\"\n",
    "    \"\"\"\n",
    "    ###### your code #####\n",
    "\n",
    "    if type(x) != float or x < 0.0 or x > 1.0:\n",
    "        return \"Error!\"\n",
    "    \n",
    "    elif x >= 0.9:\n",
    "        return \"A\"\n",
    "    \n",
    "    elif x >= 0.8:\n",
    "        return \"B\"\n",
    "    \n",
    "    elif x >= 0.7:\n",
    "        return \"C\"\n",
    "    \n",
    "    elif x >= 0.6:\n",
    "        return \"D\"\n",
    "    \n",
    "    elif x < 0.6:\n",
    "        return \"F\"\n",
    "    \n",
    "    else:\n",
    "        return \"Error\"\n",
    "    \n",
    "    ######################"
   ]
  },
  {
   "cell_type": "markdown",
   "id": "1d206956",
   "metadata": {
    "id": "1d206956"
   },
   "source": [
    "#### Test case"
   ]
  },
  {
   "cell_type": "code",
   "execution_count": 241,
   "id": "78e846e7",
   "metadata": {
    "id": "78e846e7"
   },
   "outputs": [
    {
     "data": {
      "text/plain": [
       "'B'"
      ]
     },
     "execution_count": 241,
     "metadata": {},
     "output_type": "execute_result"
    }
   ],
   "source": [
    "# 답이 B가 나와야 합니다.\n",
    "P2(0.87)"
   ]
  },
  {
   "cell_type": "code",
   "execution_count": 242,
   "id": "f71f634b",
   "metadata": {
    "id": "f71f634b"
   },
   "outputs": [
    {
     "data": {
      "text/plain": [
       "'F'"
      ]
     },
     "execution_count": 242,
     "metadata": {},
     "output_type": "execute_result"
    }
   ],
   "source": [
    "# 답이 F가 나와야 합니다.\n",
    "P2(1/2)"
   ]
  },
  {
   "cell_type": "code",
   "execution_count": 243,
   "id": "bca5048a",
   "metadata": {
    "id": "bca5048a"
   },
   "outputs": [
    {
     "data": {
      "text/plain": [
       "'Error!'"
      ]
     },
     "execution_count": 243,
     "metadata": {},
     "output_type": "execute_result"
    }
   ],
   "source": [
    "# 답이 Error! 가 나와야 합니다.\n",
    "P2('0.99')"
   ]
  },
  {
   "cell_type": "markdown",
   "id": "a15df437",
   "metadata": {
    "id": "a15df437"
   },
   "source": [
    "# Problem 3. Wage calculator\n",
    "\n",
    "\n",
    "**A 나라의 근로기준법은 다음과 같다.**\n",
    "\n",
    "* 일주일에 0시간 이상 40시간 이하로 일하는 노동자는 시간당 8,500원을 받는다.\n",
    "\n",
    "* 일주일에 40시간 초과 52시간 이하로 일하는 노동자는 시간당 10,000원을 받는다.\n",
    "\n",
    "* 일주일에 52시간 초과 일하는 노동자는 52시간까지는 시간당 10,000원을 받고, 52시간 초과분에 대하여 2,500원의 벌금을 낸다.\n",
    "    \n",
    "**근로 시간을 입력받으면, 임금 10,000원 단위로 출력하는 함수를 만들어라. 단, input은 항상 0부터 84까지의 자연수라고 가정한다.**"
   ]
  },
  {
   "cell_type": "code",
   "execution_count": 195,
   "id": "ddf4f340",
   "metadata": {
    "id": "ddf4f340"
   },
   "outputs": [],
   "source": [
    "def P3(T : int) -> float:\n",
    "    \"\"\"\n",
    "    example\n",
    "    \n",
    "    >>> P3(32)\n",
    "    27.2\n",
    "    >>> P3(48)\n",
    "    48.0\n",
    "    >>> P3(55)\n",
    "    51.25\n",
    "    \"\"\"\n",
    "    ## write your code here\n",
    "    if T >= 0 and T <= 40:\n",
    "        return T * 0.85\n",
    "    elif T > 40 and T <= 52:\n",
    "        return T * 1.0\n",
    "    elif T > 52:\n",
    "        return 52.0 - (T - 52) * 0.25\n",
    "    "
   ]
  },
  {
   "cell_type": "markdown",
   "id": "fba9cc22",
   "metadata": {
    "id": "fba9cc22"
   },
   "source": [
    "#### Test case "
   ]
  },
  {
   "cell_type": "code",
   "execution_count": 47,
   "id": "e5ca24c1",
   "metadata": {
    "id": "e5ca24c1"
   },
   "outputs": [
    {
     "data": {
      "text/plain": [
       "29.75"
      ]
     },
     "execution_count": 47,
     "metadata": {},
     "output_type": "execute_result"
    }
   ],
   "source": [
    "# 답이 29.75가 나와야 합니다.\n",
    "P3(35)"
   ]
  },
  {
   "cell_type": "code",
   "execution_count": 48,
   "id": "42059914",
   "metadata": {
    "id": "42059914"
   },
   "outputs": [
    {
     "data": {
      "text/plain": [
       "1.7"
      ]
     },
     "execution_count": 48,
     "metadata": {},
     "output_type": "execute_result"
    }
   ],
   "source": [
    "# 답이 1.7이 나와야 합니다.\n",
    "P3(2)"
   ]
  },
  {
   "cell_type": "code",
   "execution_count": 52,
   "id": "4b074820",
   "metadata": {
    "id": "4b074820"
   },
   "outputs": [
    {
     "data": {
      "text/plain": [
       "51.75"
      ]
     },
     "execution_count": 52,
     "metadata": {},
     "output_type": "execute_result"
    }
   ],
   "source": [
    "# 답이 51.75가 나와야 합니다.\n",
    "P3(53)"
   ]
  },
  {
   "cell_type": "markdown",
   "id": "836ae4ed",
   "metadata": {
    "id": "836ae4ed"
   },
   "source": [
    "# Problem 4. Debugging\n",
    "\n",
    "**다음과 같이 물의 온도를 입력받아서 물의 상태를 반환하는 함수가 있다. 이 함수는 현재 올바르게 작동하지 않는다**  \n",
    "**이 함수가 올바르게 작동하지 않는 이유를 찾고, 고쳐라.**\n",
    "\n",
    "* **물은 0도 미만에서는 고체, 0도 이상에서 액체이고, 100도 이상에서 기체가 된다.**"
   ]
  },
  {
   "cell_type": "code",
   "execution_count": 196,
   "id": "36fab4c1",
   "metadata": {
    "id": "36fab4c1"
   },
   "outputs": [],
   "source": [
    "def P4(temp : int) -> str:\n",
    "    \"\"\"\n",
    "    example\n",
    "\n",
    "    >>> P4(125)\n",
    "    \"gas\"\n",
    "    >>> P4(50)\n",
    "    \"liquid\"\n",
    "    >>> P4(-270)\n",
    "    \"solid\"\n",
    "    \"\"\"\n",
    "    ## you can modify everything below\n",
    "    if temp >= 100:\n",
    "        state = \"gas\"\n",
    "    elif temp >= 0:\n",
    "        state = \"liquid\"\n",
    "    elif temp < 0:\n",
    "        state = \"solid\"\n",
    "    return state"
   ]
  },
  {
   "cell_type": "markdown",
   "id": "0c65a554",
   "metadata": {
    "id": "0c65a554"
   },
   "source": [
    "#### Test case"
   ]
  },
  {
   "cell_type": "code",
   "execution_count": 59,
   "id": "90993fe8",
   "metadata": {
    "id": "90993fe8"
   },
   "outputs": [
    {
     "data": {
      "text/plain": [
       "'gas'"
      ]
     },
     "execution_count": 59,
     "metadata": {},
     "output_type": "execute_result"
    }
   ],
   "source": [
    "# 답이 \"gas\" 가 나와야 합니다.\n",
    "P4(100000000)"
   ]
  },
  {
   "cell_type": "code",
   "execution_count": 60,
   "id": "36978005",
   "metadata": {
    "id": "36978005"
   },
   "outputs": [
    {
     "data": {
      "text/plain": [
       "'liquid'"
      ]
     },
     "execution_count": 60,
     "metadata": {},
     "output_type": "execute_result"
    }
   ],
   "source": [
    "# 답이 'liquid'가 나와야 합니다.\n",
    "P4(2)"
   ]
  },
  {
   "cell_type": "code",
   "execution_count": 61,
   "id": "dfc5beaf",
   "metadata": {
    "id": "dfc5beaf"
   },
   "outputs": [
    {
     "data": {
      "text/plain": [
       "'solid'"
      ]
     },
     "execution_count": 61,
     "metadata": {},
     "output_type": "execute_result"
    }
   ],
   "source": [
    "# 답이 'solid'가 나와야 합니다.\n",
    "P4(-50)"
   ]
  },
  {
   "cell_type": "markdown",
   "id": "f9927919",
   "metadata": {
    "id": "f9927919"
   },
   "source": [
    "# Problem 5. Even numbers\n",
    "\n",
    "\n",
    "**주어진 함수가 짝수이면 True, 홀수이면 False를 반환하는 함수를 만들어라**\n",
    "\n",
    "* **짝수는 n = 2 * k 꼴, 홀수는 n = 2 * k + 1 꼴로 나타낼 수 있는 정수이다.**\n",
    "* **함수의 입력값은 항상 정수라고 가정한다.**\n",
    "\n",
    "(reference : https://holypython.com/intermediate-python-exercises/exercise-7-conditional-statements/)"
   ]
  },
  {
   "cell_type": "code",
   "execution_count": 197,
   "id": "2f67d143",
   "metadata": {
    "id": "2f67d143"
   },
   "outputs": [],
   "source": [
    "def P5(n : int) -> bool:\n",
    "    \"\"\"\n",
    "    example\n",
    "    \n",
    "    >>> P5(9)\n",
    "    False\n",
    "    >>> P5(50)\n",
    "    True\n",
    "    >>> P5(-81)\n",
    "    False\n",
    "    \"\"\"\n",
    "    ## write your code here\n",
    "    if (n % 2) == 0:\n",
    "        return True\n",
    "    elif (n % 2) == 1:\n",
    "        return False\n",
    "\n"
   ]
  },
  {
   "cell_type": "markdown",
   "id": "4255dd36",
   "metadata": {
    "id": "4255dd36"
   },
   "source": [
    "#### Test case"
   ]
  },
  {
   "cell_type": "code",
   "execution_count": 6,
   "id": "2c4d9c43",
   "metadata": {
    "id": "2c4d9c43"
   },
   "outputs": [
    {
     "data": {
      "text/plain": [
       "True"
      ]
     },
     "execution_count": 6,
     "metadata": {},
     "output_type": "execute_result"
    }
   ],
   "source": [
    "# 답이 True가 나와야 합니다.\n",
    "P5(112)"
   ]
  },
  {
   "cell_type": "code",
   "execution_count": 9,
   "id": "688a4495",
   "metadata": {
    "id": "688a4495"
   },
   "outputs": [
    {
     "data": {
      "text/plain": [
       "False"
      ]
     },
     "execution_count": 9,
     "metadata": {},
     "output_type": "execute_result"
    }
   ],
   "source": [
    "# 답이 False가 나와야 합니다.\n",
    "P5(-35)"
   ]
  },
  {
   "cell_type": "code",
   "execution_count": 10,
   "id": "4dc23fd6",
   "metadata": {
    "id": "4dc23fd6"
   },
   "outputs": [
    {
     "data": {
      "text/plain": [
       "True"
      ]
     },
     "execution_count": 10,
     "metadata": {},
     "output_type": "execute_result"
    }
   ],
   "source": [
    "# 답이 True가 나와야 합니다.\n",
    "P5(0)"
   ]
  },
  {
   "cell_type": "markdown",
   "id": "3de860ca",
   "metadata": {
    "id": "3de860ca"
   },
   "source": [
    "# Problem 6. What date is today?\n",
    "\n",
    "**You are asked to write a function that \"prints\" today's date.**  \n",
    "* **함수의 결과는 다음과 같은 형식으로 출력되어야 합니다** \n",
    "* **The function must print month and day in this format:** \n",
    ">\"Today's date is: Month - Day\"  "
   ]
  },
  {
   "cell_type": "code",
   "execution_count": 198,
   "id": "53d8b97a",
   "metadata": {
    "id": "53d8b97a"
   },
   "outputs": [],
   "source": [
    "def P6(date: str):\n",
    "    '''\n",
    "    Example\n",
    "    if the date is '11/01', the function prints:\n",
    "    \"Today's date is: 11 - 01\" or \"Today's date is: 11-01\" (Both are correct)\n",
    "    '''\n",
    "    ## Do not modify this \n",
    "    month, day= date.split('/')\n",
    "    return \"Today's date is: \" + month + \"-\" + day\n",
    "    \n",
    "    ## HINT: month, day is prepared for you.\n",
    "    ## write your code here (HINT: simply use print)\n"
   ]
  },
  {
   "cell_type": "code",
   "execution_count": 24,
   "id": "XFJXCo-IJ1hC",
   "metadata": {
    "colab": {
     "base_uri": "https://localhost:8080/"
    },
    "executionInfo": {
     "elapsed": 4,
     "status": "ok",
     "timestamp": 1643014539870,
     "user": {
      "displayName": "­조동규 / 학생 / 데이터사이언스학과",
      "photoUrl": "https://lh3.googleusercontent.com/a/default-user=s64",
      "userId": "05890131432532098216"
     },
     "user_tz": -540
    },
    "id": "XFJXCo-IJ1hC",
    "outputId": "14543697-e8ae-4047-cdcd-a6522df76ee3"
   },
   "outputs": [
    {
     "data": {
      "text/plain": [
       "\"Today's date is: 11-11\""
      ]
     },
     "execution_count": 24,
     "metadata": {},
     "output_type": "execute_result"
    }
   ],
   "source": [
    "## 답이 \"Today's date is: 11 - 01\" 혹은 \"Today's date is 11-01\"으로 출력되어야 함\n",
    "date1 = '11/11'\n",
    "P6(date1)"
   ]
  },
  {
   "cell_type": "code",
   "execution_count": 27,
   "id": "55536643",
   "metadata": {
    "colab": {
     "base_uri": "https://localhost:8080/"
    },
    "executionInfo": {
     "elapsed": 3123,
     "status": "ok",
     "timestamp": 1643014545674,
     "user": {
      "displayName": "­조동규 / 학생 / 데이터사이언스학과",
      "photoUrl": "https://lh3.googleusercontent.com/a/default-user=s64",
      "userId": "05890131432532098216"
     },
     "user_tz": -540
    },
    "id": "55536643",
    "outputId": "22ca1967-6e1e-48a3-f866-1ed433622379"
   },
   "outputs": [
    {
     "name": "stdout",
     "output_type": "stream",
     "text": [
      "Enter today's date: (format: 01/26)01/26\n"
     ]
    },
    {
     "data": {
      "text/plain": [
       "\"Today's date is: 01-26\""
      ]
     },
     "execution_count": 27,
     "metadata": {},
     "output_type": "execute_result"
    }
   ],
   "source": [
    "## 답 예시: 11월 1일인 경우 - \"Today's date is: 11 - 01\" 혹은 \"Today's date is 11-01\"으로 출력되어야 함\n",
    "date2 = input('Enter today\\'s date: (format: 01/26)')\n",
    "P6(date2)"
   ]
  },
  {
   "cell_type": "markdown",
   "id": "0fee7141",
   "metadata": {
    "id": "0fee7141"
   },
   "source": [
    "# Problem 7. Day and Season\n",
    "**You are asked to write a function using if/else conditions. Given a date, your code must return which season the month belongs to.** \n",
    "\n",
    "**if/else 문을 사용하여, 입력받은 월(MM형식)의 계절을 return하는 코드를 작성하세요** \n",
    "* December- February(12,1,2): Winter\n",
    "* March- May(3,4,5): Spring\n",
    "* June- August(6,7,8): Summer\n",
    "* September- November(9,10,11): Fall"
   ]
  },
  {
   "cell_type": "code",
   "execution_count": 208,
   "id": "1e5a3c34",
   "metadata": {
    "id": "1e5a3c34"
   },
   "outputs": [],
   "source": [
    "def P7(bmonth: str):\n",
    "    '''   \n",
    "    Example\n",
    "    if the month is '11', the function prints: Fall\n",
    "    Because 11(November) belongs to Fall\n",
    "    '''\n",
    "    ## Write your code here(HINT: USE if/else condition)\n",
    "    ## HINT: the function receives 'str'(string) as input. What should we do?\n",
    "    bmonth = int(bmonth)\n",
    "    if bmonth == 12 or bmonth == 1 or bmonth == 2:\n",
    "        return \"Winter\"\n",
    "    \n",
    "    elif bmonth == 3 or bmonth == 4 or bmonth == 5:\n",
    "        return \"Spring\"\n",
    "    \n",
    "    elif bmonth == 6 or bmonth == 7 or bmonth == 8:\n",
    "        return \"Summer\"\n",
    "    \n",
    "    elif bmonth == 9 or bmonth == 10 or bmonth == 11:\n",
    "        return \"Fall\"\n",
    "    \n",
    "    else:\n",
    "        return \"Error\"\n",
    "    #DO NOT modify the code under\n",
    "    "
   ]
  },
  {
   "cell_type": "code",
   "execution_count": 209,
   "id": "b58da07f",
   "metadata": {
    "colab": {
     "base_uri": "https://localhost:8080/",
     "height": 54
    },
    "executionInfo": {
     "elapsed": 1844,
     "status": "ok",
     "timestamp": 1643014327116,
     "user": {
      "displayName": "­조동규 / 학생 / 데이터사이언스학과",
      "photoUrl": "https://lh3.googleusercontent.com/a/default-user=s64",
      "userId": "05890131432532098216"
     },
     "user_tz": -540
    },
    "id": "b58da07f",
    "outputId": "d937563c-4911-4627-cccb-f98d85afc95c"
   },
   "outputs": [
    {
     "name": "stdout",
     "output_type": "stream",
     "text": [
      "Enter Your Month of Birth(MM): (format: 01, 02, ... 12) 01\n"
     ]
    },
    {
     "data": {
      "text/plain": [
       "'Winter'"
      ]
     },
     "execution_count": 209,
     "metadata": {},
     "output_type": "execute_result"
    }
   ],
   "source": [
    "## 11을 입력했을 경우, 정답으론 Fall이 출력되어야 함\n",
    "bday = input('Enter Your Month of Birth(MM): (format: 01, 02, ... 12) ')\n",
    "P7(bday)"
   ]
  },
  {
   "cell_type": "markdown",
   "id": "417063ec",
   "metadata": {
    "id": "417063ec"
   },
   "source": [
    "# Problem 8. Factorial\n",
    "**you are asked to print the factorial of an integer x** \n",
    "\n",
    "**x의 팩토리얼을 계산하는 코드를 작성하세요** \n",
    "\n",
    "\n",
    "*You can either define a function named factorial.. or \n",
    "(factorial이라는 이름의 함수를 만들거나...)\n",
    "\n",
    "***Hint : you can always \"import\" the factorial function from 'math' module.(factorial은 'math' 모듈에서 import 할 수 있습니다) ***"
   ]
  },
  {
   "cell_type": "code",
   "execution_count": 203,
   "id": "727a9696",
   "metadata": {
    "colab": {
     "base_uri": "https://localhost:8080/"
    },
    "executionInfo": {
     "elapsed": 424,
     "status": "ok",
     "timestamp": 1643015121505,
     "user": {
      "displayName": "­조동규 / 학생 / 데이터사이언스학과",
      "photoUrl": "https://lh3.googleusercontent.com/a/default-user=s64",
      "userId": "05890131432532098216"
     },
     "user_tz": -540
    },
    "id": "727a9696",
    "outputId": "a4fd1398-40ae-4210-f319-9b107debff9f"
   },
   "outputs": [
    {
     "name": "stdout",
     "output_type": "stream",
     "text": [
      "3628800\n"
     ]
    }
   ],
   "source": [
    "## write your code here\n",
    "def factorial(x):\n",
    "    import math\n",
    "    return math.factorial(x)\n",
    "\n",
    "## DO NOT MODIFY THIS\n",
    "x= 10\n",
    "print(factorial(x))"
   ]
  },
  {
   "cell_type": "markdown",
   "id": "7d2ab36d",
   "metadata": {
    "id": "7d2ab36d"
   },
   "source": [
    "## Result\n",
    "### 아래 셀을 실행하시면 채점 결과를 보실 수 있습니다."
   ]
  },
  {
   "cell_type": "code",
   "execution_count": 244,
   "id": "3fd7e501",
   "metadata": {
    "scrolled": true
   },
   "outputs": [
    {
     "name": "stdout",
     "output_type": "stream",
     "text": [
      "\n",
      "P2 채점\n",
      "예제 1번\t입력 : 0.74\t나온 값 : C                   정답\n",
      "예제 2번\t입력 : 0.98\t나온 값 : A                   정답\n",
      "예제 3번\t입력 : 0.5\t나온 값 : F                   정답\n",
      "예제 4번\t입력 : 0.67\t나온 값 : D                   정답\n",
      "예제 5번\t입력 : 0.81\t나온 값 : B                   정답\n",
      "예제 6번\t입력 : 0.01\t나온 값 : F                   정답\n",
      "예제 7번\t입력 : 0.28\t나온 값 : F                   정답\n",
      "예제 8번\t입력 : 1.1\t나온 값 : Error!              정답\n",
      "예제 9번\t입력 : 0.0001\t나온 값 : Error!              정답\n",
      "\n",
      "P3 채점\n",
      "예제 1번\t입력 : 35\t나온 값 : 29.75               정답\n",
      "예제 2번\t입력 : 2\t나온 값 : 1.7                 정답\n",
      "예제 3번\t입력 : 53\t나온 값 : 51.75               정답\n",
      "예제 4번\t입력 : 84\t나온 값 : 44.0                정답\n",
      "예제 5번\t입력 : 0\t나온 값 : 0.0                 정답\n",
      "예제 6번\t입력 : 11\t나온 값 : 9.35                정답\n",
      "예제 7번\t입력 : 23\t나온 값 : 19.55               정답\n",
      "예제 8번\t입력 : 17\t나온 값 : 14.45               정답\n",
      "예제 9번\t입력 : 43\t나온 값 : 43.0                정답\n",
      "예제 10번\t입력 : 4\t나온 값 : 3.4                 정답\n",
      "\n",
      "P4 채점\n",
      "예제 1번\t입력 : 23\t나온 값 : liquid              정답\n",
      "예제 2번\t입력 : 93\t나온 값 : liquid              정답\n",
      "예제 3번\t입력 : -7\t나온 값 : solid               정답\n",
      "예제 4번\t입력 : -49\t나온 값 : solid               정답\n",
      "예제 5번\t입력 : 109\t나온 값 : gas                 정답\n",
      "예제 6번\t입력 : 702\t나온 값 : gas                 정답\n",
      "예제 7번\t입력 : -40\t나온 값 : solid               정답\n",
      "예제 8번\t입력 : 17\t나온 값 : liquid              정답\n",
      "예제 9번\t입력 : -10\t나온 값 : solid               정답\n",
      "예제 10번\t입력 : 11\t나온 값 : liquid              정답\n",
      "\n",
      "P5 채점\n",
      "예제 1번\t입력 : 104\t나온 값 : True                정답\n",
      "예제 2번\t입력 : 197\t나온 값 : False               정답\n",
      "예제 3번\t입력 : -331\t나온 값 : False               정답\n",
      "예제 4번\t입력 : 30\t나온 값 : True                정답\n",
      "예제 5번\t입력 : 348\t나온 값 : True                정답\n",
      "예제 6번\t입력 : 198\t나온 값 : True                정답\n",
      "예제 7번\t입력 : -43\t나온 값 : False               정답\n",
      "예제 8번\t입력 : 303\t나온 값 : False               정답\n",
      "예제 9번\t입력 : 239\t나온 값 : False               정답\n",
      "예제 10번\t입력 : 455\t나온 값 : False               정답\n",
      "\n",
      "P7 채점\n",
      "예제 1번\t입력 : 11\t나온 값 : Fall                정답\n",
      "예제 2번\t입력 : 1\t나온 값 : Winter              정답\n",
      "예제 3번\t입력 : 6\t나온 값 : Summer              정답\n",
      "예제 4번\t입력 : 7\t나온 값 : Summer              정답\n",
      "예제 5번\t입력 : 9\t나온 값 : Fall                정답\n"
     ]
    }
   ],
   "source": [
    "# do not modify\n",
    "def check(func : object, inputs : list, answers : list) -> None:\n",
    "    \"\"\"\n",
    "    func : 채점하고자 하는 함수\n",
    "    inp : 함수에 들어갈 인자, list형식\n",
    "    ans : 답안, list형식\n",
    "    \"\"\"\n",
    "    print(f\"\\n{func.__name__} 채점\")\n",
    "    for ith, (inp, ans) in enumerate(zip(inputs, answers)):\n",
    "        try:\n",
    "            std_ans = func(inp)\n",
    "        except:\n",
    "            print(f\"예제 {ith+1}번째 문제 수행 중 예외가 발생했습니다.\")\n",
    "            raise\n",
    "        else:\n",
    "            if std_ans == ans:\n",
    "                print(f\"예제 {ith+1}번\\t입력 : {inp}\\t나온 값 : {std_ans!s:<20}정답\")\n",
    "            else:\n",
    "                print(f\"예제 {ith+1}번\\t입력 : {inp}\\t나온 값 : {std_ans!s:<20}오답 (정답 : {ans})\")\n",
    "    \n",
    "check(P2, [0.74, 0.98, 0.5, 0.67, 0.81, 0.01, 0.28, 1.1, \"0.0001\"], \\\n",
    "     ['C', 'A', 'F', 'D', 'B', 'F', 'F', 'Error!', 'Error!'])\n",
    "check(P3, [35, 2, 53, 84, 0, 11, 23, 17, 43, 4], \\\n",
    "      [29.75, 1.7, 51.75, 44.0, 0.0, 9.35, 19.55, 14.45, 43.0, 3.4])\n",
    "check(P4, [23, 93, -7, -49, 109, 702, -40, 17, -10, 11], \\\n",
    "     ['liquid','liquid','solid','solid', 'gas', 'gas', 'solid', 'liquid', 'solid', 'liquid'])\n",
    "check(P5, [104, 197, -331, 30, 348, 198, -43, 303, 239, 455], \\\n",
    "      [True, False, False, True, True, True, False, False, False, False])\n",
    "check(P7, [\"11\",'1','6','7','9'],[\"Fall\",'Winter','Summer','Summer','Fall'])"
   ]
  },
  {
   "cell_type": "code",
   "execution_count": null,
   "id": "54a838a9",
   "metadata": {},
   "outputs": [],
   "source": []
  }
 ],
 "metadata": {
  "colab": {
   "collapsed_sections": [],
   "name": "Practice_2_1_26.ipynb",
   "provenance": []
  },
  "kernelspec": {
   "display_name": "Python 3 (ipykernel)",
   "language": "python",
   "name": "python3"
  },
  "language_info": {
   "codemirror_mode": {
    "name": "ipython",
    "version": 3
   },
   "file_extension": ".py",
   "mimetype": "text/x-python",
   "name": "python",
   "nbconvert_exporter": "python",
   "pygments_lexer": "ipython3",
   "version": "3.9.10"
  }
 },
 "nbformat": 4,
 "nbformat_minor": 5
}
