{
 "cells": [
  {
   "cell_type": "markdown",
   "id": "1ffd2642",
   "metadata": {},
   "source": [
    "# Class"
   ]
  },
  {
   "cell_type": "markdown",
   "id": "c3a53200",
   "metadata": {},
   "source": [
    "### Class\n",
    "\n",
    "= Types like int, float, str \n",
    "\n",
    "Method = function in a class\n",
    "\n",
    "### CLASS vs. CLASS OBJECT\n",
    "\n",
    "Class = Blueprint = definition of its \"attributes and method\" \n",
    "\n",
    "Class Object = Class' instance = realization of class\n",
    "\n",
    "+\n",
    "\n",
    "Class 안에 있는 method를 쓸 때는 class가 자동으로 parameter로 들어감:"
   ]
  },
  {
   "cell_type": "code",
   "execution_count": 137,
   "id": "c897ad1d",
   "metadata": {},
   "outputs": [
    {
     "data": {
      "text/plain": [
       "'HYUNG-SIN KIM'"
      ]
     },
     "execution_count": 137,
     "metadata": {},
     "output_type": "execute_result"
    }
   ],
   "source": [
    "name=\"Hyung-Sin Kim\"\n",
    "name.upper()"
   ]
  },
  {
   "cell_type": "markdown",
   "id": "d7a63768",
   "metadata": {},
   "source": [
    "# Lists"
   ]
  },
  {
   "cell_type": "markdown",
   "id": "05c7b81f",
   "metadata": {},
   "source": [
    "### List\n",
    "= Type of object(i.e., class) that contains a list of ORDERED item\n",
    "\n",
    "[expression1, expression2, ..., expressionN]"
   ]
  },
  {
   "cell_type": "code",
   "execution_count": 138,
   "id": "bddc6237",
   "metadata": {},
   "outputs": [
    {
     "data": {
      "text/plain": [
       "'Junghyeon'"
      ]
     },
     "execution_count": 138,
     "metadata": {},
     "output_type": "execute_result"
    }
   ],
   "source": [
    "students = [\"Inhoe\", \"Yesong\", \"Nayeon\", \"Junghyeon\"]\n",
    "students[0]\n",
    "students[3]"
   ]
  },
  {
   "cell_type": "code",
   "execution_count": 139,
   "id": "ad153bd5",
   "metadata": {},
   "outputs": [
    {
     "name": "stdout",
     "output_type": "stream",
     "text": [
      "Inhoe\n"
     ]
    }
   ],
   "source": [
    "goodStudent = students[0]\n",
    "print(goodStudent) "
   ]
  },
  {
   "cell_type": "code",
   "execution_count": 140,
   "id": "43341ed6",
   "metadata": {},
   "outputs": [
    {
     "data": {
      "text/plain": [
       "['Inhoe', 'Kakyeong', 'Nayeon', 'Junghyeon']"
      ]
     },
     "execution_count": 140,
     "metadata": {},
     "output_type": "execute_result"
    }
   ],
   "source": [
    "students[1] = \"Kakyeong\"\n",
    "students"
   ]
  },
  {
   "cell_type": "markdown",
   "id": "a69e8ed8",
   "metadata": {},
   "source": [
    "# Type"
   ]
  },
  {
   "cell_type": "markdown",
   "id": "7288d55a",
   "metadata": {},
   "source": [
    "List can contain ANY TYPE of data, But it's ERROR PRONE: Use SINGLE type of object \n",
    "\n",
    "def average(L: List[float]) -> float"
   ]
  },
  {
   "cell_type": "code",
   "execution_count": 141,
   "id": "a527f779",
   "metadata": {},
   "outputs": [
    {
     "name": "stdout",
     "output_type": "stream",
     "text": [
      "8\n",
      "96\n",
      "[-20, -1, 2, 3, 3, 4, 5, 100]\n",
      "[2, 5, -1, 4, 3, 3, 100, -20, 2, 5, -1, 4, 3, 3, 100, -20]\n",
      "[2, 5, -1, 4, 3, 3, 100, -20, 2, 3, 5]\n"
     ]
    }
   ],
   "source": [
    "A = [2, 5, -1, 4, 3, 3, 100, -20]\n",
    "\n",
    "print(len(A))\n",
    "print(sum(A))\n",
    "print(sorted(A))\n",
    "print(A * 2)\n",
    "print(A + [2, 3, 5])"
   ]
  },
  {
   "cell_type": "code",
   "execution_count": 142,
   "id": "aa2a14d0",
   "metadata": {},
   "outputs": [
    {
     "data": {
      "text/plain": [
       "[2, -1, 4, 3, 3, 100, -20]"
      ]
     },
     "execution_count": 142,
     "metadata": {},
     "output_type": "execute_result"
    }
   ],
   "source": [
    "del A[1]\n",
    "A"
   ]
  },
  {
   "cell_type": "code",
   "execution_count": 143,
   "id": "95f98167",
   "metadata": {},
   "outputs": [
    {
     "data": {
      "text/plain": [
       "True"
      ]
     },
     "execution_count": 143,
     "metadata": {},
     "output_type": "execute_result"
    }
   ],
   "source": [
    "\"Inhoe\" in students"
   ]
  },
  {
   "cell_type": "code",
   "execution_count": 144,
   "id": "8bc68527",
   "metadata": {},
   "outputs": [
    {
     "data": {
      "text/plain": [
       "[-1, 4]"
      ]
     },
     "execution_count": 144,
     "metadata": {},
     "output_type": "execute_result"
    }
   ],
   "source": [
    "#A[i:j-1]\n",
    "a = A[1:3]\n",
    "a\n",
    "\n",
    "#A[i:] or A[:i] or A[:]"
   ]
  },
  {
   "cell_type": "markdown",
   "id": "97dc0f29",
   "metadata": {},
   "source": [
    "### COPY vs. ALIAS "
   ]
  },
  {
   "cell_type": "code",
   "execution_count": 145,
   "id": "4ce2436e",
   "metadata": {},
   "outputs": [
    {
     "name": "stdout",
     "output_type": "stream",
     "text": [
      "['Inhoe', 'Kakyeong', 'Nayeon']\n",
      "['Inhoe', 'Kakyeong', 'Nayeon', 'Junghyeon']\n"
     ]
    }
   ],
   "source": [
    "#COPY: 같은 값을 공유하지만 서로 독립된 개체 \n",
    "students_copy = students[:] \n",
    "del students_copy[-1]\n",
    "print(students_copy)\n",
    "print(students)"
   ]
  },
  {
   "cell_type": "code",
   "execution_count": 146,
   "id": "83bc7e42",
   "metadata": {},
   "outputs": [
    {
     "name": "stdout",
     "output_type": "stream",
     "text": [
      "['Inhoe', 'Kakyeong', 'Nayeon']\n",
      "['Inhoe', 'Kakyeong', 'Nayeon']\n"
     ]
    }
   ],
   "source": [
    "#ALIAS: 같은 리스트(원본)\n",
    "students_alias = students\n",
    "del students_alias[-1]\n",
    "print(students_alias)\n",
    "print(students)"
   ]
  },
  {
   "cell_type": "markdown",
   "id": "3048a719",
   "metadata": {},
   "source": [
    "### List of List"
   ]
  },
  {
   "cell_type": "code",
   "execution_count": 155,
   "id": "768bf11c",
   "metadata": {},
   "outputs": [],
   "source": [
    "students = [[\"2021-11111\", \"inhoe\"], [\"2020-2222\", \"yesong\"], [\"2022-33333\", \"yuyong\"]]"
   ]
  },
  {
   "cell_type": "code",
   "execution_count": 157,
   "id": "9f7efd84",
   "metadata": {},
   "outputs": [
    {
     "data": {
      "text/plain": [
       "['2021-11111', 'inhoe']"
      ]
     },
     "execution_count": 157,
     "metadata": {},
     "output_type": "execute_result"
    }
   ],
   "source": [
    "students[0]"
   ]
  },
  {
   "cell_type": "code",
   "execution_count": 165,
   "id": "c4ff45bc",
   "metadata": {},
   "outputs": [
    {
     "data": {
      "text/plain": [
       "('2020-2222', 'yesong')"
      ]
     },
     "execution_count": 165,
     "metadata": {},
     "output_type": "execute_result"
    }
   ],
   "source": [
    "students[1][0], students[1][1]"
   ]
  },
  {
   "cell_type": "markdown",
   "id": "ac815b90",
   "metadata": {},
   "source": [
    "students.append(\"Kangsuk\")\n",
    "students.count(\"o\")\n",
    "students.index(\"Inhoe\")\n",
    "students.insert(2, \"Sunwoo\")\n",
    "students.pop()) : 마지막 값을 삭제\n",
    "students.remove(\"Sunwoo\")\n",
    "students.sort()\n",
    "students.reverse()\n",
    "students.sort(reverse = True)"
   ]
  },
  {
   "cell_type": "markdown",
   "id": "a481a9b2",
   "metadata": {},
   "source": [
    "# LOOPS"
   ]
  },
  {
   "cell_type": "markdown",
   "id": "e918b354",
   "metadata": {},
   "source": [
    "## For Loop"
   ]
  },
  {
   "cell_type": "code",
   "execution_count": 183,
   "id": "1a779446",
   "metadata": {},
   "outputs": [
    {
     "name": "stdout",
     "output_type": "stream",
     "text": [
      "GSDS offers Math course in Spring 2022\n",
      "GSDS offers Statistics course in Spring 2022\n",
      "GSDS offers Programming course in Spring 2022\n",
      "GSDS offers Computing course in Spring 2022\n",
      "GSDS offers Big data course in Spring 2022\n"
     ]
    }
   ],
   "source": [
    "gsds_courses = [\"Math\", \"Statistics\", \"Programming\", \"Computing\", \"Big data\"]\n",
    "for course in gsds_courses:\n",
    "    print(\"GSDS offers\", course, \"course in Spring 2022\")"
   ]
  },
  {
   "cell_type": "code",
   "execution_count": 168,
   "id": "cb11624a",
   "metadata": {},
   "outputs": [
    {
     "name": "stdout",
     "output_type": "stream",
     "text": [
      "H\n",
      "S\n",
      "K\n"
     ]
    }
   ],
   "source": [
    "name = \"Hyung-Sin Kim\"\n",
    "for ch in name:\n",
    "    if ch.isupper():\n",
    "        print(ch)"
   ]
  },
  {
   "cell_type": "code",
   "execution_count": 174,
   "id": "71eea10c",
   "metadata": {},
   "outputs": [
    {
     "name": "stdout",
     "output_type": "stream",
     "text": [
      "5050\n"
     ]
    }
   ],
   "source": [
    "total = 0\n",
    "for i in range(1, 101):\n",
    "    total = total + i\n",
    "print(total)"
   ]
  },
  {
   "cell_type": "code",
   "execution_count": 179,
   "id": "9fb7cba2",
   "metadata": {},
   "outputs": [
    {
     "name": "stdout",
     "output_type": "stream",
     "text": [
      "30\n",
      "[10, 11, 12, 13, 14, 15]\n"
     ]
    }
   ],
   "source": [
    "values = [10, 11, 12, 13, 14, 15]\n",
    "for num in values:\n",
    "    num = num * 2\n",
    "print(num)\n",
    "\n",
    "print(values) #it doesn't change"
   ]
  },
  {
   "cell_type": "code",
   "execution_count": 184,
   "id": "e909b656",
   "metadata": {},
   "outputs": [
    {
     "data": {
      "text/plain": [
       "[80, 88, 96, 104, 112, 120]"
      ]
     },
     "execution_count": 184,
     "metadata": {},
     "output_type": "execute_result"
    }
   ],
   "source": [
    "for i in range(len(values)):\n",
    "    values[i] = values[i] *2\n",
    "    \n",
    "values"
   ]
  },
  {
   "cell_type": "code",
   "execution_count": 187,
   "id": "5fee9bfb",
   "metadata": {},
   "outputs": [
    {
     "name": "stdout",
     "output_type": "stream",
     "text": [
      "James and Anne migh become a couple\n",
      "James and Star migh become a couple\n",
      "James and Layle migh become a couple\n",
      "James and Hermione migh become a couple\n",
      "Toby and Anne migh become a couple\n",
      "Toby and Star migh become a couple\n",
      "Toby and Layle migh become a couple\n",
      "Toby and Hermione migh become a couple\n",
      "Yanson and Anne migh become a couple\n",
      "Yanson and Star migh become a couple\n",
      "Yanson and Layle migh become a couple\n",
      "Yanson and Hermione migh become a couple\n",
      "Moneh and Anne migh become a couple\n",
      "Moneh and Star migh become a couple\n",
      "Moneh and Layle migh become a couple\n",
      "Moneh and Hermione migh become a couple\n"
     ]
    }
   ],
   "source": [
    "#LOOPS IN LOOPS\n",
    "men = [\"James\", \"Toby\", \"Yanson\", \"Moneh\"]\n",
    "women = [\"Anne\", \"Star\", \"Layle\", \"Hermione\"]\n",
    "for man in men:\n",
    "    for woman in women:\n",
    "        print(man, \"and\", woman, \"migh become a couple\")"
   ]
  },
  {
   "cell_type": "code",
   "execution_count": 186,
   "id": "7b8d390c",
   "metadata": {},
   "outputs": [
    {
     "name": "stdout",
     "output_type": "stream",
     "text": [
      "1 -th student taking this course is Inhoe with id 2021-11\n",
      "2 -th student taking this course is Yesong with id 2021-12\n",
      "3 -th student taking this course is Jaewook with id 2021-13\n",
      "4 -th student taking this course is Yeha with id 2021-14\n",
      "5 -th student taking this course is Suun with id 2021-15\n"
     ]
    }
   ],
   "source": [
    "#PARALLEL LISTS\n",
    "name = [\"Inhoe\", \"Yesong\", \"Jaewook\", \"Yeha\", \"Suun\"]\n",
    "student_id = [\"2021-11\", \"2021-12\", \"2021-13\", \"2021-14\", \"2021-15\"]\n",
    "for i in range(len(name)):\n",
    "    print(i+1, \"-th student taking this course is\", name[i], \"with id\", student_id[i])"
   ]
  },
  {
   "cell_type": "markdown",
   "id": "2115da9b",
   "metadata": {},
   "source": [
    "### While Loops"
   ]
  },
  {
   "cell_type": "code",
   "execution_count": 1,
   "id": "e9d1be1d",
   "metadata": {},
   "outputs": [
    {
     "name": "stdout",
     "output_type": "stream",
     "text": [
      "10\n"
     ]
    }
   ],
   "source": [
    "i = 0\n",
    "while i < 10:\n",
    "    i = i+1\n",
    "print(i)"
   ]
  },
  {
   "cell_type": "code",
   "execution_count": 1,
   "id": "8cca6bc9",
   "metadata": {},
   "outputs": [
    {
     "name": "stdout",
     "output_type": "stream",
     "text": [
      "Enter your MBTI type (or ‘quit’ to exit): quit\n"
     ]
    }
   ],
   "source": [
    "text = \"\"\n",
    "while text != \"Quit\":\n",
    "    text = input(\"Enter your MBTI type (or ‘quit’ to exit): \")\n",
    "    if text == \"ESFP\":\n",
    "        print(\"You are an Entertainer.\")\n",
    "    elif text == \"ENFP\":\n",
    "        print(\"You are a Campaigner.\")\n",
    "    elif text == \"ISFP\":\n",
    "        print(\"You are an Adventurer.\")\n",
    "    elif text == \"quit\":\n",
    "        break\n",
    "    else:\n",
    "        print(\"You are not like SSAK3.\")\n",
    "        "
   ]
  }
 ],
 "metadata": {
  "kernelspec": {
   "display_name": "Python 3 (ipykernel)",
   "language": "python",
   "name": "python3"
  },
  "language_info": {
   "codemirror_mode": {
    "name": "ipython",
    "version": 3
   },
   "file_extension": ".py",
   "mimetype": "text/x-python",
   "name": "python",
   "nbconvert_exporter": "python",
   "pygments_lexer": "ipython3",
   "version": "3.9.10"
  }
 },
 "nbformat": 4,
 "nbformat_minor": 5
}
