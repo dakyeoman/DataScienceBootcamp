{
 "cells": [
  {
   "cell_type": "markdown",
   "metadata": {
    "id": "l9fc2nividyV"
   },
   "source": [
    "# 과제 주의사항 필독"
   ]
  },
  {
   "cell_type": "markdown",
   "metadata": {
    "id": "wCi56wfIY9N7"
   },
   "source": [
    "* **각 `class`와 `P3`, `P4`, `P5` 함수의 이름 및 함수의 입력으로 받는 parameter는 바꾸지 말아주세요**\n",
    "* **return 타입 지켜주세요**\n",
    "* **다른 함수나 클래스 등 만드셔도 됩니다. `P3`, `P4`, `P5` 함수가 제대로 `return`하기만 하면 됩니다.**"
   ]
  },
  {
   "cell_type": "markdown",
   "metadata": {
    "id": "PoNNu8jQiwtG"
   },
   "source": [
    "# Problem 1. 좌표평면 상의 도형\n",
    "\n",
    "다음과 같은 Point class와, Point class 3개를 input으로 받는 Figure class가 있다.\n",
    "평면 위의 세 점이 이룰 수 있는 도형은 점, 선, 삼각형이다.  \n",
    "입력받은 세 점이 이루는 도형이 점이면 \"point\", 선이면 \"line\", 삼각형이면 \"triangle\"을 반환하는 method shape를 구현하시오. \n",
    "\n",
    "**Point class 내에 서로 같음을 비교할 수 있는 \\__eq__ method를 미리 구현해 놓았다. 이를 활용하라**\n",
    "\n",
    "\n",
    "**조건 1)** 점의 좌표는 모두 정수라고 가정한다.  \n",
    "**조건 2)** class 내부 또는 외부에 다른 method, 함수를 구현하고 이용해도 상관없다."
   ]
  },
  {
   "cell_type": "code",
   "execution_count": 1,
   "metadata": {
    "id": "3i_iTKYNitiF"
   },
   "outputs": [],
   "source": [
    "### Do not modify ###\n",
    "class Point:\n",
    "    def __init__(self, x, y):\n",
    "        self.x = x\n",
    "        self.y = y\n",
    "    def __eq__(self, other):\n",
    "        if isinstance(other, Point):\n",
    "            return self.x == other.x and self.y == other.y\n",
    "        return False"
   ]
  },
  {
   "cell_type": "code",
   "execution_count": 2,
   "metadata": {
    "id": "oXxHRPY2Y9OC"
   },
   "outputs": [],
   "source": [
    "### you can modify everthing below ###\n",
    "class Figure:\n",
    "    def __init__(self, p1, p2, p3):\n",
    "        self.p1 = p1\n",
    "        self.p2 = p2\n",
    "        self.p3 = p3\n",
    "\n",
    "    def shape(self):\n",
    "        return"
   ]
  },
  {
   "cell_type": "markdown",
   "metadata": {},
   "source": [
    "#### Testcase "
   ]
  },
  {
   "cell_type": "code",
   "execution_count": 3,
   "metadata": {},
   "outputs": [],
   "source": [
    "Figure(Point(1,1), Point(1,2), Point(4,28)).shape() #정답 : \"triangle\""
   ]
  },
  {
   "cell_type": "code",
   "execution_count": 4,
   "metadata": {},
   "outputs": [],
   "source": [
    "Figure(Point(1,1),Point(2,10),Point(4,28)).shape() #정답 : 'line'"
   ]
  },
  {
   "cell_type": "code",
   "execution_count": 5,
   "metadata": {},
   "outputs": [],
   "source": [
    "Figure(Point(1,1), Point(0,0), Point(0,0)).shape() #정답 : \"line\""
   ]
  },
  {
   "cell_type": "code",
   "execution_count": 6,
   "metadata": {},
   "outputs": [],
   "source": [
    "Figure(Point(-1,1), Point(-1,1), Point(-1,1)).shape() #정답 : \"point\""
   ]
  },
  {
   "cell_type": "markdown",
   "metadata": {
    "id": "1gwSyM_clydk"
   },
   "source": [
    "# Problem 2.  다마고치\n",
    "\n",
    "다음과 같이 행동하는 Tamagochi class를 정의하라.\n",
    "## 2-1.\n",
    "1. Tamagochi class는 다음과 같은 attribute를 가진다.  \n",
    "    * self.name : 길이 10 이하의 문자열이다. 길이가 10을 초과할 경우, 앞 10글자만 받는다.  \n",
    "    * self.hp : 0 이상 10 이하의 정수이다. 0 미만의 음수는 0, 10 이상의 양수는 10으로 고정한다. \n",
    "    \n",
    "    \n",
    "\n",
    "2. Tamagochi class는 다음과 같은 method를 가진다.  \n",
    "    * self.time() : self.hp가 양수면 1 감소시키고, None을 return한다. 0 이면 \"Already dead\"를 return한다. \n",
    "    * self.eat() : self.hp가 10 이하의 양수면 3 증가시키고, 그 값을 반환한다. self.hp가 0이면 \"Already dead\"를 반환한다. self.hp가 10 이상이면, self.hp를 10으로 고정시키고 \"Full hp\"를 return한다.\n",
    "    * self.alive() : self.hp가 0이면 False, 아니면 True를 return한다.\n",
    "    * self.is_stronger(other): 다른 Tamagochi를 입력받아, 그보다 hp가 높으면 True, 같거나 낮으면 False를 return한다.\n",
    "    * self.sound() : self.hp가 0이면 \"...\"을, 아니면 self.name을 return한다.\n",
    "    \n",
    "## 2-2.\n",
    "위에서 정의한 Tamagochi class를 상속받은 ImmortalTamagochi class를 정의하라\n",
    "1. ImmortalTamagochi class의 attribute는 Tamagochi class의 attribute과 동일하다.\n",
    "2. ImmortalTamagochi class의 method는 다음과 같다.\n",
    "    * self.time() : self.hp가 1보다 큰 양수면 1 감소시키고, 1이하의 정수이면, 1로 고정시킨다.\n",
    "    * self.sound() : self.hp가 1이면 \"I'm hungry\", 아니면 self.name을 return한다.\n",
    "    * 나머지 method는 Tamagochi와 같다."
   ]
  },
  {
   "cell_type": "code",
   "execution_count": 7,
   "metadata": {
    "id": "wA2mbuVsY9OF"
   },
   "outputs": [],
   "source": [
    "class Tamagochi:\n",
    "    ## your code here  \n",
    "    def __init__(self, name : str, hp : int) -> None:\n",
    "        ...\n",
    "        \n",
    "    def time(self):\n",
    "        ...\n",
    "        \n",
    "    def eat(self):\n",
    "        ...\n",
    "    def alive(self):\n",
    "        ...\n",
    "        \n",
    "    def is_stronger(self, other):\n",
    "        ...\n",
    "        \n",
    "    def sound(self):\n",
    "        ...\n",
    "class ImmortalTamagochi(Tamagochi):\n",
    "    ## your code here\n",
    "        ..."
   ]
  },
  {
   "cell_type": "markdown",
   "metadata": {},
   "source": [
    "#### Testcase "
   ]
  },
  {
   "cell_type": "code",
   "execution_count": 8,
   "metadata": {},
   "outputs": [],
   "source": [
    "harry = Tamagochi(\"Harry Potter\", 8)  \n",
    "harry.eat()                           # 정답 \"Full hp\""
   ]
  },
  {
   "cell_type": "code",
   "execution_count": 9,
   "metadata": {},
   "outputs": [],
   "source": [
    "voldemort = ImmortalTamagochi(\"TheMightyWizardVoldemort\", 3)\n",
    "voldemort.sound()                    # 정답 'TheMightyW'"
   ]
  },
  {
   "cell_type": "code",
   "execution_count": 10,
   "metadata": {},
   "outputs": [],
   "source": [
    "voldemort = ImmortalTamagochi(\"TheMightyWizardVoldemort\", 3)\n",
    "for _ in range(5):\n",
    "    voldemort.time()\n",
    "voldemort.sound()                 # 정답 \"I'm hungry\""
   ]
  },
  {
   "cell_type": "code",
   "execution_count": 11,
   "metadata": {},
   "outputs": [],
   "source": [
    "hermione = Tamagochi(\"Hermione\", 5)\n",
    "hermione.eat()\n",
    "ron = Tamagochi(\"Ron\", 8)\n",
    "ron.time()\n",
    "hermione.is_stronger(ron)            # 정답 True"
   ]
  },
  {
   "cell_type": "markdown",
   "metadata": {},
   "source": [
    "### Problem 3. Writing a File\n",
    "\n",
    "**You are asked to write a function that creates and writes a line of string into a .txt file named 'P3.txt'.**  \n",
    "\n",
    "Your code must take a string as input.  \n",
    "Upon executing the code, a .txt file named 'P3.txt' must be created.  \n",
    "And the file must contain the string.  "
   ]
  },
  {
   "cell_type": "code",
   "execution_count": null,
   "metadata": {},
   "outputs": [],
   "source": [
    "def P3(line: str):\n",
    "    # Do not modify the code under\n",
    "    from os.path import exists\n",
    "\n",
    "    #Write your code here\n",
    "\n",
    "    \n",
    "    \n",
    "        \n",
    "    #Do not modify the code under \n",
    "    file_exists = exists('P3.txt')\n",
    "    if file_exists:\n",
    "        print(\"Saved Successfully\")\n",
    "    else:\n",
    "        print(\"File does not exist\")\n",
    "    return None"
   ]
  },
  {
   "cell_type": "code",
   "execution_count": 15,
   "metadata": {},
   "outputs": [
    {
     "name": "stdout",
     "output_type": "stream",
     "text": [
      "Saved Successfully\n"
     ]
    }
   ],
   "source": [
    "#Do not modify the code under\n",
    "P3(\"Data Science is Fun.\")"
   ]
  },
  {
   "cell_type": "markdown",
   "metadata": {},
   "source": [
    "### Problem 4. Read and Write \n",
    "\n",
    "![3file.001.jpeg](./3file.001.jpeg)\n",
    "\n",
    "#### You are asked to\n",
    "#### 1) Read a text file named 'P4_input.txt'.\n",
    "#### 2) Add the input string to the end of the saved text, \n",
    "#### 3) Write the text into a file named 'P4_output.txt'.\n",
    "\n",
    "\n",
    "\n",
    "\n",
    "* Your code must take 1 string as input.  \n",
    "* P4_input.txt consists of 4 sentences of text, each sentence ends with a full stop punctuation mark ('.') \n",
    "* You are recommended to use the 'readlines' method \n",
    "* Your function must create a file named 'P4_output.txt'\n",
    "* The function will automatically print the P4_output.txt **IF** it exists."
   ]
  },
  {
   "cell_type": "code",
   "execution_count": 7,
   "metadata": {},
   "outputs": [],
   "source": [
    "def P4(line: str):\n",
    "    # Do not modify the code under\n",
    "\n",
    "    '''\n",
    "    HINT: \n",
    "    1) you must read P4_input.txt and save the contents as a 'list of strings'\n",
    "    P4_input consists of 4 sentences(Each sentence ends with '.')\n",
    "     * You are recommended to use the 'readlines' method\n",
    "    2) then append the input string 'line' to the list of strings.\n",
    "    3) Finally, write the strings to a file named P4_output.txt. \n",
    "    ''' \n",
    "    #####################\n",
    "    #Write your code here\n",
    "    #####################\n",
    "\n",
    "    \n",
    "    \n",
    "            \n",
    "            \n",
    "    ##############################    \n",
    "    #Do not modify The code under.\n",
    "    ##############################\n",
    "    from os.path import exists\n",
    "\n",
    "    file_exists = exists('P4_output.txt')\n",
    "    if file_exists:\n",
    "        print(\"Saved Successfully\")\n",
    "        print(\"The saved lines are---------------- \")\n",
    "        with open('P4_output.txt','r') as output:\n",
    "            readlines= output.read()\n",
    "            print(readlines)\n",
    "    else:\n",
    "        print(\"File does not exist.. Something is wrong.\")\n",
    "    return None"
   ]
  },
  {
   "cell_type": "code",
   "execution_count": 8,
   "metadata": {},
   "outputs": [
    {
     "name": "stdout",
     "output_type": "stream",
     "text": [
      "Saved Successfully\n",
      "The saved lines are---------------- \n",
      "Machine learning (ML) is the study of computer algorithms that can improve automatically through experience and by the use of data.\n",
      "It is seen as a part of artificial intelligence.\n",
      "Machine learning algorithms build a model based on sample data, known as training data, in order to make predictions or decisions without being explicitly programmed to do so.\n",
      "Machine learning algorithms are used in a wide variety of applications, such as in medicine, email filtering, speech recognition, and computer vision, where it is difficult or unfeasible to develop conventional algorithms to perform the needed tasks.\n",
      "What are your thoughts on Machine Learning?\n",
      "\n"
     ]
    }
   ],
   "source": [
    "#Do not modify This\n",
    "P4('What are your thoughts on Machine Learning?\\n')"
   ]
  },
  {
   "cell_type": "markdown",
   "metadata": {},
   "source": [
    "### Problem 5. Reading Three little pigs.\n",
    "\n",
    "**You are asked to read three separate text files of 'Three Little Pigs' and combine it as a single textfile**\n",
    "\n",
    "![3file.002.jpeg](./3file.002.jpeg)\n",
    "* This function receives three filepaths as input.\n",
    "* Each filepath leads to a text file that contains a sentence from the 'Three Little Pigs'\n",
    "* Your task is to combine the three separate textfiles into a single file that contains Three Sentences.\n",
    "    \n",
    "\n",
    "* It is recommended that you use a single **'with'** statement**"
   ]
  },
  {
   "cell_type": "code",
   "execution_count": null,
   "metadata": {},
   "outputs": [],
   "source": [
    "def P5(filepath1:str, filepath2:str, filepath3:str)-> None: \n",
    "    '''\n",
    "    This function receives three filepaths as input.\n",
    "    Each filepath leads to a text file that contains a sentence from the 'Three Little Pigs'\n",
    "    Your task is to combine the three separate textfiles into a single file that\n",
    "    contains Three Sentences.\n",
    "    \n",
    "    It is recommended that you use a single with statement\n",
    "    '''\n",
    "    #####################\n",
    "    #Write Your Code Here\n",
    "    #####################\n",
    "\n",
    "    \n",
    "    \n",
    "            \n",
    "            \n",
    "    ##############################    \n",
    "    #Do not modify The code under.\n",
    "    ##############################\n",
    "    from os.path import exists\n",
    "\n",
    "    file_exists = exists('P5_output.txt')\n",
    "    if file_exists:\n",
    "        print(\"Saved Successfully\")\n",
    "        with open('P5_output.txt') as f:\n",
    "            readlines= f.readlines()\n",
    "            print(\"The file contains {l} lines\".format(l=len(readlines)))\n",
    "    else:\n",
    "        print(\"File does not exist.. Something is wrong.\")\n",
    "    return None\n",
    "        "
   ]
  },
  {
   "cell_type": "code",
   "execution_count": 17,
   "metadata": {},
   "outputs": [
    {
     "name": "stdout",
     "output_type": "stream",
     "text": [
      "Saved Successfully\n",
      "The file contains 3 lines\n"
     ]
    }
   ],
   "source": [
    "#Do not modify This\n",
    "P5(filepath1= \"./P5_input_1.txt\", filepath2= \"./P5_input_2.txt\", filepath3= \"./P5_input_3.txt\")"
   ]
  }
 ],
 "metadata": {
  "colab": {
   "collapsed_sections": [],
   "name": "Practice_4_2.04.ipynb",
   "provenance": []
  },
  "kernelspec": {
   "display_name": "Python 3",
   "language": "python",
   "name": "python3"
  },
  "language_info": {
   "codemirror_mode": {
    "name": "ipython",
    "version": 3
   },
   "file_extension": ".py",
   "mimetype": "text/x-python",
   "name": "python",
   "nbconvert_exporter": "python",
   "pygments_lexer": "ipython3",
   "version": "3.8.3"
  }
 },
 "nbformat": 4,
 "nbformat_minor": 1
}
