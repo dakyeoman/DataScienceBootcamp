{
 "cells": [
  {
   "cell_type": "markdown",
   "id": "a66fcca7",
   "metadata": {},
   "source": [
    "## Arrays in Lists\n",
    "\n",
    "#### Array: numbered sequencce of memory boxes(Grouped datas) ➡️ A[i]\n",
    "- Need FIXED integer length (N) - dynamic한 사이즈 조정 어려움\n",
    "\n",
    "#### Array Resizing\n",
    "- 2 problems due to its fixed length: Memory가 남거나, 넘치거나.\n",
    "- ➡️ 다른 메모리 공간에 \"새로운\" 더 큰 array를 선언하고 남은 공간에 새 element를 추가 \n",
    "- ➡️ New memory boxes and copy operatoin; EXPENSIVE\n",
    "    - To resize fewer, Python list size grows as 0, 4, 8, 16, 35, 46, 58, ...: Mild한 over allocation proportional to the current size"
   ]
  },
  {
   "cell_type": "markdown",
   "id": "afa85caf",
   "metadata": {},
   "source": [
    "# Linked list"
   ]
  },
  {
   "cell_type": "code",
   "execution_count": 14,
   "id": "8a83f683",
   "metadata": {},
   "outputs": [],
   "source": [
    "#a class that contains a single integer value \n",
    "\n",
    "class LinkedNode():\n",
    "    def __init__(self, x):\n",
    "        self.val = x\n",
    "        self.next = None #A special variable for linking to another node"
   ]
  },
  {
   "cell_type": "code",
   "execution_count": 15,
   "id": "544368e7",
   "metadata": {},
   "outputs": [
    {
     "data": {
      "text/plain": [
       "(7, 7)"
      ]
     },
     "execution_count": 15,
     "metadata": {},
     "output_type": "execute_result"
    }
   ],
   "source": [
    "#Two LinkedNodes and link them\n",
    "\n",
    "a = LinkedNode(5)\n",
    "b = LinkedNode(7)\n",
    "a.nex = b # ➡️ Link: a-b grouped\n",
    "\n",
    "b.val, a.nex.val #Same value"
   ]
  },
  {
   "cell_type": "markdown",
   "id": "5faeeb49",
   "metadata": {},
   "source": [
    "##  - Single Linked Lists\n",
    "\n",
    "node(link)가 하나만 존재 ➡️ first node만 알고 있으면 끝까지 갈 수 있음\n"
   ]
  },
  {
   "cell_type": "markdown",
   "id": "2e570c1f",
   "metadata": {},
   "source": [
    "#### e.g. SLList consisting of two basic methods and one variable\n",
    "L =  SLList()\n",
    "\n",
    "L.addFirst(5)\n",
    "L.getFirst() >>> 5\n",
    "\n",
    "L.addFirst(10)\n",
    "L.getFirst() >>> 10\n",
    "\n"
   ]
  },
  {
   "cell_type": "markdown",
   "id": "31310d7c",
   "metadata": {},
   "source": [
    "### + addFirst( ) & getFirst( )"
   ]
  },
  {
   "cell_type": "code",
   "execution_count": 36,
   "id": "5ef70050",
   "metadata": {},
   "outputs": [],
   "source": [
    "class SLList():\n",
    "    def __init__(self) -> None:\n",
    "        self.first = None\n",
    "        self.size = 0 \n",
    "    \n",
    "    def addFirst(self, x:int) -> None:\n",
    "        newFirst = LinkedNode(x)\n",
    "        newFirst.next = self.first\n",
    "        \n",
    "        self.first = newFirst\n",
    "        self.size += 1 \n",
    "        \n",
    "    def getFirst(self) -> int:\n",
    "        if self.first:\n",
    "            return self.first.val\n",
    "        return None\n",
    "    \n",
    "    def getSize(self) -> int:\n",
    "        return self.size"
   ]
  },
  {
   "cell_type": "markdown",
   "id": "655ad647",
   "metadata": {},
   "source": [
    "### + getSize( )"
   ]
  },
  {
   "cell_type": "code",
   "execution_count": 41,
   "id": "397851cb",
   "metadata": {},
   "outputs": [],
   "source": [
    "def getSize(self) -> int: \n",
    "    curNode = self.first \n",
    "    size = 0 # >>> 노드가 끝날 때까지 +1씩 증가\n",
    "    \n",
    "    while curNode != None: #Navigate the whole list\n",
    "        size += 1\n",
    "        curNode = curNode.next\n",
    "    \n",
    "    return size\n",
    "\n",
    "# <!> elements🔼 -> time 🔼 "
   ]
  },
  {
   "cell_type": "markdown",
   "id": "6c9d63de",
   "metadata": {},
   "source": [
    "### + append( )"
   ]
  },
  {
   "cell_type": "code",
   "execution_count": 45,
   "id": "0f1fbc0b",
   "metadata": {},
   "outputs": [],
   "source": [
    "def append(self, x:int) -> None:\n",
    "    self.size += 1\n",
    "    curNode = self.first\n",
    "\n",
    "    while(curNode.next != None):#curNode가 마지막 Node가 되었을 때 \n",
    "        curNode = curNode.next\n",
    "    \n",
    "    curNode.next = LinkedNode(x)\n",
    "# <!> Currnet Node = None 이면 Next가 있을 수 없음 "
   ]
  },
  {
   "cell_type": "markdown",
   "id": "d4986cc4",
   "metadata": {},
   "source": [
    "##### Coner case 최소화: \n",
    "## - Sentinel Node\n",
    "\n",
    "- 항상 Dummy Node(사용X)를 가짐: None 여부 확인할 필요 사라짐\n",
    "- Dummy Node는 항상 firstNode 자리에 있음"
   ]
  },
  {
   "cell_type": "code",
   "execution_count": 51,
   "id": "e6fc50bf",
   "metadata": {},
   "outputs": [],
   "source": [
    "## SLL - Modification w/ Sentinel \n",
    "#all \"first\" -> sentinel.next\n",
    "\n",
    "class SLList():\n",
    "    def __init__(self) -> None:\n",
    "        self.sentinel = LinkedNode(0) #*\n",
    "        self.size = 0 \n",
    "    \n",
    "    def addFirst(self, x:int) -> None:\n",
    "        newFirst = LinkedNode(x)\n",
    "        newFirst.next = self.sentinel.next #*\n",
    "        self.sentinel.next = newFirst #*\n",
    "        self.size += 1 \n",
    "        \n",
    "    def getFirst(self) -> int:\n",
    "        if self.sentinel.next:\n",
    "            return self.sentinel.next.val #*\n",
    "        return None\n",
    "    \n",
    "    def getSize(self) -> int: #Improved with caching\n",
    "        return self.size"
   ]
  },
  {
   "cell_type": "code",
   "execution_count": 57,
   "id": "0c113ed5",
   "metadata": {},
   "outputs": [],
   "source": [
    "#Special case(self.size = None인 경우)가 없는 append 구현\n",
    "\n",
    "def append(self, x:int) -> None:\n",
    "    self.size += 1\n",
    "    curNode = self.sentinel #*Improved w/ sentinel\n",
    "    \n",
    "    while curNode.next != None:\n",
    "        curNode = curNode.next\n",
    "    curNode.next = LinkedNode(x)"
   ]
  },
  {
   "cell_type": "markdown",
   "id": "4e71f116",
   "metadata": {},
   "source": [
    "- Problem: append(): 시간이 오래 걸린다 >>> addFirst()\n",
    "- Solution: Doubly linked list(DLList)\n",
    "        - add another sentinel <at the back>\n",
    "        ➡️ next & prev Link\n",
    "실무에서 Linked List를 쓰면 DDL를 선택."
   ]
  },
  {
   "cell_type": "markdown",
   "id": "a6786983",
   "metadata": {},
   "source": [
    "# Queue \n",
    "### a \"first In & first out\" data Structure \n",
    "➡️ FIFO: First enqueued element is dequeued first\n",
    "\n",
    "### Two methods\n",
    "- enqueue(): add an element to the queue\n",
    "- dequeue(): remove the oldest element\n",
    "\n",
    "유저가 요청한 순서대로 request를 처리"
   ]
  },
  {
   "cell_type": "markdown",
   "id": "ba1e3295",
   "metadata": {},
   "source": [
    "# Stack\n",
    "### a Last In and First Out Data Structure\n",
    "\n",
    "### Two methods\n",
    "- push(): add and element to the stack\n",
    "- pop(): remove the < newest element > from the stack\n",
    "\n",
    "Undo Operation: CTR+Z \n",
    "&\n",
    "Parentheses matching: () {} []"
   ]
  },
  {
   "cell_type": "code",
   "execution_count": null,
   "id": "9fdd5364",
   "metadata": {},
   "outputs": [],
   "source": []
  }
 ],
 "metadata": {
  "kernelspec": {
   "display_name": "Python 3 (ipykernel)",
   "language": "python",
   "name": "python3"
  },
  "language_info": {
   "codemirror_mode": {
    "name": "ipython",
    "version": 3
   },
   "file_extension": ".py",
   "mimetype": "text/x-python",
   "name": "python",
   "nbconvert_exporter": "python",
   "pygments_lexer": "ipython3",
   "version": "3.9.10"
  }
 },
 "nbformat": 4,
 "nbformat_minor": 5
}
