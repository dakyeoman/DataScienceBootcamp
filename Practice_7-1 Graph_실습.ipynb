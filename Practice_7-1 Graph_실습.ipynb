{
 "cells": [
  {
   "cell_type": "code",
   "execution_count": 1,
   "id": "a0661df3",
   "metadata": {},
   "outputs": [],
   "source": [
    "from typing import List"
   ]
  },
  {
   "cell_type": "code",
   "execution_count": 2,
   "id": "55e0c26e",
   "metadata": {},
   "outputs": [],
   "source": [
    "from collections import deque"
   ]
  },
  {
   "cell_type": "markdown",
   "id": "07a97824",
   "metadata": {},
   "source": [
    "### 문제 1. \n",
    "\n",
    "#### 방 안에 퍼지는 가스\n",
    "\n",
    "M x N 사이즈의 방 안에 가스가 퍼지고 있다. 가스는 1초가 지나면 인접한 공간 (위, 아래, 왼쪽, 오른쪽)으로 퍼지고 한번 퍼지기 시작하면 사라지지 않는다. 몇 초 만에 방 전체로 퍼지는지 시간을 계산하여 return 하는 함수 P1을 구현해야 한다.\n",
    "\n",
    "방에 대한 정보로 M x N 리스트인 rooms 를 함수의 파라미터로 받는다.\n",
    "\n",
    "M과 N은 1 이상 자연수이다.\n",
    "\n",
    "리스트는 0 또는 1 또는 -1로 되어있다.\n",
    "\n",
    "0은 가스가 퍼질 수 있는 빈 공간이다.\n",
    "\n",
    "1은 처음(0초일 때) 가스가 퍼지기 시작하는 자리이다. 최소 한 곳 이상에 있고, 동시에 퍼진다.\n",
    "\n",
    "가스는 위, 아래, 왼쪽, 오른쪽으로 퍼질 수 있고, 대각선으로는 퍼질 수 없다. \n",
    "\n",
    "1초마다 퍼진다.\n",
    "\n",
    "-1은 벽이어서 가스가 퍼질 수 없다.\n",
    "\n",
    "방 전체, 즉 0인 곳 모두로 가스가 퍼질 때까지 걸린 시간을 return해야 한다.\n",
    "\n",
    "방 전체로 가스가 퍼질 수 없다면 -1을 return한다.\n",
    "\n",
    "처음(0초)부터 가스가 꽉 찬 상태면 0을 return한다.\n"
   ]
  },
  {
   "cell_type": "markdown",
   "id": "10fb20e6",
   "metadata": {},
   "source": [
    "### 예시1)\n",
    "\n",
    ">P1([[-1, 1],\\\n",
    "             [1, -1]])\n",
    "\n",
    "\n",
    "#### output : 0      \n",
    "\n",
    "(설명: 처음부터 가스가 꽉 차 있으므로 0을 return)\n"
   ]
  },
  {
   "cell_type": "markdown",
   "id": "a6793ccb",
   "metadata": {},
   "source": [
    "### 예시2) \n",
    "\n",
    ">P1([[1, 0]])\n",
    "\n",
    "#### output : 1\n"
   ]
  },
  {
   "cell_type": "markdown",
   "id": "bb2cde4a",
   "metadata": {},
   "source": [
    "### 예시3) \n",
    "\n",
    ">P1([[0,0,0,0,0,0], \\\n",
    "[0,0,0,0,0,0], \\\n",
    "[0,0,0,0,0,0], \\\n",
    "[0,0,0,0,0,1]]) \\\n",
    "\n",
    "\n",
    "#### output : 8\n",
    "\n"
   ]
  },
  {
   "cell_type": "markdown",
   "id": "4aa3e8a0",
   "metadata": {},
   "source": [
    "###  예시4) \n",
    "\n",
    ">P1([[ 0,-1,0,0,0,0], \\\n",
    "[-1, 0,0,0,0,0], \\\n",
    "[ 0, 0,0,0,0,0], \\\n",
    "[ 0, 0,0,0,0,1]])\n",
    "\n",
    "#### output :  -1\n",
    "\n",
    "(설명: 왼쪽 위 구석은 벽 때문에 가스가 도달할 수 없으므로 -1을 return)\n"
   ]
  },
  {
   "cell_type": "code",
   "execution_count": 3,
   "id": "53452097",
   "metadata": {},
   "outputs": [],
   "source": [
    "def P1(rooms: List[list]) -> int:\n",
    "    ##### Write your Code Here #####\n",
    "    \n",
    "    return 0\n",
    "    ##### End of your code #####"
   ]
  },
  {
   "cell_type": "markdown",
   "id": "d776ee57",
   "metadata": {},
   "source": [
    "### 문제 2. \n",
    "\n",
    "#### 섬의 개수\n",
    "\n",
    "\n",
    "M x N 리스트인 world를 함수의 입력으로 받는다. \n",
    "\n",
    "리스트의 원소는 1 또는 0으로 이루어져 있고, 1은 땅, 0은 물을 의미한다. \n",
    "\n",
    "이 때, 인접한 땅으로 연결되어 있고, 물로 둘러 싸여 있는 지역을 섬이라고 하자. \n",
    "\n",
    "섬의 개수를 return 하는 함수를 구현하라.\n",
    "\n",
    "M과 N은 1이상 자연수이다. \n",
    "\n",
    "리스트 바깥은 물이라고 가정한다. \n",
    "\n",
    "인접해 있다는 것은 상, 하, 좌, 우 네 방향 중 한 곳에서 붙어 있는 것이고, 대각선 방향은 인접해 있는 것이 아니다. \n",
    "\n",
    "섬이 아닌 땅은 없다. \n"
   ]
  },
  {
   "cell_type": "markdown",
   "id": "beaab48d",
   "metadata": {},
   "source": [
    "### 예시1) \n",
    "> P2([[1,1,1,1,0], \\\n",
    "    \t [1,0,0,1,0], \\\n",
    "   \t [1,1,0,1,0], \\\n",
    "   \t [1,1,0,0,0]]) \n",
    "     \n",
    "#### output :  1\n",
    "\n"
   ]
  },
  {
   "cell_type": "markdown",
   "id": "582212a5",
   "metadata": {},
   "source": [
    "### 예시2) \n",
    "> P2([[1,1,0,0,0],\\\n",
    "  \t [1,1,0,0,0], \\\n",
    "[0,0,1,1,0],  \\\n",
    "[0,0,0,0,1]])\n",
    "\n",
    "#### output :  3\n",
    "\n",
    "설명: 대각선 방향은 인접해 있는 것이 아니다.\n",
    "\n"
   ]
  },
  {
   "cell_type": "markdown",
   "id": "80b178a9",
   "metadata": {},
   "source": [
    "### 예시3)\n",
    "\n",
    "> P2([[1,1,1,1,1],\\\n",
    " \t [1,1,1,1,1],\\\n",
    "\t [1,1,1,1,1],\\\n",
    "[1,1,1,1,1]])\n",
    "\n",
    "#### output :  1\n",
    "\n",
    "\n"
   ]
  },
  {
   "cell_type": "markdown",
   "id": "3a88d5d5",
   "metadata": {},
   "source": [
    "### 예시4) \n",
    "\n",
    "> P2([[0,0,0,0,0],\\\n",
    "   \t [0,0,0,0,0],\\\n",
    " [0,0,0,0,0],\\\n",
    " [0,0,0,0,0]])\n",
    " \n",
    "#### output :  0\n"
   ]
  },
  {
   "cell_type": "code",
   "execution_count": 4,
   "id": "253bac44",
   "metadata": {},
   "outputs": [],
   "source": [
    "def P2(world: List[list]) -> int:\n",
    "    ##### Write your Code Here #####\n",
    "    \n",
    "    return 0\n",
    "    ##### End of your code #####"
   ]
  }
 ],
 "metadata": {
  "kernelspec": {
   "display_name": "Python 3",
   "language": "python",
   "name": "python3"
  },
  "language_info": {
   "codemirror_mode": {
    "name": "ipython",
    "version": 3
   },
   "file_extension": ".py",
   "mimetype": "text/x-python",
   "name": "python",
   "nbconvert_exporter": "python",
   "pygments_lexer": "ipython3",
   "version": "3.8.8"
  }
 },
 "nbformat": 4,
 "nbformat_minor": 5
}
